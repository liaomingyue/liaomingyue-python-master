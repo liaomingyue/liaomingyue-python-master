{
 "cells": [
  {
   "cell_type": "code",
   "execution_count": 3,
   "metadata": {
    "collapsed": false
   },
   "outputs": [
    {
     "name": "stdout",
     "output_type": "stream",
     "text": [
      "b'hello tensorflow'\n"
     ]
    }
   ],
   "source": [
    "#测试tensorflow环境\n",
    "import tensorflow as tf\n",
    "hello=tf.constant('hello tensorflow')\n",
    "sess=tf.Session()\n",
    "print(sess.run(hello))"
   ]
  },
  {
   "cell_type": "code",
   "execution_count": 5,
   "metadata": {
    "collapsed": false
   },
   "outputs": [
    {
     "name": "stdout",
     "output_type": "stream",
     "text": [
      "42\n"
     ]
    }
   ],
   "source": [
    "a=tf.constant(40)\n",
    "b=tf.constant(2)\n",
    "print(sess.run(a+b))"
   ]
  },
  {
   "cell_type": "code",
   "execution_count": 18,
   "metadata": {
    "collapsed": false
   },
   "outputs": [
    {
     "name": "stdout",
     "output_type": "stream",
     "text": [
      "0 [[ 0.03634739 -0.20030439]] [ 1.23339152]\n",
      "20 [[-0.00643245  0.06949516]] [ 0.4259401]\n",
      "40 [[ 0.06648194  0.17152579]] [ 0.33287841]\n",
      "60 [[ 0.09008671  0.19341317]] [ 0.30873847]\n",
      "80 [[ 0.0971614  0.1983978]] [ 0.30234969]\n",
      "100 [[ 0.09920161  0.19959474]] [ 0.3006365]\n",
      "120 [[ 0.09977775  0.19989458]] [ 0.30017322]\n",
      "140 [[ 0.09993851  0.19997205]] [ 0.30004728]\n",
      "160 [[ 0.09998306  0.19999249]] [ 0.30001292]\n",
      "180 [[ 0.09999534  0.19999799]] [ 0.30000353]\n",
      "200 [[ 0.09999871  0.19999944]] [ 0.30000097]\n"
     ]
    }
   ],
   "source": [
    "#Tensorflow的基本用法\n",
    "import tensorflow as tf\n",
    "import numpy as np\n",
    "#使用numpy随机生成100个数据\n",
    "x_data=np.float32(np.random.rand(2,100))\n",
    "y_data=np.dot([0.100,0.200],x_data)+0.300\n",
    "\n",
    "#构造一个线性模型\n",
    "b=tf.Variable(tf.zeros([1]))\n",
    "w=tf.Variable(tf.random_uniform([1,2],-1.0,1.0))\n",
    "y=tf.matmul(w,x_data)+b\n",
    "\n",
    "#最小化方差\n",
    "loss=tf.reduce_mean(tf.square(y-y_data))\n",
    "optimizer=tf.train.GradientDescentOptimizer(0.5)\n",
    "train=optimizer.minimize(loss)\n",
    "\n",
    "#初始化变量\n",
    "# init=tf.initialize_all_variables()\n",
    "init=tf.global_variables_initializer()\n",
    "\n",
    "#启动图\n",
    "sess=tf.Session()\n",
    "sess.run(init)\n",
    "\n",
    "#模拟平面:\n",
    "for step in range(0,201):\n",
    "    sess.run(train)\n",
    "    if step % 20 ==0:\n",
    "        print(step,sess.run(w),sess.run(b))"
   ]
  },
  {
   "cell_type": "code",
   "execution_count": 22,
   "metadata": {
    "collapsed": false
   },
   "outputs": [
    {
     "data": {
      "text/plain": [
       "<tf.Tensor 'Const_14:0' shape=(1, 2) dtype=float32>"
      ]
     },
     "execution_count": 22,
     "metadata": {},
     "output_type": "execute_result"
    }
   ],
   "source": [
    "#构建图\n",
    "import tensorflow as tf\n",
    "# 创建一个 常量 op, 返回值 'matrix1' 代表这个 1x2 矩阵.\n",
    "matrix1=tf.constant([[3.,3.]])\n",
    "matrix1"
   ]
  },
  {
   "cell_type": "code",
   "execution_count": 24,
   "metadata": {
    "collapsed": false
   },
   "outputs": [
    {
     "data": {
      "text/plain": [
       "<tf.Tensor 'Const_16:0' shape=(2, 1) dtype=float32>"
      ]
     },
     "execution_count": 24,
     "metadata": {},
     "output_type": "execute_result"
    }
   ],
   "source": [
    "# 创建另外一个 常量 op, 返回值 'matrix2' 代表这个 2x1 矩阵.\n",
    "matrix2 = tf.constant([[2.],[2.]])\n",
    "matrix2"
   ]
  },
  {
   "cell_type": "code",
   "execution_count": 26,
   "metadata": {
    "collapsed": false
   },
   "outputs": [
    {
     "data": {
      "text/plain": [
       "<tf.Tensor 'MatMul_8:0' shape=(1, 1) dtype=float32>"
      ]
     },
     "execution_count": 26,
     "metadata": {},
     "output_type": "execute_result"
    }
   ],
   "source": [
    "# 创建一个矩阵乘法 matmul op , 把 'matrix1' 和 'matrix2' 作为输入.\n",
    "# 返回值 'product' 代表矩阵乘法的结果.\n",
    "product = tf.matmul(matrix1, matrix2)\n",
    "product"
   ]
  },
  {
   "cell_type": "code",
   "execution_count": 28,
   "metadata": {
    "collapsed": false
   },
   "outputs": [
    {
     "name": "stdout",
     "output_type": "stream",
     "text": [
      "[[ 12.]]\n"
     ]
    }
   ],
   "source": [
    "import tensorflow as tf\n",
    "\n",
    "# 建图\n",
    "matrix1 = tf.constant([[3., 3.]])\n",
    "matrix2 = tf.constant([[2.],[2.]])\n",
    "\n",
    "product = tf.matmul(matrix1, matrix2)\n",
    "\n",
    "# 启动图\n",
    "sess = tf.Session()\n",
    "\n",
    "# 取值\n",
    "result = sess.run(product)\n",
    "print(result)\n",
    "\n",
    "sess.close()"
   ]
  }
 ],
 "metadata": {
  "kernelspec": {
   "display_name": "Python 3",
   "language": "python",
   "name": "python3"
  },
  "language_info": {
   "codemirror_mode": {
    "name": "ipython",
    "version": 3
   },
   "file_extension": ".py",
   "mimetype": "text/x-python",
   "name": "python",
   "nbconvert_exporter": "python",
   "pygments_lexer": "ipython3",
   "version": "3.6.0"
  }
 },
 "nbformat": 4,
 "nbformat_minor": 2
}
