{
 "cells": [
  {
   "cell_type": "markdown",
   "metadata": {},
   "source": [
    "# 文档\n",
    "- github:https://github.com/gunthercox/ChatterBot\n",
    "- 文档：http://chatterbot.readthedocs.io/en/stable/quickstart.html"
   ]
  },
  {
   "cell_type": "markdown",
   "metadata": {},
   "source": [
    "# 快速上手"
   ]
  },
  {
   "cell_type": "code",
   "execution_count": 3,
   "metadata": {},
   "outputs": [
    {
     "name": "stdout",
     "output_type": "stream",
     "text": [
      "List Trainer: [####################] 100%\n",
      "I'm doing great\n"
     ]
    }
   ],
   "source": [
    "#!/usr/bin/env python\n",
    "# -*- coding: utf-8 -*-\n",
    "# @Date    : 2018-05-09 13:09:17\n",
    "# @Author  : quincy\n",
    "# @Email   ：yanqiang@cyou-inc.com\n",
    "# 导入包\n",
    "from chatterbot import ChatBot\n",
    "\n",
    "# 实例化一个chatbot\n",
    "chatbot = ChatBot(\"Quincy Qiang\")\n",
    "\n",
    "# 训练你的机器人\n",
    "from chatterbot.trainers import ListTrainer\n",
    "conversation = [\n",
    "    \"Hello\",\n",
    "    \"Hi there\",\n",
    "    \"How are you doing\",\n",
    "    \"I'm doing great\",\n",
    "    \"This is good to hear\",\n",
    "    \"Thank you\",\n",
    "    \"You're welcome\"\n",
    "]\n",
    "chatbot.set_trainer(ListTrainer)\n",
    "chatbot.train(conversation)\n",
    "\n",
    "# 获取回应\n",
    "response = chatbot.get_response(\"How are you doing\")\n",
    "print(response)\n"
   ]
  },
  {
   "cell_type": "code",
   "execution_count": null,
   "metadata": {},
   "outputs": [
    {
     "name": "stdout",
     "output_type": "stream",
     "text": [
      "Type something to begin...\n",
      "hello\n",
      "hello\n",
      "hi\n",
      "The current time is 01:56 PM\n",
      "how are you\n",
      "The current time is 01:56 PM\n",
      "nihao\n",
      "The current time is 01:56 PM\n",
      "hello\n",
      "hi\n",
      "hi\n",
      "The current time is 01:56 PM\n",
      "wel\n",
      "The current time is 01:56 PM\n",
      "well\n",
      "The current time is 01:56 PM\n",
      "你好\n",
      "The current time is 01:56 PM\n",
      "time\n",
      "The current time is 01:56 PM\n",
      "math 1+1\n",
      "The current time is 01:56 PM\n"
     ]
    }
   ],
   "source": [
    "from chatterbot import ChatBot\n",
    "\n",
    "\n",
    "# Uncomment the following lines to enable verbose logging\n",
    "# import logging\n",
    "# logging.basicConfig(level=logging.INFO)\n",
    "\n",
    "# Create a new instance of a ChatBot\n",
    "bot = ChatBot(\n",
    "    \"Terminal\",\n",
    "    storage_adapter=\"chatterbot.storage.SQLStorageAdapter\",\n",
    "    logic_adapters=[\n",
    "        \"chatterbot.logic.MathematicalEvaluation\",\n",
    "        \"chatterbot.logic.TimeLogicAdapter\",\n",
    "        \"chatterbot.logic.BestMatch\"\n",
    "    ],\n",
    "    input_adapter=\"chatterbot.input.TerminalAdapter\",\n",
    "    output_adapter=\"chatterbot.output.TerminalAdapter\",\n",
    "    database=\"../database.db\"\n",
    ")\n",
    "\n",
    "print(\"Type something to begin...\")\n",
    "\n",
    "# The following loop will execute each time the user enters input\n",
    "while True:\n",
    "    try:\n",
    "        # We pass None to this method because the parameter\n",
    "        # is not used by the TerminalAdapter\n",
    "        bot_input = bot.get_response(None)\n",
    "\n",
    "    # Press ctrl-c or ctrl-d on the keyboard to exit\n",
    "    except (KeyboardInterrupt, EOFError, SystemExit):\n",
    "        break"
   ]
  },
  {
   "cell_type": "markdown",
   "metadata": {},
   "source": [
    "# 数学问题与实践问题"
   ]
  },
  {
   "cell_type": "code",
   "execution_count": 2,
   "metadata": {},
   "outputs": [
    {
     "name": "stdout",
     "output_type": "stream",
     "text": [
      "4 + 9 = 13\n",
      "The current time is 02:00 PM\n"
     ]
    }
   ],
   "source": [
    "# -*- coding: utf-8 -*-\n",
    "from chatterbot import ChatBot\n",
    "\n",
    "\n",
    "bot = ChatBot(\n",
    "    \"Math & Time Bot\",\n",
    "    logic_adapters=[\n",
    "        \"chatterbot.logic.MathematicalEvaluation\",\n",
    "        \"chatterbot.logic.TimeLogicAdapter\"\n",
    "    ],\n",
    "    input_adapter=\"chatterbot.input.VariableInputTypeAdapter\",\n",
    "    output_adapter=\"chatterbot.output.OutputAdapter\"\n",
    ")\n",
    "\n",
    "# Print an example of getting one math based response\n",
    "response = bot.get_response(\"What is 4 + 9?\")\n",
    "print(response)\n",
    "\n",
    "# Print an example of getting one time based response\n",
    "response = bot.get_response(\"What time is it?\")\n",
    "print(response)"
   ]
  },
  {
   "cell_type": "markdown",
   "metadata": {},
   "source": [
    "# 参考"
   ]
  },
  {
   "cell_type": "markdown",
   "metadata": {},
   "source": [
    "https://blog.csdn.net/hfutdog/article/details/78155467"
   ]
  },
  {
   "cell_type": "code",
   "execution_count": 5,
   "metadata": {},
   "outputs": [
    {
     "name": "stdout",
     "output_type": "stream",
     "text": [
      "ai.yml Training: [####################] 100%\n",
      "botprofile.yml Training: [####################] 100%\n",
      "conversations.yml Training: [####################] 100%\n",
      "emotion.yml Training: [####################] 100%\n",
      "food.yml Training: [####################] 100%\n",
      "gossip.yml Training: [####################] 100%\n",
      "greetings.yml Training: [####################] 100%\n",
      "history.yml Training: [####################] 100%\n",
      "humor.yml Training: [####################] 100%\n",
      "literature.yml Training: [####################] 100%\n",
      "money.yml Training: [####################] 100%\n",
      "movies.yml Training: [####################] 100%\n",
      "politics.yml Training: [####################] 100%\n",
      "psychology.yml Training: [####################] 100%\n",
      "science.yml Training: [####################] 100%\n",
      "sports.yml Training: [####################] 100%\n",
      "trivia.yml Training: [####################] 100%\n",
      "(1) user:你好\n",
      "你好\n",
      "(2) user:开玩笑\n",
      "你听说过在安第斯山脉的山羊的人？这是巴AAAAA D。\n",
      "(3) user:在干嘛\n",
      "我在烤蛋糕.\n",
      "(4) user:break\n"
     ]
    }
   ],
   "source": [
    "from chatterbot import ChatBot\n",
    "from chatterbot.trainers import ChatterBotCorpusTrainer\n",
    "mybot=ChatBot(\"quincy\")\n",
    "mybot.set_trainer(ChatterBotCorpusTrainer)\n",
    "\n",
    "# 使用默认中文语料训练\n",
    "mybot.train(\"chatterbot.corpus.chinese\")\n",
    "lineCounter = 1  \n",
    "# 开始对话  \n",
    "while True:\n",
    "    user_input=input(\"(\" + str(lineCounter) + \") user:\")\n",
    "    if user_input =='break':\n",
    "        break\n",
    "    print(chatbot.get_response(user_input))  \n",
    "    lineCounter += 1  "
   ]
  }
 ],
 "metadata": {
  "kernelspec": {
   "display_name": "Python 3",
   "language": "python",
   "name": "python3"
  },
  "language_info": {
   "codemirror_mode": {
    "name": "ipython",
    "version": 3
   },
   "file_extension": ".py",
   "mimetype": "text/x-python",
   "name": "python",
   "nbconvert_exporter": "python",
   "pygments_lexer": "ipython3",
   "version": "3.6.4"
  }
 },
 "nbformat": 4,
 "nbformat_minor": 2
}
