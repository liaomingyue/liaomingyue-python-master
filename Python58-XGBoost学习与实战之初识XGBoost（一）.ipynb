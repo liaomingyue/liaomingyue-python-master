{
 "cells": [
  {
   "cell_type": "markdown",
   "metadata": {},
   "source": [
    "# 学习目标\n",
    "\n",
    "1. 从数学原理到项目实战\n",
    "    - XGBoost参数调优需要了解模型基本原理\n",
    "    - 参照Kaggle竞赛任务进行讲解\n",
    "\n",
    "2. 举一反三，可以更快更好学习其他机器学习模型\n",
    "    - 从机器学习模型的一般原理，到XGBoost的特别之处\n",
    "\n",
    "# XGBoost\n",
    "1. XGBoost：eXtreme Gradient Boosting\n",
    "    - 应用机器学习领域一个强有力的工具\n",
    "    - Gradient Boosting Machine（GBM）的优化实现、快速有效\n",
    "2. 很多数据柯旭竞赛中取得了很好的成绩\n",
    "    - Rank 1，KDD Cup 2016 Competition\n",
    "    - Rank 1,Dato Truly Native(Kaggle)\n",
    "    - Rank1 CERN LHCb Experiment Flavor of Physics Competion"
   ]
  },
  {
   "cell_type": "markdown",
   "metadata": {},
   "source": [
    "#  环境准备\n",
    "1. Python环境：python3.6\n",
    "2. Python工具包:\n",
    "    - 科学计算（numpy,SciPy,pandas）,机器学习（scikit-learn）、图形绘制（matplotlib）\n",
    "    - Anaconda,集成了上面所有的环境\n",
    "    - Jupyter NoteBook\n",
    "3. XGBoost安装\n",
    "4. graphviz 安装（可选）\n",
    "    - 可视化工具包，显示树结构"
   ]
  },
  {
   "cell_type": "markdown",
   "metadata": {},
   "source": [
    "# 第一讲：初识XGBoost"
   ]
  },
  {
   "cell_type": "markdown",
   "metadata": {},
   "source": [
    "## XGBoost\n",
    "- XGBoost：eXtreme Gradient Boosting\n",
    "- Gradient Boosting Machines(GBM) 的C++优化实现，快速有效\n",
    "\n",
    "–深盟分布式机器学习开源平台(Distributed Machine Learning Community， DMLC)的一个分支\n",
    "\n",
    "–DMLC也开包含流行的深度学习库mxnet\n",
    "\n",
    "The name xgboost, though, actually refers to the engineering goal to\n",
    "push the limit of computations resources for boosted tree algorithms.\n",
    "Which is the reason why many people use xgboost."
   ]
  },
  {
   "cell_type": "markdown",
   "metadata": {},
   "source": [
    "## Gradient Boosting Machines\n",
    "- Machines：机器学习模型\n",
    "– 对数据的产生规律建模\n",
    "- Boosting Machines\n",
    "– 弱学习器组合成强学习器／模型\n",
    "- Gradient Boosting Machines\n",
    "– 根据梯度下降方式组合弱学习器"
   ]
  },
  {
   "cell_type": "markdown",
   "metadata": {},
   "source": [
    "## 与XGBoost的第一次亲密接触"
   ]
  },
  {
   "cell_type": "markdown",
   "metadata": {},
   "source": [
    "![](https://upload-images.jianshu.io/upload_images/1531909-7205a4b46048e54f.png?imageMogr2/auto-orient/strip%7CimageView2/2/w/700)"
   ]
  },
  {
   "cell_type": "markdown",
   "metadata": {},
   "source": [
    "## 确定任务\n",
    "    - 数据集：UCI机器学习库的Mushroom 数据集(XGBoost安装包中的demo数据)\n",
    "    - 任务：根据蘑菇的22个特征判断蘑菇是否有毒\n",
    "    - 总样本数：8124\n",
    "        - 可食用：4208，51.8%\n",
    "        - 有毒：3916，48.2%\n",
    "        - 训练样本：6513\n",
    "        - 测试样本：1611\n",
    "    - 特征：Demo中22维特征经过处理，变成了126维特征量\n",
    "\n",
    "    – xgboost/demo/data/featmap.txt 文件中有特征映射说明\n",
    "\n",
    "    http://archive.ics.uci.edu/ml/machine-learning-databases/mushroo/"
   ]
  },
  {
   "cell_type": "markdown",
   "metadata": {},
   "source": [
    "# 1_Mushroom_baseline"
   ]
  },
  {
   "cell_type": "markdown",
   "metadata": {},
   "source": [
    "## 导入必要的工具包"
   ]
  },
  {
   "cell_type": "code",
   "execution_count": 3,
   "metadata": {},
   "outputs": [],
   "source": [
    "import xgboost as xgb\n",
    "# 计算分类正确率\n",
    "from sklearn.metrics import accuracy_score"
   ]
  },
  {
   "cell_type": "markdown",
   "metadata": {},
   "source": [
    "## 数据读取\n",
    "XGBoost可以加载libsvm格式的文本数据，libsvm的文件格式（稀疏特征）如下：\n",
    "\n",
    "1 101:1.2 102:0.03\n",
    "\n",
    "0 1:2.1 10001:300 10002:400\n",
    "...\n",
    "\n",
    "每一行表示一个样本，第一行的开头的“1”是样本的标签。“101”和“102”为特征索引，'1.2'和'0.03' 为特征的值。\n",
    "在两类分类中，用“1”表示正样本，用“0” 表示负样本。也支持[0,1]表示概率用来做标签，表示为正样本的概率。\n",
    "\n",
    "下面的示例数据需要我们通过一些蘑菇的若干属性判断这个品种是否有毒。\n",
    "UCI数据描述：http://archive.ics.uci.edu/ml/machine-learning-databases/mushroom/ ，\n",
    "每个样本描述了蘑菇的22个属性，比如形状、气味等等（将22维原始特征用加工后变成了126维特征，\n",
    "并存为libsvm格式)，然后给出了这个蘑菇是否可食用。其中6513个样本做训练，1611个样本做测试。\n",
    "\n",
    "XGBoost加载的数据存储在对象DMatrix中\n",
    "XGBoost自定义了一个数据矩阵类DMatrix，优化了存储和运算速度\n",
    "DMatrix文档：http://xgboost.readthedocs.io/en/latest/python/python_api.html"
   ]
  },
  {
   "cell_type": "code",
   "execution_count": 5,
   "metadata": {},
   "outputs": [],
   "source": [
    "# read in data\n",
    "my_workpath = 'files/data/python58-data/'\n",
    "dtrain = xgb.DMatrix(my_workpath+'agaricus.txt.train')\n",
    "dtest = xgb.DMatrix(my_workpath+'agaricus.txt.test')"
   ]
  },
  {
   "cell_type": "markdown",
   "metadata": {},
   "source": [
    "查看数据情况"
   ]
  },
  {
   "cell_type": "code",
   "execution_count": 7,
   "metadata": {},
   "outputs": [
    {
     "data": {
      "text/plain": [
       "127"
      ]
     },
     "execution_count": 7,
     "metadata": {},
     "output_type": "execute_result"
    }
   ],
   "source": [
    "dtrain.num_col()"
   ]
  },
  {
   "cell_type": "code",
   "execution_count": 9,
   "metadata": {},
   "outputs": [
    {
     "data": {
      "text/plain": [
       "6513"
      ]
     },
     "execution_count": 9,
     "metadata": {},
     "output_type": "execute_result"
    }
   ],
   "source": [
    "dtrain.num_row()"
   ]
  },
  {
   "cell_type": "code",
   "execution_count": 11,
   "metadata": {},
   "outputs": [
    {
     "data": {
      "text/plain": [
       "1611"
      ]
     },
     "execution_count": 11,
     "metadata": {},
     "output_type": "execute_result"
    }
   ],
   "source": [
    "dtest.num_row()"
   ]
  },
  {
   "cell_type": "markdown",
   "metadata": {},
   "source": [
    "## 训练参数设置"
   ]
  },
  {
   "cell_type": "markdown",
   "metadata": {},
   "source": [
    "- max_depth： 树的最大深度。缺省值为6，取值范围为：[1,∞]\n",
    "- eta：为了防止过拟合，更新过程中用到的收缩步长。在每次提升计算之后，算法会直接获得新特征的权重。 \n",
    " eta通过缩减特征的权重使提升计算过程更加保守。缺省值为0.3，取值范围为：[0,1]\n",
    "- silent：取0时表示打印出运行时信息，取1时表示以缄默方式运行，不打印运行时信息。缺省值为0\n",
    "- objective： 定义学习任务及相应的学习目标，“binary:logistic” 表示二分类的逻辑回归问题，输出为概率。\n",
    "\n",
    "- 其他参数取默认值。"
   ]
  },
  {
   "cell_type": "code",
   "execution_count": 13,
   "metadata": {},
   "outputs": [
    {
     "data": {
      "text/plain": [
       "{'eta': 1, 'max_depth': 2, 'objective': 'binary:logistic', 'silent': 0}"
      ]
     },
     "execution_count": 13,
     "metadata": {},
     "output_type": "execute_result"
    }
   ],
   "source": [
    "# 设置参数\n",
    "param={'max_depth':2,'eta':1,'silent':0,'objective':'binary:logistic'}\n",
    "param"
   ]
  },
  {
   "cell_type": "markdown",
   "metadata": {},
   "source": [
    "## 训练模型"
   ]
  },
  {
   "cell_type": "code",
   "execution_count": 22,
   "metadata": {},
   "outputs": [
    {
     "name": "stdout",
     "output_type": "stream",
     "text": [
      "0.022146545997031808\n"
     ]
    }
   ],
   "source": [
    "# 设置boosting迭代计算次数\n",
    "num_round = 2\n",
    "\n",
    "# 开始时间\n",
    "import time\n",
    "start_time = time.clock()\n",
    "\n",
    "# 训练模型\n",
    "bst = xgb.train(params=param,dtrain=dtrain,num_boost_round= num_round)\n",
    "\n",
    "# 结束时间\n",
    "end_time = time.clock()\n",
    "print(end_time-start_time)"
   ]
  },
  {
   "cell_type": "markdown",
   "metadata": {},
   "source": [
    "查看模型在训练集上的分类性能\n",
    "\n",
    "XGBoost预测的输出是概率。这里蘑菇分类是一个二类分类问题，输出值是样本为第一类的概率。 我们需要将概率值转换为0或1。"
   ]
  },
  {
   "cell_type": "code",
   "execution_count": 24,
   "metadata": {},
   "outputs": [
    {
     "name": "stdout",
     "output_type": "stream",
     "text": [
      "Train Accuracy 97.77%\n"
     ]
    }
   ],
   "source": [
    "train_preds = bst.predict(dtrain)\n",
    "train_predictions = [round(value) for value in train_preds]\n",
    "y_train = dtrain.get_label()\n",
    "train_accuracy = accuracy_score(y_train, train_predictions)\n",
    "print(\"Train Accuracy %.2f%%\" % (train_accuracy*100.00))"
   ]
  },
  {
   "cell_type": "markdown",
   "metadata": {},
   "source": [
    "## 测试\n",
    "模型训练好后，可以用训练好的模型对测试数据进行预测"
   ]
  },
  {
   "cell_type": "code",
   "execution_count": 26,
   "metadata": {},
   "outputs": [
    {
     "data": {
      "text/plain": [
       "array([0.28583017, 0.9239239 , 0.28583017, ..., 0.9239239 , 0.05169873,\n",
       "       0.9239239 ], dtype=float32)"
      ]
     },
     "execution_count": 26,
     "metadata": {},
     "output_type": "execute_result"
    }
   ],
   "source": [
    "# make predictions\n",
    "preds=bst.predict(dtest)\n",
    "preds"
   ]
  },
  {
   "cell_type": "markdown",
   "metadata": {},
   "source": [
    "检查模型在测试集上的正确率\n",
    "XGBoost预测的输出是概率，输出值是样本为第一类的概率。我们需要将概率值转换为0或1。"
   ]
  },
  {
   "cell_type": "code",
   "execution_count": 27,
   "metadata": {},
   "outputs": [],
   "source": [
    "predictions=[round(value) for value in preds]"
   ]
  },
  {
   "cell_type": "code",
   "execution_count": 28,
   "metadata": {},
   "outputs": [
    {
     "name": "stdout",
     "output_type": "stream",
     "text": [
      "Test Accuracy 97.83%\n"
     ]
    }
   ],
   "source": [
    "y_test=dtest.get_label()\n",
    "test_accuracy=accuracy_score(y_test,predictions)\n",
    "print(\"Test Accuracy %.2f%%\" % (test_accuracy*100.00))"
   ]
  },
  {
   "cell_type": "markdown",
   "metadata": {},
   "source": [
    "## 模型可视化\n",
    "调用XGBoost工具包中的plot_tree，在显示 要可视化模型需要安装graphviz软件包（请见预备0）\n",
    "\n",
    "plot_tree（）的三个参数：\n",
    "\n",
    "模型\n",
    "树的索引，从0开始\n",
    "显示方向，缺省为竖直，‘LR'是水平方向"
   ]
  },
  {
   "cell_type": "code",
   "execution_count": 30,
   "metadata": {},
   "outputs": [
    {
     "data": {
      "image/png": "[encoded data removed]",
      "text/plain": [
       "<Figure size 432x288 with 1 Axes>"
      ]
     },
     "metadata": {},
     "output_type": "display_data"
    }
   ],
   "source": [
    "from matplotlib import pyplot\n",
    "import graphviz\n",
    "xgb.plot_tree(bst, num_trees=0, rankdir= 'LR' )\n",
    "pyplot.show()\n",
    "#xgb.plot_tree(bst,num_trees=1, rankdir= 'LR' )\n",
    "#pyplot.show()\n",
    "#xgb.to_graphviz(bst,num_trees=0)\n",
    "#xgb.to_graphviz(bst,num_trees=1)"
   ]
  }
 ],
 "metadata": {
  "kernelspec": {
   "display_name": "Python 3",
   "language": "python",
   "name": "python3"
  },
  "language_info": {
   "codemirror_mode": {
    "name": "ipython",
    "version": 3
   },
   "file_extension": ".py",
   "mimetype": "text/x-python",
   "name": "python",
   "nbconvert_exporter": "python",
   "pygments_lexer": "ipython3",
   "version": "3.6.4"
  }
 },
 "nbformat": 4,
 "nbformat_minor": 2
}
