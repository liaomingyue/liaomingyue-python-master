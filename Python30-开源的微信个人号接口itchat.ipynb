{
 "cells": [
  {
   "cell_type": "markdown",
   "metadata": {},
   "source": [
    "itchat是一个开源的微信个人号接口\n",
    "\n",
    "[itchat文档地址](https://itchat.readthedocs.io/zh/latest/)"
   ]
  },
  {
   "cell_type": "code",
   "execution_count": 1,
   "metadata": {},
   "outputs": [
    {
     "name": "stdout",
     "output_type": "stream",
     "text": [
      "█\r"
     ]
    },
    {
     "name": "stderr",
     "output_type": "stream",
     "text": [
      "Getting uuid of QR code.\n",
      "Downloading QR code.\n",
      "Please scan the QR code to log in.\n",
      "Please press confirm on your phone.\n",
      "Loading the contact, this may take a little while.\n",
      "Login successfully as 致Great\n"
     ]
    }
   ],
   "source": [
    "import itchat\n",
    "itchat.auto_login()"
   ]
  },
  {
   "cell_type": "code",
   "execution_count": 7,
   "metadata": {},
   "outputs": [
    {
     "data": {
      "text/plain": [
       "[<User: {'MemberList': <ContactList: []>, 'Uin': 0, 'UserName': '@91d6d4d4e540fa9c1d9a8ee94f9dda110782981e5a8c6c8efc9ded843529c8b3', 'NickName': '话歪之地', 'HeadImgUrl': '/cgi-bin/mmwebwx-bin/webwxgeticon?seq=664628405&username=@91d6d4d4e540fa9c1d9a8ee94f9dda110782981e5a8c6c8efc9ded843529c8b3&skey=@crypt_6d9d76c8_3e1256fa8483ea3431d3209ead1a9523', 'ContactFlag': 8195, 'MemberCount': 0, 'RemarkName': '熊高雄', 'HideInputBarFlag': 0, 'Sex': 1, 'Signature': '同名微博', 'VerifyFlag': 0, 'OwnerUin': 0, 'PYInitial': 'HWZD', 'PYQuanPin': 'huawaizhide', 'RemarkPYInitial': 'XGX', 'RemarkPYQuanPin': 'xionggaoxiong', 'StarFriend': 0, 'AppAccountFlag': 0, 'Statues': 0, 'AttrStatus': 98405, 'Province': '浙江', 'City': '杭州', 'Alias': '', 'SnsFlag': 177, 'UniFriend': 0, 'DisplayName': '', 'ChatRoomId': 0, 'KeyWord': '', 'EncryChatRoomId': '', 'IsOwner': 0}>]"
      ]
     },
     "execution_count": 7,
     "metadata": {},
     "output_type": "execute_result"
    }
   ],
   "source": [
    "# 获取自己的用户信息，返回自己的属性字典\n",
    "itchat.search_friends()\n",
    "\n",
    "# 获取任何一项等于name键值的用户\n",
    "itchat.search_friends(name='熊高雄')\n"
   ]
  },
  {
   "cell_type": "code",
   "execution_count": 8,
   "metadata": {},
   "outputs": [
    {
     "data": {
      "text/plain": [
       "<ItchatReturnValue: {'BaseResponse': {'Ret': 0, 'ErrMsg': '请求成功', 'RawMsg': '请求成功'}, 'MsgID': '1245236198013665260', 'LocalID': '15031282981899'}>"
      ]
     },
     "execution_count": 8,
     "metadata": {},
     "output_type": "execute_result"
    }
   ],
   "source": [
    "itchat.send('你撤回了什么', toUserName='@91d6d4d4e540fa9c1d9a8ee94f9dda110782981e5a8c6c8efc9ded843529c8b3')#熊高雄"
   ]
  },
  {
   "cell_type": "code",
   "execution_count": 44,
   "metadata": {},
   "outputs": [
    {
     "data": {
      "text/plain": [
       "<ItchatReturnValue: {'BaseResponse': {'Ret': 0, 'ErrMsg': '请求成功', 'RawMsg': '请求成功'}, 'MsgID': '5486567055566135429', 'LocalID': '15030459881768'}>"
      ]
     },
     "execution_count": 44,
     "metadata": {},
     "output_type": "execute_result"
    }
   ],
   "source": [
    "itchat.send('我能自动给你回复', toUserName='@22900b04b63c55b45cd5d61908ed7690ec64d34e171e00e0aba6a1cd88ff74f2')"
   ]
  },
  {
   "cell_type": "code",
   "execution_count": null,
   "metadata": {},
   "outputs": [
    {
     "name": "stderr",
     "output_type": "stream",
     "text": [
      "Getting uuid of QR code.\n",
      "Downloading QR code.\n",
      "Please scan the QR code to log in.\n",
      "Log in time out, reloading QR code.\n",
      "Getting uuid of QR code.\n",
      "Downloading QR code.\n",
      "Please scan the QR code to log in.\n",
      "Log in time out, reloading QR code.\n",
      "Getting uuid of QR code.\n",
      "Downloading QR code.\n",
      "Please scan the QR code to log in.\n"
     ]
    }
   ],
   "source": [
    "import itchat, time\n",
    "\n",
    "@itchat.msg_register(['Text', 'Map', 'Card', 'Note', 'Sharing'])\n",
    "def text_reply(msg):\n",
    "    itchat.send('%s: %s'%(msg['Type'], msg['我叫明月']), msg['FromUserName'])\n",
    "\n",
    "@itchat.msg_register(['Picture', 'Recording', 'Attachment', 'Video'])\n",
    "def download_files(msg):\n",
    "    fileDir = '%s%s'%(msg['Type'], int(time.time()))\n",
    "    msg['Text'](fileDir)\n",
    "    itchat.send('%s received'%msg['Type'], msg['FromUserName'])\n",
    "    itchat.send('@%s@%s'%('img' if msg['Type'] == 'Picture' else 'fil', fileDir), msg['FromUserName'])\n",
    "\n",
    "@itchat.msg_register('Friends')\n",
    "def add_friend(msg):\n",
    "    itchat.add_friend(**msg['Text'])\n",
    "    itchat.get_contract()\n",
    "    itchat.send_msg('Nice to meet you!', msg['RecommendInfo']['UserName'])\n",
    "\n",
    "@itchat.msg_register('Text', isGroupChat = True)\n",
    "def text_reply(msg):\n",
    "    if msg['isAt']:\n",
    "        itchat.send(u'@%s\\u2005I received: %s'%(msg['ActualNickName'], msg['Content']), msg['FromUserName'])\n",
    "\n",
    "itchat.auto_login()\n",
    "itchat.run()"
   ]
  },
  {
   "cell_type": "code",
   "execution_count": 12,
   "metadata": {},
   "outputs": [
    {
     "name": "stderr",
     "output_type": "stream",
     "text": [
      "Please press confirm on your phone.\n",
      "Loading the contact, this may take a little while.\n",
      "Login successfully as 致Great\n",
      "Start auto replying.\n",
      "LOG OUT!\n"
     ]
    }
   ],
   "source": [
    "# -*-encoding:utf-8-*-\n",
    "import os\n",
    "import re\n",
    "import shutil\n",
    "import time\n",
    "import itchat\n",
    "from itchat.content import *\n",
    "\n",
    "# 说明：可以撤回的有文本文字、语音、视频、图片、位置、名片、分享、附件\n",
    "\n",
    "# {msg_id:(msg_from,msg_to,msg_time,msg_time_rec,msg_type,msg_content,msg_share_url)}\n",
    "msg_dict = {}\n",
    "\n",
    "# 文件存储临时目录\n",
    "rev_tmp_dir = \"data\"\n",
    "if not os.path.exists(rev_tmp_dir): os.mkdir(rev_tmp_dir)\n",
    "\n",
    "# 表情有一个问题 | 接受信息和接受note的msg_id不一致 巧合解决方案\n",
    "face_bug = None\n",
    "\n",
    "\n",
    "# 将接收到的消息存放在字典中，当接收到新消息时对字典中超时的消息进行清理 | 不接受不具有撤回功能的信息\n",
    "# [TEXT, PICTURE, MAP, CARD, SHARING, RECORDING, ATTACHMENT, VIDEO, FRIENDS, NOTE]\n",
    "@itchat.msg_register([TEXT, PICTURE, MAP, CARD, SHARING, RECORDING, ATTACHMENT, VIDEO])\n",
    "def handler_receive_msg(msg):\n",
    "    global face_bug\n",
    "    # 获取的是本地时间戳并格式化本地时间戳 e: 2017-04-21 21:30:08\n",
    "    msg_time_rec = time.strftime(\"%Y-%m-%d %H:%M:%S\", time.localtime())\n",
    "    # 消息ID\n",
    "    msg_id = msg['MsgId']\n",
    "    # 消息时间\n",
    "    msg_time = msg['CreateTime']\n",
    "    # 消息发送人昵称 | 这里也可以使用RemarkName备注　但是自己或者没有备注的人为None\n",
    "    msg_from = (itchat.search_friends(userName=msg['FromUserName']))[\"NickName\"]\n",
    "    # 消息内容\n",
    "    msg_content = None\n",
    "    # 分享的链接\n",
    "    msg_share_url = None\n",
    "    if msg['Type'] == 'Text' \\\n",
    "            or msg['Type'] == 'Friends':\n",
    "        msg_content = msg['Text']\n",
    "    elif msg['Type'] == 'Recording' \\\n",
    "            or msg['Type'] == 'Attachment' \\\n",
    "            or msg['Type'] == 'Video' \\\n",
    "            or msg['Type'] == 'Picture':\n",
    "        msg_content = r\"\" + msg['FileName']\n",
    "        # 保存文件\n",
    "        msg['Text'](rev_tmp_dir + msg['FileName'])\n",
    "    elif msg['Type'] == 'Card':\n",
    "        msg_content = msg['RecommendInfo']['NickName'] + r\" 的名片\"\n",
    "    elif msg['Type'] == 'Map':\n",
    "        x, y, location = re.search(\n",
    "            \"<location x=\\\"(.*?)\\\" y=\\\"(.*?)\\\".*label=\\\"(.*?)\\\".*\", msg['OriContent']).group(1, 2, 3)\n",
    "        if location is None:\n",
    "            msg_content = r\"纬度->\" + x.__str__() + \" 经度->\" + y.__str__()\n",
    "        else:\n",
    "            msg_content = r\"\" + location\n",
    "    elif msg['Type'] == 'Sharing':\n",
    "        msg_content = msg['Text']\n",
    "        msg_share_url = msg['Url']\n",
    "    face_bug = msg_content\n",
    "    # 更新字典\n",
    "    msg_dict.update(\n",
    "        {\n",
    "            msg_id: {\n",
    "                \"msg_from\": msg_from, \"msg_time\": msg_time, \"msg_time_rec\": msg_time_rec,\n",
    "                \"msg_type\": msg[\"Type\"],\n",
    "                \"msg_content\": msg_content, \"msg_share_url\": msg_share_url\n",
    "            }\n",
    "        }\n",
    "    )\n",
    "\n",
    "\n",
    "# 收到note通知类消息，判断是不是撤回并进行相应操作\n",
    "@itchat.msg_register([NOTE])\n",
    "def send_msg_helper(msg):\n",
    "    global face_bug\n",
    "    if re.search(r\"\\<\\!\\[CDATA\\[.*撤回了一条消息\\]\\]\\>\", msg['Content']) is not None:\n",
    "        # 获取消息的id\n",
    "        old_msg_id = re.search(\"\\<msgid\\>(.*?)\\<\\/msgid\\>\", msg['Content']).group(1)\n",
    "        old_msg = msg_dict.get(old_msg_id, {})\n",
    "        if len(old_msg_id) < 11:\n",
    "            itchat.send_file(rev_tmp_dir + face_bug, toUserName='filehelper')\n",
    "            os.remove(rev_tmp_dir + face_bug)\n",
    "        else:\n",
    "            msg_body = \"告诉你一个秘密~\" + \"\\n\" \\\n",
    "                       + old_msg.get('msg_from') + \" 撤回了 \" + old_msg.get(\"msg_type\") + \" 消息\" + \"\\n\" \\\n",
    "                       + old_msg.get('msg_time_rec') + \"\\n\" \\\n",
    "                       + \"撤回了什么 ⇣\" + \"\\n\" \\\n",
    "                       + r\"\" + old_msg.get('msg_content')\n",
    "            # 如果是分享存在链接\n",
    "            if old_msg['msg_type'] == \"Sharing\": msg_body += \"\\n就是这个链接➣ \" + old_msg.get('msg_share_url')\n",
    "\n",
    "            # 将撤回消息发送到文件助手\n",
    "            itchat.send(msg_body, toUserName='filehelper')\n",
    "            # 有文件的话也要将文件发送回去\n",
    "            if old_msg[\"msg_type\"] == \"Picture\" \\\n",
    "                    or old_msg[\"msg_type\"] == \"Recording\" \\\n",
    "                    or old_msg[\"msg_type\"] == \"Video\" \\\n",
    "                    or old_msg[\"msg_type\"] == \"Attachment\":\n",
    "                file = '@fil@%s' % (rev_tmp_dir + old_msg['msg_content'])\n",
    "                itchat.send(msg=file, toUserName='filehelper')\n",
    "                os.remove(rev_tmp_dir + old_msg['msg_content'])\n",
    "            # 删除字典旧消息\n",
    "            msg_dict.pop(old_msg_id)\n",
    "\n",
    "\n",
    "if __name__ == '__main__':\n",
    "    itchat.auto_login(hotReload=True,enableCmdQR=2)\n",
    "    itchat.run()\n"
   ]
  },
  {
   "cell_type": "code",
   "execution_count": 13,
   "metadata": {},
   "outputs": [
    {
     "name": "stderr",
     "output_type": "stream",
     "text": [
      "Please press confirm on your phone.\n",
      "Loading the contact, this may take a little while.\n",
      "Login successfully as 致Great\n",
      "Start auto replying.\n",
      "LOG OUT!\n"
     ]
    }
   ],
   "source": [
    "import os\n",
    "import re\n",
    "import shutil\n",
    "import time\n",
    "import itchat\n",
    "from itchat.content import *\n",
    "\n",
    "# {msg_id:(msg_from,msg_to,msg_time,msg_time_touser,msg_type,msg_content,msg_url)}\n",
    "msg_dict = {}\n",
    "\n",
    "#ClearTimeOutMsg用于清理消息字典，把超时消息清理掉\n",
    "#为减少资源占用，此函数只在有新消息动态时调用\n",
    "def ClearTimeOutMsg():\n",
    "    if msg_dict.__len__() > 0:\n",
    "        for msgid in list(msg_dict): #由于字典在遍历过程中不能删除元素，故使用此方法\n",
    "            if time.time() - msg_dict.get(msgid, None)[\"msg_time\"] > 130.0: #超时两分钟\n",
    "                item = msg_dict.pop(msgid)\n",
    "                #print(\"超时的消息：\", item['msg_content'])\n",
    "                #可下载类消息，并删除相关文件\n",
    "                if item['msg_type'] == \"Picture\" \\\n",
    "                        or item['msg_type'] == \"Recording\" \\\n",
    "                        or item['msg_type'] == \"Video\" \\\n",
    "                        or item['msg_type'] == \"Attachment\":\n",
    "                    print(\"要删除的文件：\", item['msg_content'])\n",
    "                    os.remove(item['msg_content'])\n",
    "\n",
    "#将接收到的消息存放在字典中，当接收到新消息时对字典中超时的消息进行清理\n",
    "#没有注册note（通知类）消息，通知类消息一般为：红包 转账 消息撤回提醒等，不具有撤回功能\n",
    "@itchat.msg_register([TEXT, PICTURE, MAP, CARD, SHARING, RECORDING, ATTACHMENT, VIDEO, FRIENDS])\n",
    "def Revocation(msg):\n",
    "    mytime = time.localtime()  # 这儿获取的是本地时间\n",
    "    #获取用于展示给用户看的时间 2017/03/03 13:23:53\n",
    "    msg_time_touser = mytime.tm_year.__str__() \\\n",
    "                      + \"/\" + mytime.tm_mon.__str__() \\\n",
    "                      + \"/\" + mytime.tm_mday.__str__() \\\n",
    "                      + \" \" + mytime.tm_hour.__str__() \\\n",
    "                      + \":\" + mytime.tm_min.__str__() \\\n",
    "                      + \":\" + mytime.tm_sec.__str__()\n",
    "\n",
    "    msg_id = msg['MsgId'] #消息ID\n",
    "    msg_time = msg['CreateTime'] #消息时间\n",
    "    msg_from = itchat.search_friends(userName=msg['FromUserName'])['NickName'] #消息发送人昵称\n",
    "    msg_type = msg['Type'] #消息类型\n",
    "    msg_content = None #根据消息类型不同，消息内容不同\n",
    "    msg_url = None #分享类消息有url\n",
    "    #图片 语音 附件 视频，可下载消息将内容下载暂存到当前目录\n",
    "    if msg['Type'] == 'Text':\n",
    "        msg_content = msg['Text']\n",
    "    elif msg['Type'] == 'Picture':\n",
    "        msg_content = msg['FileName']\n",
    "        msg['Text'](msg['FileName'])\n",
    "    elif msg['Type'] == 'Card':\n",
    "        msg_content = msg['RecommendInfo']['NickName'] + r\" 的名片\"\n",
    "    elif msg['Type'] == 'Map':\n",
    "        x, y, location = re.search(\"<location x=\\\"(.*?)\\\" y=\\\"(.*?)\\\".*label=\\\"(.*?)\\\".*\", msg['OriContent']).group(1,\n",
    "                                                                                                                    2,\n",
    "                                                                                                                    3)\n",
    "        if location is None:\n",
    "            msg_content = r\"纬度->\" + x.__str__() + \" 经度->\" + y.__str__()\n",
    "        else:\n",
    "            msg_content = r\"\" + location\n",
    "    elif msg['Type'] == 'Sharing':\n",
    "        msg_content = msg['Text']\n",
    "        msg_url = msg['Url']\n",
    "    elif msg['Type'] == 'Recording':\n",
    "        msg_content = msg['FileName']\n",
    "        msg['Text'](msg['FileName'])\n",
    "    elif msg['Type'] == 'Attachment':\n",
    "        msg_content = r\"\" + msg['FileName']\n",
    "        msg['Text'](msg['FileName'])\n",
    "    elif msg['Type'] == 'Video':\n",
    "        msg_content = msg['FileName']\n",
    "        msg['Text'](msg['FileName'])\n",
    "    elif msg['Type'] == 'Friends':\n",
    "        msg_content = msg['Text']\n",
    "\n",
    "    #更新字典\n",
    "    # {msg_id:(msg_from,msg_time,msg_time_touser,msg_type,msg_content,msg_url)}\n",
    "    msg_dict.update(\n",
    "        {msg_id: {\"msg_from\": msg_from, \"msg_time\": msg_time, \"msg_time_touser\": msg_time_touser, \"msg_type\": msg_type,\n",
    "                  \"msg_content\": msg_content, \"msg_url\": msg_url}})\n",
    "    #清理字典\n",
    "    ClearTimeOutMsg()\n",
    "\n",
    "#收到note类消息，判断是不是撤回并进行相应操作\n",
    "@itchat.msg_register([NOTE])\n",
    "def SaveMsg(msg):\n",
    "    # print(msg)\n",
    "    #创建可下载消息内容的存放文件夹，并将暂存在当前目录的文件移动到该文件中\n",
    "    if not os.path.exists(\".\\\\Revocation\\\\\"):\n",
    "        os.mkdir(\".\\\\Revocation\\\\\")\n",
    "\n",
    "    if re.search(r\"\\<replacemsg\\>\\<\\!\\[CDATA\\[.*撤回了一条消息\\]\\]\\>\\<\\/replacemsg\\>\", msg['Content']) != None:\n",
    "        old_msg_id = re.search(\"\\<msgid\\>(.*?)\\<\\/msgid\\>\", msg['Content']).group(1)\n",
    "        old_msg = msg_dict.get(old_msg_id, {})\n",
    "        #print(old_msg_id, old_msg)\n",
    "        msg_send = r\"您的好友：\" \\\n",
    "                   + old_msg.get('msg_from', None) \\\n",
    "                   + r\"  在 [\" + old_msg.get('msg_time_touser', None) \\\n",
    "                   + r\"], 撤回了一条 [\"+old_msg['msg_type']+\"] 消息, 内容如下:\" \\\n",
    "                   + old_msg.get('msg_content', None)\n",
    "        if old_msg['msg_type'] == \"Sharing\":\n",
    "            msg_send += r\", 链接: \" \\\n",
    "                        + old_msg.get('msg_url', None)\n",
    "        elif old_msg['msg_type'] == 'Picture' \\\n",
    "                or old_msg['msg_type'] == 'Recording' \\\n",
    "                or old_msg['msg_type'] == 'Video' \\\n",
    "                or old_msg['msg_type'] == 'Attachment':\n",
    "            msg_send += r\", 存储在当前目录下Revocation文件夹中\"\n",
    "            shutil.move(old_msg['msg_content'], r\".\\\\Revocation\\\\\")\n",
    "        itchat.send(msg_send, toUserName='filehelper') #将撤回消息的通知以及细节发送到文件助手\n",
    "\n",
    "        msg_dict.pop(old_msg_id)\n",
    "        ClearTimeOutMsg()\n",
    "\n",
    "if __name__ == '__main__':\n",
    "    itchat.auto_login(hotReload=True)\n",
    "    itchat.run()"
   ]
  },
  {
   "cell_type": "code",
   "execution_count": 6,
   "metadata": {},
   "outputs": [],
   "source": [
    "#itchat生成微信用户图像\n",
    "import itchat\n",
    "import math\n",
    "import os\n",
    "import PIL.Image as Image\n",
    "\n",
    "#给auto_login方法传入值为真的hotReload.即使程序关闭，一定时间内重新开启也可以不用重新扫码\n",
    "itchat.auto_login(hotReload=True)\n",
    "friends = itchat.get_friends(update=True)\n",
    "\n",
    "#下载所有好友的头像图片\n",
    "num = 0\n",
    "for i in friends:\n",
    "    img = itchat.get_head_img(i[\"UserName\"])\n",
    "    with open('E:/images/headImg/' + str(num) + \".jpg\",'wb') as f:\n",
    "        f.write(img)\n",
    "        f.close()\n",
    "        num += 1\n"
   ]
  },
  {
   "cell_type": "code",
   "execution_count": 8,
   "metadata": {},
   "outputs": [
    {
     "name": "stderr",
     "output_type": "stream",
     "text": [
      "LOG OUT!\n",
      "LOG OUT!\n",
      "LOG OUT!\n"
     ]
    }
   ],
   "source": [
    "#获取文件夹内的文件个数\n",
    "length = len(os.listdir('E:/images/headImg/'))\n",
    "#根据总面积求每一个的大小\n",
    "each_size = int(math.sqrt(float(810*810)/length))\n",
    "#每一行可以放多少个\n",
    "lines = int(810/each_size)\n",
    "#生成白色背景新图片\n",
    "image = Image.new('RGBA', (810, 810),'white')\n",
    "x = 0\n",
    "y = 0\n",
    "for i in range(0,length):\n",
    "    \n",
    "    img = Image.open('E:/images/headImg/' + str(i) + \".jpg\")\n",
    "   \n",
    "    img = img.resize((each_size, each_size), Image.ANTIALIAS) #resize image with high-quality\n",
    "    image.paste(img, (x * each_size, y * each_size))\n",
    "    x += 1\n",
    "    if x == lines:\n",
    "        x = 0\n",
    "        y += 1\n",
    "image.save('E:/images/headImg' + \"all.jpg\")\n",
    "#通过文件传输助手发送到自己微信中\n",
    "itchat.send_image('E:/images/headImg' + \"all.jpg\",'filehelper')\n",
    "image.show()"
   ]
  }
 ],
 "metadata": {
  "kernelspec": {
   "display_name": "Python 3",
   "language": "python",
   "name": "python3"
  },
  "language_info": {
   "codemirror_mode": {
    "name": "ipython",
    "version": 3
   },
   "file_extension": ".py",
   "mimetype": "text/x-python",
   "name": "python",
   "nbconvert_exporter": "python",
   "pygments_lexer": "ipython3",
   "version": "3.6.1"
  }
 },
 "nbformat": 4,
 "nbformat_minor": 2
}
