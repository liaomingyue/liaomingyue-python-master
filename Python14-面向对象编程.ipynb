{
 "cells": [
  {
   "cell_type": "code",
   "execution_count": 8,
   "metadata": {},
   "outputs": [
    {
     "name": "stdout",
     "output_type": "stream",
     "text": [
      "yanqiang\n",
      "我的名字是：quincyqiang\n"
     ]
    }
   ],
   "source": [
    "#常见类和对象\n",
    "class Foo:\n",
    "    def Bar(self):\n",
    "        print('yanqiang')\n",
    "    def Hello(self,name):\n",
    "        print(\"我的名字是：{}\".format(name))\n",
    "#根据类Foo创建对象obj        \n",
    "obj=Foo()\n",
    "obj.Bar()\n",
    "obj.Hello('quincyqiang')"
   ]
  },
  {
   "cell_type": "code",
   "execution_count": 21,
   "metadata": {
    "scrolled": true
   },
   "outputs": [
    {
     "name": "stdout",
     "output_type": "stream",
     "text": [
      "obj1的name为:yanqiang\n",
      "obj2的age为:10\n"
     ]
    }
   ],
   "source": [
    "#面向对象三大特性\n",
    "#一、封装，顾名思义就是将内容封装到某个地方，以后再去调用被封装在某处的内容。\n",
    "class Foo:\n",
    "    def __init__(self,name,age):\n",
    "        self.name=name\n",
    "        self.age=age\n",
    "#第一步：将内容封装到某处\n",
    "obj1=Foo('yanqiang',20)\n",
    "obj2=Foo('miffy',10)\n",
    "#第二步：1、通过对象直接从某处调用被封装的内容\n",
    "print('obj1的name为:%s'%obj1.name)\n",
    "print('obj2的age为:%d'%obj2.age)\n"
   ]
  },
  {
   "cell_type": "code",
   "execution_count": 24,
   "metadata": {},
   "outputs": [
    {
     "name": "stdout",
     "output_type": "stream",
     "text": [
      "yanqiang\n",
      "20\n"
     ]
    }
   ],
   "source": [
    "#第二步：2、通过self间接调用被封装的内容\n",
    "class Foo:\n",
    "    def __init__(self,name,age):\n",
    "        self.name=name\n",
    "        self.age=age\n",
    "    def detail(self):\n",
    "        print(self.name)\n",
    "        print(self.age)\n",
    "obj1=Foo('yanqiang',20)\n",
    "obj1.detail()"
   ]
  },
  {
   "cell_type": "code",
   "execution_count": 37,
   "metadata": {},
   "outputs": [
    {
     "name": "stdout",
     "output_type": "stream",
     "text": [
      "quincyqiang家的小狗 吃\n",
      "quincyqiang家的小狗 吃\n",
      "汪汪叫\n",
      "miffy家的小猫 喝\n"
     ]
    }
   ],
   "source": [
    "#二、继承、面向对象中的继承和现实生活中的继承相同，即：子可以继承父的内容。\n",
    "class Animal:\n",
    "    def eat(self):\n",
    "        print(\"%s 吃\"%self.name)\n",
    "    def drink(self):\n",
    "        print(\"%s 喝\"%self.name)\n",
    "    def shit(self):\n",
    "        print(\"%s 拉\"%self.name)\n",
    "    def pee(self):\n",
    "        print(\"%s 撒\"%self.name)\n",
    "class Dog(Animal):\n",
    "    def __init__(self,name):\n",
    "        self.name=name\n",
    "        self.breed='狗'\n",
    "    def cry(self):\n",
    "        print(\"汪汪叫\")\n",
    "class Cat(Animal):\n",
    "    def __init__(self,name):\n",
    "        self.name=name\n",
    "        self.breed='猫'\n",
    "    def cry(self):\n",
    "        print(\"喵喵叫\")\n",
    "dog=Dog(\"quincyqiang家的小狗\")\n",
    "dog.eat()\n",
    "dog.eat()\n",
    "dog.cry()\n",
    "cat=Cat('miffy家的小猫')\n",
    "cat.drink()"
   ]
  },
  {
   "cell_type": "code",
   "execution_count": 39,
   "metadata": {
    "collapsed": true
   },
   "outputs": [],
   "source": [
    "#1、Python的类可以继承多个类，Java和C#中则只能继承一个类\n",
    "#2、Python的类如果继承了多个类，那么其寻找方法的方式有两种，分别是：深度优先和广度优先\n",
    "# 当类是经典类时，多继承情况下，会按照深度优先方式查找\n",
    "# 当类是新式类时，多继承情况下，会按照广度优先方式查找\n",
    "#经典类：\n",
    "class C1:\n",
    "    pass\n",
    "class C2(C1):\n",
    "    pass\n",
    "#新式类\n",
    "class N1(object):\n",
    "    pass\n",
    "class N2(N1):\n",
    "    pass\n"
   ]
  },
  {
   "cell_type": "code",
   "execution_count": 46,
   "metadata": {},
   "outputs": [
    {
     "name": "stdout",
     "output_type": "stream",
     "text": [
      "A.bar\n"
     ]
    }
   ],
   "source": [
    "class D:\n",
    "    def bar(self):\n",
    "        print(\"D.bar\")\n",
    "class C(D):\n",
    "    def bar(self):\n",
    "        print(\"C.bar\")\n",
    "class B(D):\n",
    "    def bar(self):\n",
    "        print(\"B.bar\")\n",
    "class A(B,C):\n",
    "    def bar(self):\n",
    "        print(\"A.bar\")\n",
    "a=A()\n",
    "a.bar()"
   ]
  },
  {
   "cell_type": "code",
   "execution_count": 48,
   "metadata": {},
   "outputs": [
    {
     "ename": "SyntaxError",
     "evalue": "invalid syntax (<ipython-input-48-baecb0f902bf>, line 10)",
     "output_type": "error",
     "traceback": [
      "\u001b[1;36m  File \u001b[1;32m\"<ipython-input-48-baecb0f902bf>\"\u001b[1;36m, line \u001b[1;32m10\u001b[0m\n\u001b[1;33m    def Func(F1 obj):\u001b[0m\n\u001b[1;37m                  ^\u001b[0m\n\u001b[1;31mSyntaxError\u001b[0m\u001b[1;31m:\u001b[0m invalid syntax\n"
     ]
    }
   ],
   "source": [
    "#三、多态\n",
    "class F1:\n",
    "    pass\n",
    "class S1(F1):\n",
    "    def show(self):\n",
    "        print(S1.show)\n",
    "class S2(F1):\n",
    "    def show(self):\n",
    "        print(\"S2.show\")\n",
    "def Func(F1 obj):\n",
    "    print(obj.show())"
   ]
  }
 ],
 "metadata": {
  "kernelspec": {
   "display_name": "Python 3",
   "language": "python",
   "name": "python3"
  },
  "language_info": {
   "codemirror_mode": {
    "name": "ipython",
    "version": 3
   },
   "file_extension": ".py",
   "mimetype": "text/x-python",
   "name": "python",
   "nbconvert_exporter": "python",
   "pygments_lexer": "ipython3",
   "version": "3.6.1"
  }
 },
 "nbformat": 4,
 "nbformat_minor": 2
}
