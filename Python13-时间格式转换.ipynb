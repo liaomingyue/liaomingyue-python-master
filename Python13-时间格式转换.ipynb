{
 "cells": [
  {
   "cell_type": "code",
   "execution_count": 2,
   "metadata": {},
   "outputs": [
    {
     "name": "stdout",
     "output_type": "stream",
     "text": [
      "当前时间戳为: 1498118247.7219265\n"
     ]
    }
   ],
   "source": [
    "#时间戳\n",
    "import time\n",
    "ticks=time.time()\n",
    "print(\"当前时间戳为:\",ticks)"
   ]
  },
  {
   "cell_type": "code",
   "execution_count": 16,
   "metadata": {},
   "outputs": [
    {
     "name": "stdout",
     "output_type": "stream",
     "text": [
      "本地时间为 time.struct_time(tm_year=2017, tm_mon=6, tm_mday=15, tm_hour=10, tm_min=50, tm_sec=15, tm_wday=3, tm_yday=166, tm_isdst=0)\n"
     ]
    }
   ],
   "source": [
    "#时间元祖\n",
    "import time\n",
    "localtime=time.localtime(time.time())\n",
    "print(\"本地时间为\",localtime)"
   ]
  },
  {
   "cell_type": "code",
   "execution_count": 22,
   "metadata": {},
   "outputs": [
    {
     "name": "stdout",
     "output_type": "stream",
     "text": [
      "本地时间为： Thu Jun 15 10:50:28 2017\n"
     ]
    }
   ],
   "source": [
    "#获取格式化的时间\n",
    "import time \n",
    "localtime=time.asctime(time.localtime(time.time()))\n",
    "print(\"本地时间为：\",localtime)"
   ]
  },
  {
   "cell_type": "code",
   "execution_count": 36,
   "metadata": {},
   "outputs": [
    {
     "name": "stdout",
     "output_type": "stream",
     "text": [
      "2017-06-15 16:19:15\n",
      "Thu Jun 15 16:19:15 2017\n",
      "1459175064.0\n"
     ]
    }
   ],
   "source": [
    "#格式化时间\n",
    "import time\n",
    "#格式化成2017-06-15 10:57:29   这样的形式\n",
    "print(time.strftime(\"%Y-%m-%d %H:%M:%S\",time.localtime(time.time())))\n",
    "\n",
    "#格式化成\n",
    "print(time.strftime(\"%a %b %d %H:%M:%S %Y\",time.localtime(time.time())))\n",
    "\n",
    "a = \"Sat Mar 28 22:24:24 2016\"\n",
    "print (time.mktime(time.strptime(a,\"%a %b %d %H:%M:%S %Y\")))"
   ]
  },
  {
   "cell_type": "code",
   "execution_count": 1,
   "metadata": {},
   "outputs": [
    {
     "name": "stdout",
     "output_type": "stream",
     "text": [
      "以下是2017年6月份的日历\n",
      "     June 2017\n",
      "Mo Tu We Th Fr Sa Su\n",
      "          1  2  3  4\n",
      " 5  6  7  8  9 10 11\n",
      "12 13 14 15 16 17 18\n",
      "19 20 21 22 23 24 25\n",
      "26 27 28 29 30\n",
      "\n"
     ]
    }
   ],
   "source": [
    "#获取某月日历\n",
    "import calendar\n",
    "cal=calendar.month(2017,6)\n",
    "print(\"以下是2017年6月份的日历\")\n",
    "print(cal)"
   ]
  },
  {
   "cell_type": "code",
   "execution_count": 3,
   "metadata": {},
   "outputs": [
    {
     "name": "stdout",
     "output_type": "stream",
     "text": [
      "10.005362749099731\n"
     ]
    }
   ],
   "source": [
    "start_time=time.time()\n",
    "for i in range(10):\n",
    "    time.sleep(1)\n",
    "end_time=time.time()\n",
    "cost_time=end_time-start_time\n",
    "print(cost_time)"
   ]
  },
  {
   "cell_type": "code",
   "execution_count": 2,
   "metadata": {},
   "outputs": [
    {
     "name": "stdout",
     "output_type": "stream",
     "text": [
      "2017-10-19\n"
     ]
    }
   ],
   "source": [
    "#计算机时间只差\n",
    "from datetime import datetime\n",
    "from datetime import timedelta\n",
    "\n",
    "now=datetime.now()\n",
    "oneDay=timedelta(days=100)\n",
    "now=now+oneDay\n",
    "print(now.strftime(\"%Y-%m-%d\"))"
   ]
  }
 ],
 "metadata": {
  "kernelspec": {
   "display_name": "Python 3",
   "language": "python",
   "name": "python3"
  },
  "language_info": {
   "codemirror_mode": {
    "name": "ipython",
    "version": 3
   },
   "file_extension": ".py",
   "mimetype": "text/x-python",
   "name": "python",
   "nbconvert_exporter": "python",
   "pygments_lexer": "ipython3",
   "version": "3.6.1"
  }
 },
 "nbformat": 4,
 "nbformat_minor": 2
}
