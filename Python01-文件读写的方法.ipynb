{
 "cells": [
  {
   "cell_type": "code",
   "execution_count": 11,
   "metadata": {},
   "outputs": [
    {
     "data": {
      "text/plain": [
       "'hi quincyqiang\\nhow are you'"
      ]
     },
     "execution_count": 11,
     "output_type": "execute_result",
     "metadata": {}
    }
   ],
   "source": [
    "# 使用斜杠“/”: \"c:/test.txt\"… 不用反斜杠就没法产生歧义了 \n",
    "# 将反斜杠符号转义: \"c:\\\\test.txt\"… 因为反斜杠是转义符，所以两个\"\\\\\"就表示一个反斜杠符号 \n",
    "# file=open('D:\\\\jupyter\\\\test.txt')#\n",
    "#file=open('D:/jupyter/test.txt')\n",
    "#file=open('test.txt')#和程序在一个同一路径下\n",
    "file=open('test.txt')\n",
    "file.read()"
   ]
  },
  {
   "cell_type": "code",
   "execution_count": 57,
   "metadata": {},
   "outputs": [
    {
     "name": "stdout",
     "output_type": "stream",
     "text": [
      "hi quincyqiang\n",
      "how are you\n",
      "\n"
     ]
    }
   ],
   "source": [
    "#模式描述\n",
    "# http://www.yiibai.com/python3/python_files_io.html\n",
    "\n",
    "# 读文件有3种方法：read()将文本文件所有行读到一个字符串中。 \n",
    "#               readline()是一行一行的读 \n",
    "#               readlines()是将文本文件中所有行读到一个list中，文本文件每一行是list的一个元素。 \n",
    "# 优点：readline()可以在读行过程中跳过特定行。 \\\n",
    "\n",
    "#第一种方法\n",
    "file_1=open('test.txt')\n",
    "file_2=open('output.txt','w')\n",
    "while True:\n",
    "    line=file_1.readline()\n",
    "    print(line.strip())#取出换行\n",
    "    file_2.write(line) \n",
    "    if not line:\n",
    "        break\n",
    "file_2.close()"
   ]
  },
  {
   "cell_type": "code",
   "execution_count": 61,
   "metadata": {},
   "outputs": [
    {
     "name": "stdout",
     "output_type": "stream",
     "text": [
      "hi quincyqiang\n",
      "how are you\n"
     ]
    }
   ],
   "source": [
    "#第二种方法，使用for循环\n",
    "file_2=open('output.txt','w')\n",
    "for line in open('test.txt'):\n",
    "    print(line.strip())\n",
    "    file_2.write(line)\n",
    "file_2.close()"
   ]
  },
  {
   "cell_type": "code",
   "execution_count": null,
   "metadata": {},
   "outputs": [],
   "source": [
    "#第三种方法文件上下文\n",
    "文件上下文管理器 \n",
    "with open('somefile.txt', 'r') as f: \n",
    "    data = f.read() \n",
    "\n",
    "# Iterate over the lines of the file \n",
    "with open('somefile.txt', 'r') as f: \n",
    "    for line in f: \n",
    "        # process line \n",
    "\n",
    "# Write chunks of text data \n",
    "with open('somefile.txt', 'w') as f: \n",
    "    f.write(text1) \n",
    "    f.write(text2) \n",
    "    ... \n",
    "\n",
    "# Redirected print statement \n",
    "with open('somefile.txt', 'w') as f: \n",
    "    print(line1, file=f) \n",
    "    print(line2, file=f)"
   ]
  },
  {
   "cell_type": "code",
   "execution_count": 5,
   "metadata": {},
   "outputs": [
    {
     "name": "stdout",
     "output_type": "stream",
     "text": [
      "存在\n"
     ]
    }
   ],
   "source": [
    "a=['目前已成为UIT存储的金牌认证经销商、HUAWEI-3COM服务认证经销商、CISCO 精睿产品银牌经销商、CISCO商业市场服务合作伙伴。', '壹软网络科技有限公司', 'HUAWEI-3COM服务', '经销商']\n",
    "if a[2] in a:\n",
    "    print(\"存在\")"
   ]
  }
 ],
 "metadata": {
  "kernelspec": {
   "display_name": "Python 3",
   "language": "python",
   "name": "python3"
  },
  "language_info": {
   "codemirror_mode": {
    "name": "ipython",
    "version": 3.0
   },
   "file_extension": ".py",
   "mimetype": "text/x-python",
   "name": "python",
   "nbconvert_exporter": "python",
   "pygments_lexer": "ipython3",
   "version": "3.6.0"
  }
 },
 "nbformat": 4,
 "nbformat_minor": 2
}