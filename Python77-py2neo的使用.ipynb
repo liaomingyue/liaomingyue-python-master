{
 "cells": [
  {
   "cell_type": "markdown",
   "metadata": {},
   "source": [
    "# 1 简介\n",
    "本篇教程主要是讲述如何使用Python操作Ne4j图数据库，实现py2neo、ipython-cypher、pandas、networkx、igraph以及jgraph包的一些基本操作\n",
    "\n",
    "# 2 py2neo\n",
    "`py2neo`是Neo4j的python驱动、安装：`pip install py2neo`\n",
    "## 2.1 连接"
   ]
  },
  {
   "cell_type": "code",
   "execution_count": 1,
   "metadata": {},
   "outputs": [],
   "source": [
    "# 这里刚开始自己多次尝试连接，都报错了，查了网上教程不通过，最后使用下面的格式通过了\n",
    "from py2neo import Graph\n",
    "graph=Graph(\n",
    "    host=\"127.0.0.1\",\n",
    "    port=7687, # 可写可不写  bolt port\n",
    "    user=\"neo4j\",\n",
    "    password=\"12345\"\n",
    ")"
   ]
  },
  {
   "cell_type": "code",
   "execution_count": 14,
   "metadata": {},
   "outputs": [],
   "source": [
    "graph.delete_all()"
   ]
  },
  {
   "cell_type": "markdown",
   "metadata": {},
   "source": [
    "## 2.2 节点\n",
    "使用`Node`这个类来创建节点.第一个参数是`label`，然后后面的参数是节点的属性（`key-value`）"
   ]
  },
  {
   "cell_type": "code",
   "execution_count": 15,
   "metadata": {},
   "outputs": [],
   "source": [
    "from py2neo import Node"
   ]
  },
  {
   "cell_type": "code",
   "execution_count": 16,
   "metadata": {},
   "outputs": [],
   "source": [
    "qiang=Node(\"Person\",name=\"闫强\",age=24)\n",
    "xiong=Node(\"Person\",name=\"熊高雄\",age=23)\n",
    "\n",
    "ming=Node(\"Drink\",name=\"小明\",calories=90)\n",
    "hong=Node(\"Drink\",name=\"小红\",calories=0)\n",
    "\n",
    "graph.create(qiang|xiong|ming|hong)"
   ]
  },
  {
   "cell_type": "markdown",
   "metadata": {},
   "source": [
    "## 2.3 关系\n",
    "使用`Relationship`创建节点之间的关系"
   ]
  },
  {
   "cell_type": "code",
   "execution_count": 17,
   "metadata": {},
   "outputs": [],
   "source": [
    "from py2neo import Relationship"
   ]
  },
  {
   "cell_type": "code",
   "execution_count": 20,
   "metadata": {},
   "outputs": [],
   "source": [
    "graph.create(Relationship(qiang,\"合作\",ming))\n",
    "graph.create(Relationship(xiong,\"合作\",hong))"
   ]
  },
  {
   "cell_type": "markdown",
   "metadata": {},
   "source": [
    "## 2.4 Cypher\n",
    "类似`SQL`语句，可以用来执行查询等各种操作"
   ]
  },
  {
   "cell_type": "code",
   "execution_count": 21,
   "metadata": {},
   "outputs": [
    {
     "name": "stdout",
     "output_type": "stream",
     "text": [
      "<Record name='闫强' drink='小明'>\n",
      "<Record name='熊高雄' drink='小红'>\n"
     ]
    }
   ],
   "source": [
    "query=\"\"\"\n",
    "MATCH (person:Person)-[:合作]->(drink:Drink)\n",
    "RETURN person.name AS name,drink.name AS drink\n",
    "\"\"\"\n",
    "data=graph.run(query)\n",
    "for d in data:\n",
    "    print(d)"
   ]
  },
  {
   "cell_type": "markdown",
   "metadata": {},
   "source": [
    "## 2.5 参数化的Cypher\n",
    "给Cypher语句传递`key-value`形式的参数"
   ]
  },
  {
   "cell_type": "code",
   "execution_count": 27,
   "metadata": {},
   "outputs": [
    {
     "name": "stdout",
     "output_type": "stream",
     "text": [
      "<Record name='闫强'>\n"
     ]
    }
   ],
   "source": [
    "query = \"\"\"\n",
    "MATCH (p:Person)-[:合作]->(drink:Drink)\n",
    "WHERE p.name = {name}\n",
    "RETURN p.name AS name\n",
    "\"\"\"\n",
    "\n",
    "data = graph.run(query, name=\"闫强\")\n",
    "\n",
    "for d in data:\n",
    "    print(d)"
   ]
  },
  {
   "cell_type": "markdown",
   "metadata": {},
   "source": [
    "# 3 jgraph\n",
    "`jgraph`将元组数据描绘成3d图形"
   ]
  },
  {
   "cell_type": "code",
   "execution_count": 31,
   "metadata": {},
   "outputs": [
    {
     "data": {
      "text/html": [
       "<div id=\"graph-9a0bb089-beee-4361-93d2-f032081c1b96\"></div>\n",
       "           <script type=\"text/javascript\">\n",
       "           require.config({baseUrl: '/',\n",
       "                             paths: {jgraph: ['nbextensions/jgraph.min', 'https://rawgit.com/patrickfuller/jgraph/master/js/build/jgraph.min']}});\n",
       "           require(['jgraph'], function () {\n",
       "               var $d = $('#graph-9a0bb089-beee-4361-93d2-f032081c1b96');\n",
       "               $d.width(600); $d.height(400);\n",
       "               $d.jgraph = jQuery.extend({}, jgraph);\n",
       "               $d.jgraph.create($d, {nodeSize: 2.000000,\n",
       "                                     edgeSize: 0.250000,\n",
       "                                     defaultNodeColor: '0x5bc0de',\n",
       "                                     defaultEdgeColor: '0xaaaaaa',\n",
       "                                     shader: 'basic',\n",
       "                                     z: 100,\n",
       "                                     runOptimization: true,\n",
       "                                     directed: true,\n",
       "                                     showSave: false});\n",
       "               $d.jgraph.draw({\n",
       "    \"edges\": [\n",
       "        { \"source\": 1, \"target\": 2 },\n",
       "        { \"source\": 2, \"target\": 3 },\n",
       "        { \"source\": 3, \"target\": 4 },\n",
       "        { \"source\": 4, \"target\": 1 },\n",
       "        { \"source\": 4, \"target\": 5 },\n",
       "        { \"source\": 5, \"target\": 2 }\n",
       "    ],\n",
       "    \"nodes\": {\n",
       "        \"1\": { \"location\": [ -2.0, -2.0, -2.0 ] },\n",
       "        \"2\": { \"location\": [ -1.100485153020166, -0.8510064734510766, -1.293657853026277 ] },\n",
       "        \"3\": { \"location\": [ 0.18799862826884745, 0.19628086226360564, 0.10179591120605239 ] },\n",
       "        \"4\": { \"location\": [ 0.8819699893111222, 0.8546485108751714, 1.2755512505171411 ] },\n",
       "        \"5\": { \"location\": [ 2.0, 2.0, 2.0 ] }\n",
       "    }\n",
       "});\n",
       "\n",
       "               $d.resizable({\n",
       "                   aspectRatio: 600 / 400,\n",
       "                   resize: function (evt, ui) {\n",
       "                       $d.jgraph.renderer.setSize(ui.size.width,\n",
       "                                                  ui.size.height);\n",
       "                   }\n",
       "               });\n",
       "           });\n",
       "           </script>"
      ],
      "text/plain": [
       "<IPython.core.display.HTML object>"
      ]
     },
     "metadata": {},
     "output_type": "display_data"
    }
   ],
   "source": [
    "import jgraph\n",
    "\n",
    "jgraph.draw([(1, 2), (2, 3), (3, 4), (4, 1), (4, 5), (5, 2)])"
   ]
  },
  {
   "cell_type": "code",
   "execution_count": 32,
   "metadata": {},
   "outputs": [
    {
     "data": {
      "text/html": [
       "<div id=\"graph-817e7fa5-4b68-4c1c-8dd2-dcb9eae7be5b\"></div>\n",
       "           <script type=\"text/javascript\">\n",
       "           require.config({baseUrl: '/',\n",
       "                             paths: {jgraph: ['nbextensions/jgraph.min', 'https://rawgit.com/patrickfuller/jgraph/master/js/build/jgraph.min']}});\n",
       "           require(['jgraph'], function () {\n",
       "               var $d = $('#graph-817e7fa5-4b68-4c1c-8dd2-dcb9eae7be5b');\n",
       "               $d.width(600); $d.height(400);\n",
       "               $d.jgraph = jQuery.extend({}, jgraph);\n",
       "               $d.jgraph.create($d, {nodeSize: 2.000000,\n",
       "                                     edgeSize: 0.250000,\n",
       "                                     defaultNodeColor: '0x5bc0de',\n",
       "                                     defaultEdgeColor: '0xaaaaaa',\n",
       "                                     shader: 'basic',\n",
       "                                     z: 100,\n",
       "                                     runOptimization: true,\n",
       "                                     directed: true,\n",
       "                                     showSave: false});\n",
       "               $d.jgraph.draw({\n",
       "    \"edges\": [\n",
       "        { \"source\": 20, \"target\": 21 },\n",
       "        { \"source\": 21, \"target\": 22 },\n",
       "        { \"source\": 23, \"target\": 22 },\n",
       "        { \"source\": 20, \"target\": 23 }\n",
       "    ],\n",
       "    \"nodes\": {\n",
       "        \"20\": { \"location\": [ -1.671427634438428, -2.0, -1.6391156808091096 ] },\n",
       "        \"21\": { \"location\": [ -0.6432553998251767, -0.769168293463216, -0.6205888439068868 ] },\n",
       "        \"22\": { \"location\": [ 0.4300036865749467, 0.6212981526850642, 0.5721364375076488 ] },\n",
       "        \"23\": { \"location\": [ 1.884679347688658, 2.0, 1.6875680872083478 ] }\n",
       "    }\n",
       "});\n",
       "\n",
       "               $d.resizable({\n",
       "                   aspectRatio: 600 / 400,\n",
       "                   resize: function (evt, ui) {\n",
       "                       $d.jgraph.renderer.setSize(ui.size.width,\n",
       "                                                  ui.size.height);\n",
       "                   }\n",
       "               });\n",
       "           });\n",
       "           </script>"
      ],
      "text/plain": [
       "<IPython.core.display.HTML object>"
      ]
     },
     "metadata": {},
     "output_type": "display_data"
    }
   ],
   "source": [
    "data = graph.run(\"MATCH (n)-->(m) RETURN ID(n), ID(m)\")\n",
    "data = [tuple(x) for x in data]\n",
    "\n",
    "jgraph.draw(data)"
   ]
  },
  {
   "cell_type": "markdown",
   "metadata": {},
   "source": [
    "# 4 igraph"
   ]
  },
  {
   "cell_type": "code",
   "execution_count": 42,
   "metadata": {},
   "outputs": [],
   "source": [
    "from py2neo import Graph as PGraph\n",
    "from igraph import Graph as IGraph \n",
    "from igraph import plot\n",
    "\n",
    "\n",
    "query = \"\"\"\n",
    "MATCH (person:Person)-[:合作]->(drink:Drink)\n",
    "RETURN person.name AS source, drink.name AS target\n",
    "\"\"\"\n",
    "\n",
    "data = graph.run(query)\n",
    "tups = []\n",
    "\n",
    "for d in data:\n",
    "    tups.append((d[\"source\"], d[\"target\"]))"
   ]
  },
  {
   "cell_type": "code",
   "execution_count": 43,
   "metadata": {},
   "outputs": [
    {
     "name": "stdout",
     "output_type": "stream",
     "text": [
      "IGRAPH UN-- 4 2 --\n",
      "+ attr: name (v)\n",
      "+ edges (vertex names):\n",
      "闫强--小明, 熊高雄--小红\n"
     ]
    }
   ],
   "source": [
    "ig = IGraph.TupleList(tups)\n",
    "\n",
    "print(ig)"
   ]
  },
  {
   "cell_type": "code",
   "execution_count": 44,
   "metadata": {},
   "outputs": [
    {
     "data": {
      "text/plain": [
       "['闫强', '小明', '熊高雄', '小红']"
      ]
     },
     "execution_count": 44,
     "metadata": {},
     "output_type": "execute_result"
    }
   ],
   "source": [
    "best = ig.vs.select(_degree = ig.maxdegree())[\"name\"]\n",
    "best"
   ]
  },
  {
   "cell_type": "code",
   "execution_count": null,
   "metadata": {},
   "outputs": [],
   "source": []
  },
  {
   "cell_type": "code",
   "execution_count": null,
   "metadata": {},
   "outputs": [],
   "source": []
  }
 ],
 "metadata": {
  "kernelspec": {
   "display_name": "Python 3",
   "language": "python",
   "name": "python3"
  },
  "language_info": {
   "codemirror_mode": {
    "name": "ipython",
    "version": 3
   },
   "file_extension": ".py",
   "mimetype": "text/x-python",
   "name": "python",
   "nbconvert_exporter": "python",
   "pygments_lexer": "ipython3",
   "version": "3.6.5"
  }
 },
 "nbformat": 4,
 "nbformat_minor": 2
}
