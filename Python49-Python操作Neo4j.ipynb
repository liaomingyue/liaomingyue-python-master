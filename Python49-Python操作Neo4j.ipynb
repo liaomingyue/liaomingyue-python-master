{
 "cells": [
  {
   "cell_type": "code",
   "execution_count": 4,
   "metadata": {},
   "outputs": [],
   "source": [
    "from py2neo import Graph,Node,Relationship"
   ]
  },
  {
   "cell_type": "markdown",
   "metadata": {},
   "source": [
    "## 1 Graph\n",
    "在 database 模块中包含了和 Neo4j 数据交互的 API，最重要的当属 Graph，它代表了 Neo4j 的图数据库，同时 Graph 也提供了许多方法来操作 Neo4j 数据库。"
   ]
  },
  {
   "cell_type": "code",
   "execution_count": 5,
   "metadata": {},
   "outputs": [],
   "source": [
    "graph=Graph(\n",
    "    \"http://localhost:7474\",\n",
    "    username=\"neo4j\",\n",
    "    password=\"miffy1314\"\n",
    ")"
   ]
  },
  {
   "cell_type": "markdown",
   "metadata": {},
   "source": [
    "## 1.1 建立节点"
   ]
  },
  {
   "cell_type": "code",
   "execution_count": 6,
   "metadata": {},
   "outputs": [
    {
     "name": "stdout",
     "output_type": "stream",
     "text": [
      "({(alice:Person {name:\"Alice\"}), (bob:Person {name:\"Bob\"})}, {(alice)-[:KNOWS]->(bob)})\n"
     ]
    }
   ],
   "source": [
    "a=Node('Person',name='Alice')\n",
    "b=Node('Person',name='Bob')\n",
    "r=Relationship(a,'KNOWS',b)\n",
    "s=a|b|r\n",
    "print(s)\n",
    "graph=graph.create(s)"
   ]
  },
  {
   "cell_type": "code",
   "execution_count": null,
   "metadata": {},
   "outputs": [],
   "source": [
    "# 方式 2\n",
    "a = Node('Person', name='Alice')\n",
    "test_graph.create(a)\n",
    "b = Node('Person', name='Bob')\n",
    "test_graph.create(b)\n",
    "ab = Relationship(a, 'KNOWS', b)\n",
    "graph.create(ab)"
   ]
  },
  {
   "cell_type": "markdown",
   "metadata": {},
   "source": [
    "## 1.2 查询结果\n",
    "- 利用 data() 方法来获取查询结果"
   ]
  },
  {
   "cell_type": "code",
   "execution_count": 27,
   "metadata": {},
   "outputs": [
    {
     "name": "stdout",
     "output_type": "stream",
     "text": [
      "[{'p': (alice:Person {name:\"Alice\"})}, {'p': (bob:Person {name:\"Bob\"})}]\n"
     ]
    }
   ],
   "source": [
    "data=graph.data('MATCH (p:Person) return p')\n",
    "print(data)"
   ]
  },
  {
   "cell_type": "markdown",
   "metadata": {},
   "source": [
    "输出结果即 CQL 语句的返回结果，是列表形式"
   ]
  },
  {
   "cell_type": "code",
   "execution_count": 30,
   "metadata": {},
   "outputs": [
    {
     "name": "stdout",
     "output_type": "stream",
     "text": [
      "                   p\n",
      "0  {'name': 'Alice'}\n",
      "1    {'name': 'Bob'}\n"
     ]
    }
   ],
   "source": [
    "from pandas import DataFrame\n",
    "df=DataFrame(data)\n",
    "print(df)"
   ]
  },
  {
   "cell_type": "markdown",
   "metadata": {},
   "source": [
    "- 使用 find_one() 或 find() 方法进行 Node 的查找，\n",
    "- 利用 match() 或 match_one() 方法对 Relationship 进行查找"
   ]
  },
  {
   "cell_type": "code",
   "execution_count": 31,
   "metadata": {},
   "outputs": [
    {
     "name": "stdout",
     "output_type": "stream",
     "text": [
      "(alice:Person {name:\"Alice\"})\n",
      "(alice)-[:KNOWS]->(bob)\n"
     ]
    },
    {
     "name": "stderr",
     "output_type": "stream",
     "text": [
      "G:\\ProgramData\\Anaconda3\\lib\\site-packages\\ipykernel_launcher.py:1: DeprecationWarning: Graph.find_one is deprecated, use NodeSelector instead\n",
      "  \"\"\"Entry point for launching an IPython kernel.\n"
     ]
    }
   ],
   "source": [
    "node = graph.find_one(label='Person')\n",
    "print(node)\n",
    "relationship = graph.match_one(rel_type='KNOWS')\n",
    "print(relationship)"
   ]
  },
  {
   "cell_type": "markdown",
   "metadata": {},
   "source": [
    "- 使用 push() 方法更新Node的属性"
   ]
  },
  {
   "cell_type": "code",
   "execution_count": 32,
   "metadata": {},
   "outputs": [
    {
     "name": "stderr",
     "output_type": "stream",
     "text": [
      "G:\\ProgramData\\Anaconda3\\lib\\site-packages\\ipykernel_launcher.py:2: DeprecationWarning: Graph.find_one is deprecated, use NodeSelector instead\n",
      "  \n"
     ]
    },
    {
     "name": "stdout",
     "output_type": "stream",
     "text": [
      "(alice:Person {age:21,name:\"Alice\"})\n"
     ]
    },
    {
     "name": "stderr",
     "output_type": "stream",
     "text": [
      "G:\\ProgramData\\Anaconda3\\lib\\site-packages\\ipykernel_launcher.py:5: DeprecationWarning: Graph.find_one is deprecated, use NodeSelector instead\n",
      "  \"\"\"\n"
     ]
    }
   ],
   "source": [
    "a = Node('Person', name='Alice')\n",
    "node = graph.find_one(label='Person')\n",
    "node['age'] = 21\n",
    "graph.push(node)\n",
    "print(graph.find_one(label='Person'))"
   ]
  },
  {
   "cell_type": "markdown",
   "metadata": {},
   "source": [
    "- 使用 delete() 方法删除某个 Node\n",
    "\n",
    "在删除 Node 时必须先删除其对应的 Relationship，否则无法删除 Node"
   ]
  },
  {
   "cell_type": "code",
   "execution_count": 33,
   "metadata": {},
   "outputs": [
    {
     "name": "stderr",
     "output_type": "stream",
     "text": [
      "G:\\ProgramData\\Anaconda3\\lib\\site-packages\\ipykernel_launcher.py:1: DeprecationWarning: Graph.find_one is deprecated, use NodeSelector instead\n",
      "  \"\"\"Entry point for launching an IPython kernel.\n"
     ]
    }
   ],
   "source": [
    "node = graph.find_one(label='Person')\n",
    "relationship = graph.match_one(rel_type='KNOWS')\n",
    "graph.delete(relationship)\n",
    "graph.delete(node)"
   ]
  },
  {
   "cell_type": "markdown",
   "metadata": {},
   "source": [
    "## 2 NodeSelector\n",
    "\n",
    "Graph 有时候用起来不太方便，比如如果要根据多个条件进行 Node 的查询是做不到的，在这里更方便的查询方法是利用 NodeSelector，我们首先新建如下的 Node 和 Relationship，实例如下"
   ]
  },
  {
   "cell_type": "code",
   "execution_count": 34,
   "metadata": {},
   "outputs": [],
   "source": [
    "a = Node('Person', name='Alice', age=21, location='广州')\n",
    "b = Node('Person', name='Bob', age=22, location='上海')\n",
    "c = Node('Person', name='Mike', age=21, location='北京')\n",
    "r1 = Relationship(a, 'KNOWS', b)\n",
    "r2 = Relationship(b, 'KNOWS', c)\n",
    "graph.create(a)\n",
    "graph.create(r1)\n",
    "graph.create(r2)"
   ]
  },
  {
   "cell_type": "markdown",
   "metadata": {},
   "source": [
    "- 在这里我们用 NodeSelector 来筛选 age 为 21 的 Person Node"
   ]
  },
  {
   "cell_type": "code",
   "execution_count": 35,
   "metadata": {},
   "outputs": [
    {
     "name": "stdout",
     "output_type": "stream",
     "text": [
      "[(mike:Person {age:21,location:\"北京\",name:\"Mike\"}), (alice:Person {age:21,location:\"广州\",name:\"Alice\"})]\n"
     ]
    }
   ],
   "source": [
    "from py2neo import  NodeSelector\n",
    "selector = NodeSelector(graph)\n",
    "persons = selector.select('Person', age=21)\n",
    "print(list(persons))"
   ]
  },
  {
   "cell_type": "markdown",
   "metadata": {},
   "source": [
    "- 可以使用 where() 进行更复杂的查询，例如查找 name 是 A 开头的 Person Node"
   ]
  },
  {
   "cell_type": "code",
   "execution_count": 36,
   "metadata": {},
   "outputs": [
    {
     "name": "stdout",
     "output_type": "stream",
     "text": [
      "[(alice:Person {age:21,location:\"广州\",name:\"Alice\"})]\n"
     ]
    }
   ],
   "source": [
    "selector = NodeSelector(graph)\n",
    "persons = selector.select('Person').where('_.name =~ \"A.*\"')\n",
    "print(list(persons))"
   ]
  },
  {
   "cell_type": "markdown",
   "metadata": {},
   "source": [
    "- 使用 order_by() 进行排序"
   ]
  },
  {
   "cell_type": "code",
   "execution_count": 37,
   "metadata": {},
   "outputs": [
    {
     "name": "stdout",
     "output_type": "stream",
     "text": [
      "[(mike:Person {age:21,location:\"北京\",name:\"Mike\"}), (alice:Person {age:21,location:\"广州\",name:\"Alice\"}), (bob:Person {age:22,location:\"上海\",name:\"Bob\"})]\n"
     ]
    }
   ],
   "source": [
    "selector = NodeSelector(graph)\n",
    "persons = selector.select('Person').order_by('_.age')\n",
    "print(list(persons))"
   ]
  },
  {
   "cell_type": "markdown",
   "metadata": {},
   "source": [
    "- 前面返回的都是列表，如果要查询单个节点的话，可以使用 first() 方法"
   ]
  },
  {
   "cell_type": "code",
   "execution_count": 38,
   "metadata": {},
   "outputs": [
    {
     "name": "stdout",
     "output_type": "stream",
     "text": [
      "(alice:Person {age:21,location:\"广州\",name:\"Alice\"})\n"
     ]
    }
   ],
   "source": [
    "selector = NodeSelector(graph)\n",
    "person = selector.select('Person').where('_.name =~ \"A.*\"').first()\n",
    "print(person)"
   ]
  },
  {
   "cell_type": "code",
   "execution_count": null,
   "metadata": {},
   "outputs": [],
   "source": []
  }
 ],
 "metadata": {
  "kernelspec": {
   "display_name": "Python 3",
   "language": "python",
   "name": "python3"
  },
  "language_info": {
   "codemirror_mode": {
    "name": "ipython",
    "version": 3
   },
   "file_extension": ".py",
   "mimetype": "text/x-python",
   "name": "python",
   "nbconvert_exporter": "python",
   "pygments_lexer": "ipython3",
   "version": "3.6.5"
  }
 },
 "nbformat": 4,
 "nbformat_minor": 2
}
