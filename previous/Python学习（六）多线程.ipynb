{
 "cells": [
  {
   "cell_type": "code",
   "execution_count": 11,
   "metadata": {
    "collapsed": false
   },
   "outputs": [
    {
     "name": "stdout",
     "output_type": "stream",
     "text": [
      "我正在听 爱情买卖. Thu Apr 20 00:05:34 2017\n",
      "所有进程结束Thu Apr 20 00:05:34 2017\n",
      "我正在看 阿凡达! Thu Apr 20 00:05:34 2017\n",
      "我正在听 爱情买卖. Thu Apr 20 00:05:35 2017\n",
      "我正在看 阿凡达! Thu Apr 20 00:05:35 2017\n"
     ]
    }
   ],
   "source": [
    "import threading\n",
    "from time import ctime,sleep\n",
    "def music(func):\n",
    "    for i in range(2):\n",
    "        print(\"我正在听 %s. %s\"%(func,ctime()))\n",
    "        sleep(1)\n",
    "def movie(func):\n",
    "    for i in range(2):\n",
    "        print(\"我正在看 %s! %s\"%(func,ctime()))\n",
    "        sleep(1)\n",
    "threads=[]\n",
    "t1=threading.Thread(target=music,args=(u'爱情买卖',))\n",
    "threads.append(t1)\n",
    "t2=threading.Thread(target=movie,args=(u'阿凡达',))\n",
    "threads.append(t2)\n",
    "\n",
    "if __name__=='__main__':\n",
    "    for t in threads:\n",
    "        t.setDaemon(True)\n",
    "        t.start()\n",
    "    print(\"所有进程结束%s\"%ctime())"
   ]
  }
 ],
 "metadata": {
  "kernelspec": {
   "display_name": "Python 3",
   "language": "python",
   "name": "python3"
  },
  "language_info": {
   "codemirror_mode": {
    "name": "ipython",
    "version": 3
   },
   "file_extension": ".py",
   "mimetype": "text/x-python",
   "name": "python",
   "nbconvert_exporter": "python",
   "pygments_lexer": "ipython3",
   "version": "3.6.0"
  }
 },
 "nbformat": 4,
 "nbformat_minor": 2
}
