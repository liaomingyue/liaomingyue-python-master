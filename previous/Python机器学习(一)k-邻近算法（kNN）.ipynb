{
 "cells": [
  {
   "cell_type": "code",
   "execution_count": 1,
   "metadata": {
    "collapsed": true
   },
   "outputs": [],
   "source": [
    "#一、k-邻近算法的原理讲解\n",
    "#1、简单的来说，k-邻近算法就是采用测量不同特征值的距离方法进行分类\n",
    "#2、工作原理就是：存在一个样本数据集合（训练样本集），并且样本集中每个数据存在一个标签，就是我们知道样本集中每一个数据与所属分类所对应的关系\n",
    "#3、输入没有标签的新数据，将新数据的特征与样本集中带有标签的数据的相应特征进行比较，\n",
    "#4、然后提取出样本集中特征最相似（最邻近）数据的分类标签\n",
    "#5、选择样本集中前k个最相似的数据，通常k是不大于20的整数，\n",
    "#6、最后选择k个相似数据中出现次数最多的分类，作为新数据的分类"
   ]
  },
  {
   "cell_type": "code",
   "execution_count": null,
   "metadata": {
    "collapsed": true
   },
   "outputs": [],
   "source": [
    "#二、k-邻近算法的一般流程\n"
   ]
  }
 ],
 "metadata": {
  "kernelspec": {
   "display_name": "Python 3",
   "language": "python",
   "name": "python3"
  },
  "language_info": {
   "codemirror_mode": {
    "name": "ipython",
    "version": 3
   },
   "file_extension": ".py",
   "mimetype": "text/x-python",
   "name": "python",
   "nbconvert_exporter": "python",
   "pygments_lexer": "ipython3",
   "version": "3.6.0"
  }
 },
 "nbformat": 4,
 "nbformat_minor": 2
}
