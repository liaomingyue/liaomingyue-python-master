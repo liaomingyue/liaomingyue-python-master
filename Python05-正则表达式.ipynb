{
 "cells": [
  {
   "cell_type": "code",
   "execution_count": 7,
   "metadata": {},
   "outputs": [
    {
     "name": "stdout",
     "output_type": "stream",
     "text": [
      "41\n",
      "<_sre.SRE_Match object; span=(0, 25), match='Hello 123 4567 World_This'>\n",
      "Hello 123 4567 World_This\n",
      "(0, 25)\n"
     ]
    }
   ],
   "source": [
    "#match()函数的使用\n",
    "\n",
    "#\\w匹配字母数字及下划线\n",
    "# \\s匹配任意空白字符，等价于 [\\t\\n\\r\\f].\n",
    "# \\d匹配任意数字，等价于 [0-9]\n",
    "# [...]用来表示一组字符,单独列出：[amk] 匹配 'a'，'m'或'k'\n",
    "# [^...]不在[]中的字符：[^abc] 匹配除了a,b,c之外的字符。\n",
    "#^匹配字符串的开头\n",
    "#{n}精确匹配n个前面表达式。\n",
    "import re\n",
    "content='Hello 123 4567 World_This is a Regex Demo'\n",
    "print(len(content))\n",
    "pattern=re.compile(r'^Hello\\s\\d\\d\\d\\s\\d{4}\\s\\w{10}')\n",
    "result=re.match(pattern,content)\n",
    "print(result)\n",
    "print(result.group())\n",
    "print(result.span())"
   ]
  },
  {
   "cell_type": "code",
   "execution_count": 12,
   "metadata": {},
   "outputs": [
    {
     "name": "stdout",
     "output_type": "stream",
     "text": [
      "<_sre.SRE_Match object; span=(0, 19), match='Hello 1234567 World'>\n",
      "Hello 1234567 World\n",
      "1234567\n",
      "World\n",
      "(0, 19)\n"
     ]
    }
   ],
   "source": [
    "#匹配目标\n",
    "\n",
    "#group()会输出完整的匹配结果，而group(1)会输出第一个被()包围的匹配结果\n",
    "import re\n",
    "content='Hello 1234567 World_This is a Regex Demo'\n",
    "pattern=re.compile(r'^Hello\\s(\\d{7})\\s(\\w{5})')\n",
    "result=re.match(pattern,content)\n",
    "print(result)\n",
    "print(result.group())\n",
    "print(result.group(1))\n",
    "print(result.group(2))\n",
    "print(result.span())"
   ]
  },
  {
   "cell_type": "code",
   "execution_count": 24,
   "metadata": {},
   "outputs": [
    {
     "name": "stdout",
     "output_type": "stream",
     "text": [
      "<_sre.SRE_Match object; span=(0, 41), match='Hello 123 4567 World_This is a Regex Demo'>\n",
      "Hello 123 4567 World_This is a Regex Demo\n",
      "(0, 41)\n"
     ]
    }
   ],
   "source": [
    "#通用匹配\n",
    "#.匹配任意字符（除换行符外）\n",
    "#*匹配0次或者多次\n",
    "import re\n",
    "content='Hello 123 4567 World_This is a Regex Demo'\n",
    "pattern=re.compile(r'^Hello.*Demo$')\n",
    "result=re.match(pattern,content)\n",
    "print(result)\n",
    "print(result.group())\n",
    "print(result.span())"
   ]
  },
  {
   "cell_type": "code",
   "execution_count": 35,
   "metadata": {},
   "outputs": [
    {
     "name": "stdout",
     "output_type": "stream",
     "text": [
      "<_sre.SRE_Match object; span=(0, 40), match='Hello 1234567 World_This is a Regex Demo'>\n",
      "Hello 1234567 World_This is a Regex Demo\n",
      "7\n"
     ]
    }
   ],
   "source": [
    "#贪婪匹配与非贪婪匹配\n",
    "\n",
    "#01贪婪匹配\n",
    "import re\n",
    "content='Hello 1234567 World_This is a Regex Demo'\n",
    "pattern=re.compile(r'^He.*(\\d+).*Demo$')\n",
    "result=re.match(pattern,content)\n",
    "print(result)\n",
    "print(result.group())\n",
    "print(result.group(1))"
   ]
  },
  {
   "cell_type": "code",
   "execution_count": 36,
   "metadata": {},
   "outputs": [
    {
     "name": "stdout",
     "output_type": "stream",
     "text": [
      "<_sre.SRE_Match object; span=(0, 40), match='Hello 1234567 World_This is a Regex Demo'>\n",
      "Hello 1234567 World_This is a Regex Demo\n",
      "1234567\n"
     ]
    }
   ],
   "source": [
    "#02非贪婪匹配\n",
    "import re\n",
    "content='Hello 1234567 World_This is a Regex Demo'\n",
    "pattern=re.compile(r'He.*?(\\d+).*Demo$')\n",
    "result=re.match(pattern,content)\n",
    "print(result)\n",
    "print(result.group())\n",
    "print(result.group(1))"
   ]
  },
  {
   "cell_type": "code",
   "execution_count": 49,
   "metadata": {},
   "outputs": [
    {
     "name": "stdout",
     "output_type": "stream",
     "text": [
      "error.html\n",
      "\n"
     ]
    }
   ],
   "source": [
    "#但这里注意，如果匹配的结果在字符串结尾，.*?就有可能匹配不到任何内容了，因为它会匹配尽可能少的字符，例如：\n",
    "import re\n",
    "content='https://www.baidu.com/search/error.html'\n",
    "result1=re.match(r'^https.*search/(.*)',content)\n",
    "result2=re.match(r'https.*search/(.*?)',content)\n",
    "print(result1.group(1))\n",
    "print(result2.group(1))"
   ]
  },
  {
   "cell_type": "code",
   "execution_count": 63,
   "metadata": {},
   "outputs": [
    {
     "name": "stdout",
     "output_type": "stream",
     "text": [
      "1234567\n"
     ]
    }
   ],
   "source": [
    "#修饰符\n",
    "#正则表达式可以包含一些可选标志修饰符来控制匹配的模式。修饰符被指定为一个可选的标志。\n",
    "import re\n",
    "content = '''Hello 1234567 World_This\n",
    "is a Regex Demo'''\n",
    "\n",
    "pattern=re.compile(r'^He.*?(\\d+).*?Demo$',re.S)\n",
    "result=re.match(pattern,content)\n",
    "print(result.group(1))"
   ]
  },
  {
   "cell_type": "code",
   "execution_count": 65,
   "metadata": {},
   "outputs": [
    {
     "name": "stdout",
     "output_type": "stream",
     "text": [
      "(百度)www.baidu.com\n"
     ]
    }
   ],
   "source": [
    "#转义匹配\n",
    "import re\n",
    "content='(百度)www.baidu.com'\n",
    "pattern=re.compile(r'\\(百度\\)www\\.baidu\\.com')\n",
    "result=re.match(pattern,content)\n",
    "print(result.group())"
   ]
  },
  {
   "cell_type": "code",
   "execution_count": 70,
   "metadata": {},
   "outputs": [
    {
     "name": "stdout",
     "output_type": "stream",
     "text": [
      "Hello 1234567 World_This is a Regex Demo\n",
      "1234567\n"
     ]
    }
   ],
   "source": [
    "#search()\n",
    "import re\n",
    "content = 'Extra stings Hello 1234567 World_This is a Regex Demo Extra stings'\n",
    "pattern=re.compile('He.*?(\\d+).*Demo')\n",
    "result=re.search(pattern,content)\n",
    "print(result.group())\n",
    "print(result.group(1))"
   ]
  },
  {
   "cell_type": "code",
   "execution_count": 77,
   "metadata": {},
   "outputs": [
    {
     "name": "stdout",
     "output_type": "stream",
     "text": [
      "齐秦 往事随风\n"
     ]
    }
   ],
   "source": [
    "import re\n",
    "html = '''<div id=\"songs-list\">\n",
    "    <h2 class=\"title\">经典老歌</h2>\n",
    "    <p class=\"introduction\">\n",
    "        经典老歌列表\n",
    "    </p>\n",
    "    <ul id=\"list\" class=\"list-group\">\n",
    "        <li data-view=\"2\">一路上有你</li>\n",
    "        <li data-view=\"7\">\n",
    "            <a href=\"/2.mp3\" singer=\"任贤齐\">沧海一声笑</a>\n",
    "        </li>\n",
    "        <li data-view=\"4\" class=\"active\">\n",
    "            <a href=\"/3.mp3\" singer=\"齐秦\">往事随风</a>\n",
    "        </li>\n",
    "        <li data-view=\"6\"><a href=\"/4.mp3\" singer=\"beyond\">光辉岁月</a></li>\n",
    "        <li data-view=\"5\"><a href=\"/5.mp3\" singer=\"陈慧琳\">记事本</a></li>\n",
    "        <li data-view=\"5\">\n",
    "            <a href=\"/6.mp3\" singer=\"邓丽君\"><i class=\"fa fa-user\"></i>但愿人长久</a>\n",
    "        </li>\n",
    "    </ul>\n",
    "</div>'''\n",
    "result=re.search('<li.*?active.*?singer=\"(.*?)\">(.*?)</a>',html,re.S)\n",
    "if result:\n",
    "    print(result.group(1), result.group(2))"
   ]
  },
  {
   "cell_type": "code",
   "execution_count": 81,
   "metadata": {},
   "outputs": [
    {
     "name": "stdout",
     "output_type": "stream",
     "text": [
      "aKyroiRixLg\n"
     ]
    }
   ],
   "source": [
    "#sub()方法\n",
    "import re\n",
    "content = '54aK54yr5oiR54ix5L2g'\n",
    "result=re.sub('\\d+','',content)\n",
    "print(result)"
   ]
  },
  {
   "cell_type": "code",
   "execution_count": 1,
   "metadata": {},
   "outputs": [
    {
     "name": "stdout",
     "output_type": "stream",
     "text": [
      "['2017', '06', '06 15:06:16,148 ', ' root ', ' DEBUG ', ' logger debug message']\n"
     ]
    }
   ],
   "source": [
    "log='2017-06-06 15:06:16,148 - root - DEBUG - logger debug message'\n",
    "print(log.split('-'))\n"
   ]
  },
  {
   "cell_type": "code",
   "execution_count": 11,
   "metadata": {},
   "outputs": [
    {
     "name": "stdout",
     "output_type": "stream",
     "text": [
      "[('http://www.baidu.com', 'baidu')]\n",
      "('http://www.baidu.com', 'baidu')\n",
      "http://www.baidu.com\n"
     ]
    }
   ],
   "source": [
    "#findall()\n",
    "import re\n",
    "content='<a href=\"http://www.baidu.com\">baidu</a>'\n",
    "pattern=re.compile('<a href=\"(.*?)\">(.*?)</a>')\n",
    "result=re.findall(pattern,content)\n",
    "print(result)\n",
    "print(result[0])\n",
    "print(result[0][0])"
   ]
  }
 ],
 "metadata": {
  "kernelspec": {
   "display_name": "Python 3",
   "language": "python",
   "name": "python3"
  },
  "language_info": {
   "codemirror_mode": {
    "name": "ipython",
    "version": 3
   },
   "file_extension": ".py",
   "mimetype": "text/x-python",
   "name": "python",
   "nbconvert_exporter": "python",
   "pygments_lexer": "ipython3",
   "version": "3.6.1"
  }
 },
 "nbformat": 4,
 "nbformat_minor": 2
}
