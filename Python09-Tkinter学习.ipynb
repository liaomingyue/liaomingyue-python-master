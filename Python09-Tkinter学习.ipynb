{
 "cells": [
  {
   "cell_type": "code",
   "execution_count": 5,
   "metadata": {
    "collapsed": true
   },
   "outputs": [],
   "source": [
    "#创建第一个tkinter程序\n",
    "from tkinter import *\n",
    "root=Tk()\n",
    "root.mainloop()"
   ]
  },
  {
   "cell_type": "code",
   "execution_count": 9,
   "metadata": {},
   "outputs": [],
   "source": [
    "#Tk类解解读\n",
    "from tkinter import *\n",
    "root=Tk()\n",
    "root.wm_title(\"窗口标题为：quincyqiang\")\n",
    "root.mainloop()"
   ]
  },
  {
   "cell_type": "code",
   "execution_count": 16,
   "metadata": {},
   "outputs": [],
   "source": [
    "#组件--label标签\n",
    "from tkinter import *\n",
    "#创建一个TK实例root\n",
    "root=Tk()\n",
    "root.wm_title('quincyqiang正在学习tkinter')\n",
    "w1=Label(root,text='正在看别人的教程',background='red',underline=True)#创建一个Label实例\n",
    "w1.pack()#找个合适的位置进行放置\n",
    "root.mainloop()"
   ]
  },
  {
   "cell_type": "code",
   "execution_count": 18,
   "metadata": {
    "collapsed": true
   },
   "outputs": [],
   "source": [
    "from tkinter import *\n",
    "#首先、创建一个tkinter实例\n",
    "root=Tk()\n",
    "root.wm_title('创建多个标签Label')\n",
    "w1=Label(root,text='我是第一个Label',background='yellow')\n",
    "w2=Label(root,text='我是第二个Label',background='red')\n",
    "w3=Label(root,text='我是第三个Label',background='green')\n",
    "w1.pack()\n",
    "w2.pack()\n",
    "w3.pack()\n",
    "root.mainloop()"
   ]
  },
  {
   "cell_type": "code",
   "execution_count": 20,
   "metadata": {
    "collapsed": true
   },
   "outputs": [],
   "source": [
    "#组件--按钮\n",
    "from tkinter import *\n",
    "def create_label():\n",
    "    global root\n",
    "    w=Label(root,text='我是一个Label')\n",
    "    w.pack()\n",
    "root=Tk()\n",
    "button=Button(root,text='点击我添加一个label',command=create_label)\n",
    "button.pack()\n",
    "root.mainloop()"
   ]
  },
  {
   "cell_type": "code",
   "execution_count": 30,
   "metadata": {},
   "outputs": [],
   "source": [
    "#这只button的属性\n",
    "from tkinter import *\n",
    "#创建一个tkinter实例\n",
    "root=Tk()\n",
    "\n",
    "button1=Button(root,text='按钮1') \n",
    "button1['width']=20\n",
    "button1['height']=2\n",
    "button1['background']='yellow'\n",
    "button1.pack()\n",
    "\n",
    "button2=Button(root,text='按钮2')\n",
    "button2['width']=30\n",
    "button2['height']=1\n",
    "button2['background']='green'\n",
    "button2.pack()\n",
    "\n",
    "root.mainloop()"
   ]
  },
  {
   "cell_type": "code",
   "execution_count": 39,
   "metadata": {},
   "outputs": [],
   "source": [
    "#布局介绍\n",
    "#pack布局\n",
    "from tkinter import *\n",
    "root=Tk()\n",
    "Button(root,text='A').pack(side=LEFT,expand=YES,fill=Y)\n",
    "Button(root,text='B').pack(side=TOP,expand=YES,fill=BOTH)\n",
    "Button(root,text='C').pack(side=RIGHT,fill=NONE,anchor=NE)\n",
    "root.mainloop()"
   ]
  },
  {
   "cell_type": "code",
   "execution_count": 61,
   "metadata": {},
   "outputs": [],
   "source": [
    "#grid布局\n",
    "from tkinter import*\n",
    "root=Tk()\n",
    "Label(root,text='账号').grid(row=0,sticky=W)\n",
    "Entry(root).grid(row=0,column=1,sticky=E)\n",
    "\n",
    "Label(root,text='密码').grid(row=1,sticky=W)\n",
    "Entry(root).grid(row=1,column=1,sticky=E)\n",
    "Button(root,text='登录').grid(row=2,column=1,sticky=W)\n",
    "Button(root,text='注册').grid(row=2,column=1,sticky=E)\n",
    "root.mainloop()"
   ]
  }
 ],
 "metadata": {
  "kernelspec": {
   "display_name": "Python 3",
   "language": "python",
   "name": "python3"
  }
 },
 "nbformat": 4,
 "nbformat_minor": 2
}
