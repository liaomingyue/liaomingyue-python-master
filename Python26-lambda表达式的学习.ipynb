{
 "cells": [
  {
   "cell_type": "markdown",
   "metadata": {},
   "source": [
    "- lambda只是一个表达式，函数体比def简单很多\n",
    "- lambda的主体只是一个表单时，而不是一个代码块。仅仅能在lambda中封装有限的逻辑进去\n",
    "- lambda表达式是起到一个函数速写的作用，允许在代码内嵌一个函数的定义\n",
    "- 下面是例子："
   ]
  },
  {
   "cell_type": "code",
   "execution_count": 1,
   "metadata": {},
   "outputs": [
    {
     "name": "stdout",
     "output_type": "stream",
     "text": [
      "4\n",
      "6\n"
     ]
    }
   ],
   "source": [
    "#定义一个lambda表达式，求三个数的和\n",
    "f=lambda x,y,z:x+y+x\n",
    "print(f(1,2,3))\n",
    "f=lambda x,y,z:x+y+z\n",
    "print(f(1,2,3))"
   ]
  },
  {
   "cell_type": "markdown",
   "metadata": {},
   "source": [
    "lambda也可以定义在def函数中"
   ]
  },
  {
   "cell_type": "code",
   "execution_count": 2,
   "metadata": {},
   "outputs": [
    {
     "name": "stdout",
     "output_type": "stream",
     "text": [
      "28\n"
     ]
    }
   ],
   "source": [
    "def action(x):\n",
    "    return lambda y:x+y\n",
    "a=action(6)\n",
    "print(a(22))"
   ]
  },
  {
   "cell_type": "markdown",
   "metadata": {},
   "source": [
    "这里定义了一个action函数，返回了一个lambda表达式。其中lambda表达式获取到了上层def作用域的变量名x的值。\n",
    "a是action函数的返回值，a(22)，即是调用了action返回的lambda表达式。"
   ]
  },
  {
   "cell_type": "markdown",
   "metadata": {},
   "source": [
    "也可以把def直接写成lambda形式。如下："
   ]
  },
  {
   "cell_type": "code",
   "execution_count": 3,
   "metadata": {},
   "outputs": [
    {
     "data": {
      "text/plain": [
       "5"
      ]
     },
     "execution_count": 3,
     "metadata": {},
     "output_type": "execute_result"
    }
   ],
   "source": [
    "b=lambda x:lambda y:x+y\n",
    "a=b(3)\n",
    "a(2)"
   ]
  },
  {
   "cell_type": "code",
   "execution_count": 4,
   "metadata": {},
   "outputs": [
    {
     "name": "stdout",
     "output_type": "stream",
     "text": [
      "124\n",
      "124\n"
     ]
    }
   ],
   "source": [
    "#http://www.cnblogs.com/guigujun/p/6134828.html\n",
    "#对于简单的函数\n",
    "def func(arg):\n",
    "    return arg+1\n",
    "result=func(123)\n",
    "print(result)\n",
    "\n",
    "my_lamdbda=lambda arg:arg+1\n",
    "print(my_lamdbda(123))"
   ]
  },
  {
   "cell_type": "code",
   "execution_count": 5,
   "metadata": {},
   "outputs": [
    {
     "name": "stdout",
     "output_type": "stream",
     "text": [
      "111\n",
      "122\n",
      "133\n"
     ]
    }
   ],
   "source": [
    "#内置函数\n",
    "#1.map\n",
    "#遍历序列，对序列中每个元素进行操作，最终获取新的序列\n",
    "li=[11,22,33]\n",
    "new_list=map(lambda a:a+100,li)\n",
    "for i in new_list:\n",
    "    print(i)"
   ]
  },
  {
   "cell_type": "code",
   "execution_count": 8,
   "metadata": {},
   "outputs": [
    {
     "name": "stdout",
     "output_type": "stream",
     "text": [
      "12\n",
      "24\n",
      "36\n"
     ]
    }
   ],
   "source": [
    "li=[11,22,33]\n",
    "s1=[1,2,3]\n",
    "new_list=map(lambda a,b:a+b,li,s1)\n",
    "for i in new_list:\n",
    "    print(i)"
   ]
  },
  {
   "cell_type": "code",
   "execution_count": 10,
   "metadata": {},
   "outputs": [
    {
     "name": "stdout",
     "output_type": "stream",
     "text": [
      "33\n"
     ]
    }
   ],
   "source": [
    "#2.filter\n",
    "#对序列中的元素进行筛选，最终获取符合条件的序列\n",
    "li=[11,22,33]\n",
    "new_list=filter(lambda arg:arg>22,li)\n",
    "for i in new_list:\n",
    "    print(i)"
   ]
  }
 ],
 "metadata": {
  "kernelspec": {
   "display_name": "Python 3",
   "language": "python",
   "name": "python3"
  },
  "language_info": {
   "codemirror_mode": {
    "name": "ipython",
    "version": 3
   },
   "file_extension": ".py",
   "mimetype": "text/x-python",
   "name": "python",
   "nbconvert_exporter": "python",
   "pygments_lexer": "ipython3",
   "version": "3.6.1"
  }
 },
 "nbformat": 4,
 "nbformat_minor": 2
}
