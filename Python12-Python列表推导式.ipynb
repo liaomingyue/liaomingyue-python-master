{
 "cells": [
  {
   "cell_type": "code",
   "execution_count": 4,
   "metadata": {},
   "outputs": [
    {
     "data": {
      "text/plain": [
       "[0, 1, 4, 9, 16, 25, 36, 49, 64, 81]"
      ]
     },
     "execution_count": 4,
     "metadata": {},
     "output_type": "execute_result"
    }
   ],
   "source": [
    "#01平方列表\n",
    "squares=[]\n",
    "for x in range(10):\n",
    "    squares.append(x**2)\n",
    "squares"
   ]
  },
  {
   "cell_type": "code",
   "execution_count": 12,
   "metadata": {},
   "outputs": [
    {
     "data": {
      "text/plain": [
       "[0, 1, 4, 9, 16, 25, 36, 49, 64, 81]"
      ]
     },
     "execution_count": 12,
     "metadata": {},
     "output_type": "execute_result"
    }
   ],
   "source": [
    "squares=[x**2 for x in range(10)]\n",
    "squares"
   ]
  },
  {
   "cell_type": "code",
   "execution_count": 19,
   "metadata": {},
   "outputs": [
    {
     "data": {
      "text/plain": [
       "[0, 3, 6, 9, 12, 15, 18, 21, 24, 27, 30, 33, 36, 39, 42, 45, 48, 51, 54, 57]"
      ]
     },
     "execution_count": 19,
     "metadata": {},
     "output_type": "execute_result"
    }
   ],
   "source": [
    "#02整除3的整数\n",
    "numbers=[]\n",
    "for x in range(60):\n",
    "    if x%3 ==0:\n",
    "        numbers.append(x)\n",
    "numbers"
   ]
  },
  {
   "cell_type": "code",
   "execution_count": 22,
   "metadata": {},
   "outputs": [
    {
     "data": {
      "text/plain": [
       "[0, 3, 6, 9, 12, 15, 18, 21, 24, 27, 30, 33, 36, 39, 42, 45, 48, 51, 54, 57]"
      ]
     },
     "execution_count": 22,
     "metadata": {},
     "output_type": "execute_result"
    }
   ],
   "source": [
    "numbers=[x for x in range(60) if x%3==0]\n",
    "numbers"
   ]
  },
  {
   "cell_type": "code",
   "execution_count": 27,
   "metadata": {},
   "outputs": [
    {
     "data": {
      "text/plain": [
       "['《林中鸟》.txt',\n",
       " '《逐世行》.txt',\n",
       " '三生三世.txt',\n",
       " '不知最近为什么总是不随心意.txt',\n",
       " '丑八怪.txt',\n",
       " '你好灰姑娘.txt',\n",
       " '凉凉.txt',\n",
       " '刚好遇见你.txt',\n",
       " '启程.txt',\n",
       " '告白气球.txt',\n",
       " '成都.txt',\n",
       " '我匆匆地走入森林中.txt',\n",
       " '我陈一发最牛逼.txt',\n",
       " '水心.txt',\n",
       " '灵主不悔.txt',\n",
       " '盗心贼.txt']"
      ]
     },
     "execution_count": 27,
     "metadata": {},
     "output_type": "execute_result"
    }
   ],
   "source": [
    "#获取文件列表\n",
    "import os\n",
    "files=[]\n",
    "for f in os.listdir('C:/Users/Perfect/Desktop/lyric'):\n",
    "    if f.endswith('.txt'):\n",
    "        files.append(f)\n",
    "files"
   ]
  },
  {
   "cell_type": "code",
   "execution_count": 29,
   "metadata": {},
   "outputs": [
    {
     "data": {
      "text/plain": [
       "['《林中鸟》.txt',\n",
       " '《逐世行》.txt',\n",
       " '三生三世.txt',\n",
       " '不知最近为什么总是不随心意.txt',\n",
       " '丑八怪.txt',\n",
       " '你好灰姑娘.txt',\n",
       " '凉凉.txt',\n",
       " '刚好遇见你.txt',\n",
       " '启程.txt',\n",
       " '告白气球.txt',\n",
       " '成都.txt',\n",
       " '我匆匆地走入森林中.txt',\n",
       " '我陈一发最牛逼.txt',\n",
       " '水心.txt',\n",
       " '灵主不悔.txt',\n",
       " '盗心贼.txt']"
      ]
     },
     "execution_count": 29,
     "metadata": {},
     "output_type": "execute_result"
    }
   ],
   "source": [
    "files=[f for f in os.listdir(os.path.abspath('C:/Users/Perfect/Desktop/lyric')) if f.endswith('.txt')]\n",
    "files"
   ]
  }
 ],
 "metadata": {
  "kernelspec": {
   "display_name": "Python 3",
   "language": "python",
   "name": "python3"
  },
  "language_info": {
   "codemirror_mode": {
    "name": "ipython",
    "version": 3
   },
   "file_extension": ".py",
   "mimetype": "text/x-python",
   "name": "python",
   "nbconvert_exporter": "python",
   "pygments_lexer": "ipython3",
   "version": "3.6.1"
  }
 },
 "nbformat": 4,
 "nbformat_minor": 2
}
