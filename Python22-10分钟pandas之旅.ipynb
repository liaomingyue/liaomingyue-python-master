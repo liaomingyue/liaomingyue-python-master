{
 "cells": [
  {
   "cell_type": "markdown",
   "metadata": {
    "collapsed": true
   },
   "source": [
    "参考：\n",
    "\n",
    "https://jizhi.im/blog/post/10min2pandas01\n",
    "\n",
    "http://pandas.pydata.org/pandas-docs/stable/10min.html"
   ]
  },
  {
   "cell_type": "code",
   "execution_count": 2,
   "metadata": {},
   "outputs": [],
   "source": [
    "import pandas as pd\n",
    "import numpy as np\n",
    "import matplotlib.pyplot as plt"
   ]
  },
  {
   "cell_type": "code",
   "execution_count": 2,
   "metadata": {},
   "outputs": [
    {
     "name": "stdout",
     "output_type": "stream",
     "text": [
      "0    1.0\n",
      "1    3.0\n",
      "2    5.0\n",
      "3    NaN\n",
      "4    6.0\n",
      "5    8.0\n",
      "dtype: float64\n"
     ]
    }
   ],
   "source": [
    "#创建一个Series对象：传递一个数值列表作为参数，令Pandas使用默认索引\n",
    "s=pd.Series([1,3,5,np.nan,6,8])\n",
    "print(s)"
   ]
  },
  {
   "cell_type": "code",
   "execution_count": null,
   "metadata": {
    "collapsed": true
   },
   "outputs": [],
   "source": [
    "#创建一个DataFrame对象:传递datetime索引和列表签的Numpy数组作为参数\n",
    "#首先创建一个时间序列\n",
    "dates=pd.date_range('20130101',periods=6)\n",
    "print(dates)\n",
    "#创建DataFrame对象，指定index和columns标签\n",
    "df=pd.DataFrame(np.random.randn(6,4),index=dates,columns=list('ABCD'))\n",
    "print(df)"
   ]
  },
  {
   "cell_type": "code",
   "execution_count": 6,
   "metadata": {},
   "outputs": [
    {
     "name": "stdout",
     "output_type": "stream",
     "text": [
      "                   A         B         C         D\n",
      "2013-01-01  0.508963 -0.033850 -1.102689 -1.074022\n",
      "2013-01-02 -2.006031 -0.199846  1.551850  0.513289\n",
      "2013-01-03 -0.642342  1.327011 -0.312336 -1.740733\n",
      "2013-01-04 -0.951646 -1.977274 -0.065789  1.866246\n",
      "2013-01-05  0.017630 -0.465354  1.227774 -2.033067\n",
      "                   A         B         C         D\n",
      "2013-01-04 -0.951646 -1.977274 -0.065789  1.866246\n",
      "2013-01-05  0.017630 -0.465354  1.227774 -2.033067\n",
      "2013-01-06 -0.408561  0.684235  1.401449 -1.562944\n"
     ]
    }
   ],
   "source": [
    "#观察数据\n",
    "#查看一个DataFrame对象的前几行和最后几行\n",
    "print(df.head())\n",
    "print(df.tail(3))\n",
    "#默认情况下 .head()和.tail()输出首尾的前5行，也可以指定输出行数"
   ]
  },
  {
   "cell_type": "code",
   "execution_count": 7,
   "metadata": {},
   "outputs": [
    {
     "name": "stdout",
     "output_type": "stream",
     "text": [
      "DatetimeIndex(['2013-01-01', '2013-01-02', '2013-01-03', '2013-01-04',\n",
      "               '2013-01-05', '2013-01-06'],\n",
      "              dtype='datetime64[ns]', freq='D')\n",
      "Index(['A', 'B', 'C', 'D'], dtype='object')\n",
      "[[ 0.50896273 -0.03384979 -1.10268864 -1.0740221 ]\n",
      " [-2.00603076 -0.1998463   1.55184982  0.51328885]\n",
      " [-0.64234168  1.32701117 -0.31233634 -1.74073316]\n",
      " [-0.95164564 -1.97727362 -0.06578932  1.86624618]\n",
      " [ 0.01763029 -0.46535356  1.2277738  -2.03306673]\n",
      " [-0.40856091  0.68423466  1.40144867 -1.56294408]]\n",
      "              A         B         C         D\n",
      "count  6.000000  6.000000  6.000000  6.000000\n",
      "mean  -0.580331 -0.110846  0.450043 -0.671872\n",
      "std    0.865790  1.124514  1.093828  1.536079\n",
      "min   -2.006031 -1.977274 -1.102689 -2.033067\n",
      "25%   -0.874320 -0.398977 -0.250700 -1.696286\n",
      "50%   -0.525451 -0.116848  0.580992 -1.318483\n",
      "75%   -0.088918  0.504714  1.358030  0.116461\n",
      "max    0.508963  1.327011  1.551850  1.866246\n"
     ]
    }
   ],
   "source": [
    "#查看索引\n",
    "print(df.index)\n",
    "#列表签\n",
    "print(df.columns)\n",
    "#数值\n",
    "print(df.values)\n",
    "#统计\n",
    "print(df.describe())"
   ]
  },
  {
   "cell_type": "code",
   "execution_count": 8,
   "metadata": {},
   "outputs": [
    {
     "name": "stdout",
     "output_type": "stream",
     "text": [
      "   2013-01-01  2013-01-02  2013-01-03  2013-01-04  2013-01-05  2013-01-06\n",
      "A    0.508963   -2.006031   -0.642342   -0.951646    0.017630   -0.408561\n",
      "B   -0.033850   -0.199846    1.327011   -1.977274   -0.465354    0.684235\n",
      "C   -1.102689    1.551850   -0.312336   -0.065789    1.227774    1.401449\n",
      "D   -1.074022    0.513289   -1.740733    1.866246   -2.033067   -1.562944\n",
      "                   D         C         B         A\n",
      "2013-01-01 -1.074022 -1.102689 -0.033850  0.508963\n",
      "2013-01-02  0.513289  1.551850 -0.199846 -2.006031\n",
      "2013-01-03 -1.740733 -0.312336  1.327011 -0.642342\n",
      "2013-01-04  1.866246 -0.065789 -1.977274 -0.951646\n",
      "2013-01-05 -2.033067  1.227774 -0.465354  0.017630\n",
      "2013-01-06 -1.562944  1.401449  0.684235 -0.408561\n",
      "                   A         B         C         D\n",
      "2013-01-04 -0.951646 -1.977274 -0.065789  1.866246\n",
      "2013-01-05  0.017630 -0.465354  1.227774 -2.033067\n",
      "2013-01-02 -2.006031 -0.199846  1.551850  0.513289\n",
      "2013-01-01  0.508963 -0.033850 -1.102689 -1.074022\n",
      "2013-01-06 -0.408561  0.684235  1.401449 -1.562944\n",
      "2013-01-03 -0.642342  1.327011 -0.312336 -1.740733\n"
     ]
    }
   ],
   "source": [
    "# 灵活调教你的DataFrame\n",
    "#转置\n",
    "print(df.T)\n",
    "#按列排序，逐步递减\n",
    "print(df.sort_index(axis=1,ascending=False))\n",
    "#按值排序，‘B’列逐行递增\n",
    "print(df.sort_values(by='B'))"
   ]
  },
  {
   "cell_type": "code",
   "execution_count": 9,
   "metadata": {},
   "outputs": [
    {
     "name": "stdout",
     "output_type": "stream",
     "text": [
      "2013-01-01    0.508963\n",
      "2013-01-02   -2.006031\n",
      "2013-01-03   -0.642342\n",
      "2013-01-04   -0.951646\n",
      "2013-01-05    0.017630\n",
      "2013-01-06   -0.408561\n",
      "Freq: D, Name: A, dtype: float64\n",
      "2013-01-01    0.508963\n",
      "2013-01-02   -2.006031\n",
      "2013-01-03   -0.642342\n",
      "2013-01-04   -0.951646\n",
      "2013-01-05    0.017630\n",
      "2013-01-06   -0.408561\n",
      "Freq: D, Name: A, dtype: float64\n",
      "                   A         B         C         D\n",
      "2013-01-01  0.508963 -0.033850 -1.102689 -1.074022\n",
      "2013-01-02 -2.006031 -0.199846  1.551850  0.513289\n",
      "2013-01-03 -0.642342  1.327011 -0.312336 -1.740733\n",
      "                   A         B         C         D\n",
      "2013-01-02 -2.006031 -0.199846  1.551850  0.513289\n",
      "2013-01-03 -0.642342  1.327011 -0.312336 -1.740733\n",
      "2013-01-04 -0.951646 -1.977274 -0.065789  1.866246\n"
     ]
    }
   ],
   "source": [
    "#选中\n",
    "#获取\n",
    "print(df[\"A\"])#与df.A相同\n",
    "print(df.A)\n",
    "#使用[]分割DataFrame\n",
    "print(df[0:3])\n",
    "print(df['20130102':'20130104'])"
   ]
  },
  {
   "cell_type": "code",
   "execution_count": 10,
   "metadata": {},
   "outputs": [
    {
     "name": "stdout",
     "output_type": "stream",
     "text": [
      "<pandas.core.indexing._LocIndexer object at 0x000001A8E66F73C8>\n",
      "                   A         B\n",
      "2013-01-01  0.508963 -0.033850\n",
      "2013-01-02 -2.006031 -0.199846\n",
      "2013-01-03 -0.642342  1.327011\n",
      "2013-01-04 -0.951646 -1.977274\n",
      "2013-01-05  0.017630 -0.465354\n",
      "2013-01-06 -0.408561  0.684235\n",
      "                   A         B\n",
      "2013-01-02 -2.006031 -0.199846\n",
      "2013-01-03 -0.642342  1.327011\n",
      "2013-01-04 -0.951646 -1.977274\n",
      "0.508962730383\n",
      "0.508962730383\n"
     ]
    }
   ],
   "source": [
    "#按标签选择\n",
    "#选中一行\n",
    "print(df.loc(dates[0]))\n",
    "#标签选中复制数列（所有行，输出只显示前5行）\n",
    "print(df.loc[:,['A','B']])\n",
    "#行，列同时切分（包括起止点）\n",
    "print(df.loc['20130102':'20130104',['A','B']])\n",
    "#返回一个元素（两种等效）\n",
    "print(df.loc[dates[0],'A'])\n",
    "print(df.at[dates[0],'A'])"
   ]
  },
  {
   "cell_type": "code",
   "execution_count": 16,
   "metadata": {},
   "outputs": [
    {
     "name": "stdout",
     "output_type": "stream",
     "text": [
      "                   A         B         C         D\n",
      "2013-01-01  0.508963 -0.033850 -1.102689 -1.074022\n",
      "2013-01-02 -2.006031 -0.199846  1.551850  0.513289\n",
      "2013-01-03 -0.642342  1.327011 -0.312336 -1.740733\n",
      "2013-01-04 -0.951646 -1.977274 -0.065789  1.866246\n",
      "2013-01-05  0.017630 -0.465354  1.227774 -2.033067\n",
      "2013-01-06 -0.408561  0.684235  1.401449 -1.562944\n",
      "A   -0.951646\n",
      "B   -1.977274\n",
      "C   -0.065789\n",
      "D    1.866246\n",
      "Name: 2013-01-04 00:00:00, dtype: float64\n",
      "                   A         B\n",
      "2013-01-04 -0.951646 -1.977274\n",
      "2013-01-05  0.017630 -0.465354\n",
      "-0.199846298258\n",
      "-0.199846298258\n"
     ]
    }
   ],
   "source": [
    "#按位置选择\n",
    "#位置索引为3的列，（从0开始，所以其实是第4列）\n",
    "print(df)\n",
    "print(df.iloc[3])\n",
    "#按位置索引分割DataFrame\n",
    "print(df.iloc[3:5,0:2])\n",
    "#指定定位一个特定元素\n",
    "print(df.iloc[1,1])\n",
    "print(df.iat[1,1])"
   ]
  },
  {
   "cell_type": "code",
   "execution_count": 21,
   "metadata": {},
   "outputs": [
    {
     "name": "stdout",
     "output_type": "stream",
     "text": [
      "2013-01-01     True\n",
      "2013-01-02    False\n",
      "2013-01-03    False\n",
      "2013-01-04    False\n",
      "2013-01-05     True\n",
      "2013-01-06    False\n",
      "Freq: D, Name: A, dtype: bool\n"
     ]
    },
    {
     "data": {
      "text/html": [
       "<div>\n",
       "<style>\n",
       "    .dataframe thead tr:only-child th {\n",
       "        text-align: right;\n",
       "    }\n",
       "\n",
       "    .dataframe thead th {\n",
       "        text-align: left;\n",
       "    }\n",
       "\n",
       "    .dataframe tbody tr th {\n",
       "        vertical-align: top;\n",
       "    }\n",
       "</style>\n",
       "<table border=\"1\" class=\"dataframe\">\n",
       "  <thead>\n",
       "    <tr style=\"text-align: right;\">\n",
       "      <th></th>\n",
       "      <th>A</th>\n",
       "      <th>B</th>\n",
       "      <th>C</th>\n",
       "      <th>D</th>\n",
       "    </tr>\n",
       "  </thead>\n",
       "  <tbody>\n",
       "    <tr>\n",
       "      <th>2013-01-01</th>\n",
       "      <td>0.508963</td>\n",
       "      <td>-0.033850</td>\n",
       "      <td>-1.102689</td>\n",
       "      <td>-1.074022</td>\n",
       "    </tr>\n",
       "    <tr>\n",
       "      <th>2013-01-02</th>\n",
       "      <td>-2.006031</td>\n",
       "      <td>-0.199846</td>\n",
       "      <td>1.551850</td>\n",
       "      <td>0.513289</td>\n",
       "    </tr>\n",
       "    <tr>\n",
       "      <th>2013-01-03</th>\n",
       "      <td>-0.642342</td>\n",
       "      <td>1.327011</td>\n",
       "      <td>-0.312336</td>\n",
       "      <td>-1.740733</td>\n",
       "    </tr>\n",
       "    <tr>\n",
       "      <th>2013-01-04</th>\n",
       "      <td>-0.951646</td>\n",
       "      <td>-1.977274</td>\n",
       "      <td>-0.065789</td>\n",
       "      <td>1.866246</td>\n",
       "    </tr>\n",
       "    <tr>\n",
       "      <th>2013-01-05</th>\n",
       "      <td>0.017630</td>\n",
       "      <td>-0.465354</td>\n",
       "      <td>1.227774</td>\n",
       "      <td>-2.033067</td>\n",
       "    </tr>\n",
       "    <tr>\n",
       "      <th>2013-01-06</th>\n",
       "      <td>-0.408561</td>\n",
       "      <td>0.684235</td>\n",
       "      <td>1.401449</td>\n",
       "      <td>-1.562944</td>\n",
       "    </tr>\n",
       "  </tbody>\n",
       "</table>\n",
       "</div>"
      ],
      "text/plain": [
       "                   A         B         C         D\n",
       "2013-01-01  0.508963 -0.033850 -1.102689 -1.074022\n",
       "2013-01-02 -2.006031 -0.199846  1.551850  0.513289\n",
       "2013-01-03 -0.642342  1.327011 -0.312336 -1.740733\n",
       "2013-01-04 -0.951646 -1.977274 -0.065789  1.866246\n",
       "2013-01-05  0.017630 -0.465354  1.227774 -2.033067\n",
       "2013-01-06 -0.408561  0.684235  1.401449 -1.562944"
      ]
     },
     "execution_count": 21,
     "metadata": {},
     "output_type": "execute_result"
    }
   ],
   "source": [
    "#布尔值索引\n",
    "print(df.A>0)\n",
    "#使用.isin函数过滤数据\n",
    "df2=df.copy()\n",
    "df2"
   ]
  },
  {
   "cell_type": "code",
   "execution_count": 26,
   "metadata": {},
   "outputs": [
    {
     "name": "stdout",
     "output_type": "stream",
     "text": [
      "                   A         B         C         D     E\n",
      "2013-01-03 -0.642342  1.327011 -0.312336 -1.740733   two\n",
      "2013-01-05  0.017630 -0.465354  1.227774 -2.033067  four\n"
     ]
    }
   ],
   "source": [
    "df2['E']=['one','one','two','three','four','three']\n",
    "#提取df2中'E'值属于['two','four']的行\n",
    "print(df2[df2['E'].isin(['two','four'])])"
   ]
  },
  {
   "cell_type": "code",
   "execution_count": 43,
   "metadata": {},
   "outputs": [
    {
     "name": "stdout",
     "output_type": "stream",
     "text": [
      "2013-01-01    1\n",
      "2013-01-02    2\n",
      "2013-01-03    3\n",
      "2013-01-04    4\n",
      "2013-01-05    5\n",
      "2013-01-06    6\n",
      "Freq: D, dtype: int64\n",
      "6\n",
      "                   A         B         C  D  F\n",
      "2013-01-01  0.000000  0.000000 -1.102689  5  1\n",
      "2013-01-02 -2.006031 -0.199846  1.551850  5  2\n",
      "2013-01-03 -0.642342  1.327011 -0.312336  5  3\n",
      "2013-01-04 -0.951646 -1.977274 -0.065789  5  4\n",
      "2013-01-05  0.017630 -0.465354  1.227774  5  5\n",
      "2013-01-06 -0.408561  0.684235  1.401449  5  6\n"
     ]
    }
   ],
   "source": [
    "#为DataFrame创建一个新的列，其值为时间顺序的索引值\n",
    "s1=pd.Series([1,2,3,4,5,6],index=pd.date_range('20130101',periods=6))\n",
    "print(s1)\n",
    "df['F']=s1\n",
    "#按标签赋值\n",
    "df.at[dates[0],'A']=0\n",
    "#按索引赋值\n",
    "df.iat[0,1]=0\n",
    "#使用numpy数组赋值\n",
    "df.loc[:,'D']=np.array([5]*len(df))\n",
    "print(len(df))\n",
    "print(df)"
   ]
  },
  {
   "cell_type": "code",
   "execution_count": 53,
   "metadata": {},
   "outputs": [
    {
     "name": "stdout",
     "output_type": "stream",
     "text": [
      "                   A         B         C  D  F    E\n",
      "2013-01-01  0.000000  0.000000 -1.102689  5  1  1.0\n",
      "2013-01-02 -2.006031 -0.199846  1.551850  5  2  1.0\n",
      "2013-01-03 -0.642342  1.327011 -0.312336  5  3  NaN\n",
      "2013-01-04 -0.951646 -1.977274 -0.065789  5  4  NaN\n"
     ]
    }
   ],
   "source": [
    "#创建Dataframe对象，以dates[0:4]为索引，在df基础上再加一个新的‘E’列\n",
    "df1=df.reindex(index=dates[0:4],columns=list(df.columns)+['E'])\n",
    "#将'E'列的前两个行设为1\n",
    "df1.loc[dates[0]:dates[1],'E']=1\n",
    "print(df1)"
   ]
  },
  {
   "cell_type": "code",
   "execution_count": 58,
   "metadata": {},
   "outputs": [
    {
     "data": {
      "text/html": [
       "<div>\n",
       "<style>\n",
       "    .dataframe thead tr:only-child th {\n",
       "        text-align: right;\n",
       "    }\n",
       "\n",
       "    .dataframe thead th {\n",
       "        text-align: left;\n",
       "    }\n",
       "\n",
       "    .dataframe tbody tr th {\n",
       "        vertical-align: top;\n",
       "    }\n",
       "</style>\n",
       "<table border=\"1\" class=\"dataframe\">\n",
       "  <thead>\n",
       "    <tr style=\"text-align: right;\">\n",
       "      <th></th>\n",
       "      <th>A</th>\n",
       "      <th>B</th>\n",
       "      <th>C</th>\n",
       "      <th>D</th>\n",
       "      <th>F</th>\n",
       "      <th>E</th>\n",
       "    </tr>\n",
       "  </thead>\n",
       "  <tbody>\n",
       "    <tr>\n",
       "      <th>2013-01-01</th>\n",
       "      <td>False</td>\n",
       "      <td>False</td>\n",
       "      <td>False</td>\n",
       "      <td>False</td>\n",
       "      <td>False</td>\n",
       "      <td>False</td>\n",
       "    </tr>\n",
       "    <tr>\n",
       "      <th>2013-01-02</th>\n",
       "      <td>False</td>\n",
       "      <td>False</td>\n",
       "      <td>False</td>\n",
       "      <td>False</td>\n",
       "      <td>False</td>\n",
       "      <td>False</td>\n",
       "    </tr>\n",
       "    <tr>\n",
       "      <th>2013-01-03</th>\n",
       "      <td>False</td>\n",
       "      <td>False</td>\n",
       "      <td>False</td>\n",
       "      <td>False</td>\n",
       "      <td>False</td>\n",
       "      <td>True</td>\n",
       "    </tr>\n",
       "    <tr>\n",
       "      <th>2013-01-04</th>\n",
       "      <td>False</td>\n",
       "      <td>False</td>\n",
       "      <td>False</td>\n",
       "      <td>False</td>\n",
       "      <td>False</td>\n",
       "      <td>True</td>\n",
       "    </tr>\n",
       "  </tbody>\n",
       "</table>\n",
       "</div>"
      ],
      "text/plain": [
       "                A      B      C      D      F      E\n",
       "2013-01-01  False  False  False  False  False  False\n",
       "2013-01-02  False  False  False  False  False  False\n",
       "2013-01-03  False  False  False  False  False   True\n",
       "2013-01-04  False  False  False  False  False   True"
      ]
     },
     "execution_count": 58,
     "metadata": {},
     "output_type": "execute_result"
    }
   ],
   "source": [
    "#处理缺失数据\n",
    "#去除df1中含NaN的行\n",
    "df1.dropna(how='any')\n",
    "#使用5填充缺省值\n",
    "df1.fillna(value=5)\n",
    "#判断df1中的致是否为缺失数据，返回True/False\n",
    "pd.isnull(df1)"
   ]
  },
  {
   "cell_type": "markdown",
   "metadata": {},
   "source": [
    "[pandas 中的Axis（轴）含义](https://blog.csdn.net/qq_16234613/article/details/76223188) \n",
    "![](https://img-blog.csdn.net/20170727234536310?watermark/2/text/aHR0cDovL2Jsb2cuY3Nkbi5uZXQvcXFfMTYyMzQ2MTM=/font/5a6L5L2T/fontsize/400/fill/I0JBQkFCMA==/dissolve/70/gravity/SouthEast)"
   ]
  },
  {
   "cell_type": "markdown",
   "metadata": {},
   "source": [
    "axis=0指的是逐行，axis=1指的是逐列。"
   ]
  },
  {
   "cell_type": "code",
   "execution_count": 3,
   "metadata": {},
   "outputs": [
    {
     "data": {
      "text/html": [
       "<div>\n",
       "<style scoped>\n",
       "    .dataframe tbody tr th:only-of-type {\n",
       "        vertical-align: middle;\n",
       "    }\n",
       "\n",
       "    .dataframe tbody tr th {\n",
       "        vertical-align: top;\n",
       "    }\n",
       "\n",
       "    .dataframe thead th {\n",
       "        text-align: right;\n",
       "    }\n",
       "</style>\n",
       "<table border=\"1\" class=\"dataframe\">\n",
       "  <thead>\n",
       "    <tr style=\"text-align: right;\">\n",
       "      <th></th>\n",
       "      <th>col1</th>\n",
       "      <th>col2</th>\n",
       "      <th>col3</th>\n",
       "      <th>col4</th>\n",
       "    </tr>\n",
       "  </thead>\n",
       "  <tbody>\n",
       "    <tr>\n",
       "      <th>0</th>\n",
       "      <td>1</td>\n",
       "      <td>1</td>\n",
       "      <td>1</td>\n",
       "      <td>1</td>\n",
       "    </tr>\n",
       "    <tr>\n",
       "      <th>1</th>\n",
       "      <td>2</td>\n",
       "      <td>2</td>\n",
       "      <td>2</td>\n",
       "      <td>2</td>\n",
       "    </tr>\n",
       "    <tr>\n",
       "      <th>2</th>\n",
       "      <td>3</td>\n",
       "      <td>3</td>\n",
       "      <td>3</td>\n",
       "      <td>3</td>\n",
       "    </tr>\n",
       "  </tbody>\n",
       "</table>\n",
       "</div>"
      ],
      "text/plain": [
       "   col1  col2  col3  col4\n",
       "0     1     1     1     1\n",
       "1     2     2     2     2\n",
       "2     3     3     3     3"
      ]
     },
     "execution_count": 3,
     "metadata": {},
     "output_type": "execute_result"
    }
   ],
   "source": [
    "df=pd.DataFrame([[1,1,1,1],[2,2,2,2],[3,3,3,3]],columns=['col1','col2','col3','col4'])\n",
    "df"
   ]
  },
  {
   "cell_type": "code",
   "execution_count": 4,
   "metadata": {},
   "outputs": [
    {
     "name": "stdout",
     "output_type": "stream",
     "text": [
      "col1    2.0\n",
      "col2    2.0\n",
      "col3    2.0\n",
      "col4    2.0\n",
      "dtype: float64\n"
     ]
    }
   ],
   "source": [
    "print(df.mean(axis=0))#mean(axis=0)计算的是每一列平均值， "
   ]
  },
  {
   "cell_type": "code",
   "execution_count": 5,
   "metadata": {},
   "outputs": [
    {
     "name": "stdout",
     "output_type": "stream",
     "text": [
      "0    1.0\n",
      "1    2.0\n",
      "2    3.0\n",
      "dtype: float64\n"
     ]
    }
   ],
   "source": [
    "print(df.mean(axis=1))#mean(axis=1)计算的是每一行平均值。 \n"
   ]
  },
  {
   "cell_type": "code",
   "execution_count": 6,
   "metadata": {},
   "outputs": [
    {
     "name": "stdout",
     "output_type": "stream",
     "text": [
      "   col1  col2  col3  col4\n",
      "1     2     2     2     2\n",
      "2     3     3     3     3\n"
     ]
    }
   ],
   "source": [
    "print(df.drop(0,axis=0))# drop(0,axis=0)删除行， \n"
   ]
  },
  {
   "cell_type": "code",
   "execution_count": 12,
   "metadata": {},
   "outputs": [
    {
     "name": "stdout",
     "output_type": "stream",
     "text": [
      "   col2  col3  col4\n",
      "0     1     1     1\n",
      "1     2     2     2\n",
      "2     3     3     3\n"
     ]
    }
   ],
   "source": [
    "print(df.drop('col1',axis=1))  #drop([‘col1’],axis=1)删除列。"
   ]
  },
  {
   "cell_type": "markdown",
   "metadata": {},
   "source": [
    "## pandas中reset_index的用法\n",
    "重新设置索引"
   ]
  },
  {
   "cell_type": "code",
   "execution_count": 3,
   "metadata": {},
   "outputs": [],
   "source": [
    "df = pd.DataFrame([('bird',    389.0),\n",
    "                   ('bird',     24.0),\n",
    "                   ('mammal',   80.5),\n",
    "                    ('mammal', np.nan)],\n",
    "                  index=['falcon', 'parrot', 'lion', 'monkey'],\n",
    "                  columns=('class', 'max_speed'))"
   ]
  },
  {
   "cell_type": "code",
   "execution_count": 4,
   "metadata": {},
   "outputs": [
    {
     "data": {
      "text/html": [
       "<div>\n",
       "<style scoped>\n",
       "    .dataframe tbody tr th:only-of-type {\n",
       "        vertical-align: middle;\n",
       "    }\n",
       "\n",
       "    .dataframe tbody tr th {\n",
       "        vertical-align: top;\n",
       "    }\n",
       "\n",
       "    .dataframe thead th {\n",
       "        text-align: right;\n",
       "    }\n",
       "</style>\n",
       "<table border=\"1\" class=\"dataframe\">\n",
       "  <thead>\n",
       "    <tr style=\"text-align: right;\">\n",
       "      <th></th>\n",
       "      <th>class</th>\n",
       "      <th>max_speed</th>\n",
       "    </tr>\n",
       "  </thead>\n",
       "  <tbody>\n",
       "    <tr>\n",
       "      <th>falcon</th>\n",
       "      <td>bird</td>\n",
       "      <td>389.0</td>\n",
       "    </tr>\n",
       "    <tr>\n",
       "      <th>parrot</th>\n",
       "      <td>bird</td>\n",
       "      <td>24.0</td>\n",
       "    </tr>\n",
       "    <tr>\n",
       "      <th>lion</th>\n",
       "      <td>mammal</td>\n",
       "      <td>80.5</td>\n",
       "    </tr>\n",
       "    <tr>\n",
       "      <th>monkey</th>\n",
       "      <td>mammal</td>\n",
       "      <td>NaN</td>\n",
       "    </tr>\n",
       "  </tbody>\n",
       "</table>\n",
       "</div>"
      ],
      "text/plain": [
       "         class  max_speed\n",
       "falcon    bird      389.0\n",
       "parrot    bird       24.0\n",
       "lion    mammal       80.5\n",
       "monkey  mammal        NaN"
      ]
     },
     "execution_count": 4,
     "metadata": {},
     "output_type": "execute_result"
    }
   ],
   "source": [
    "df"
   ]
  },
  {
   "cell_type": "code",
   "execution_count": 10,
   "metadata": {},
   "outputs": [
    {
     "data": {
      "text/html": [
       "<div>\n",
       "<style scoped>\n",
       "    .dataframe tbody tr th:only-of-type {\n",
       "        vertical-align: middle;\n",
       "    }\n",
       "\n",
       "    .dataframe tbody tr th {\n",
       "        vertical-align: top;\n",
       "    }\n",
       "\n",
       "    .dataframe thead th {\n",
       "        text-align: right;\n",
       "    }\n",
       "</style>\n",
       "<table border=\"1\" class=\"dataframe\">\n",
       "  <thead>\n",
       "    <tr style=\"text-align: right;\">\n",
       "      <th></th>\n",
       "      <th>index</th>\n",
       "      <th>class</th>\n",
       "      <th>max_speed</th>\n",
       "    </tr>\n",
       "  </thead>\n",
       "  <tbody>\n",
       "    <tr>\n",
       "      <th>0</th>\n",
       "      <td>falcon</td>\n",
       "      <td>bird</td>\n",
       "      <td>389.0</td>\n",
       "    </tr>\n",
       "    <tr>\n",
       "      <th>1</th>\n",
       "      <td>parrot</td>\n",
       "      <td>bird</td>\n",
       "      <td>24.0</td>\n",
       "    </tr>\n",
       "    <tr>\n",
       "      <th>2</th>\n",
       "      <td>lion</td>\n",
       "      <td>mammal</td>\n",
       "      <td>80.5</td>\n",
       "    </tr>\n",
       "    <tr>\n",
       "      <th>3</th>\n",
       "      <td>monkey</td>\n",
       "      <td>mammal</td>\n",
       "      <td>NaN</td>\n",
       "    </tr>\n",
       "  </tbody>\n",
       "</table>\n",
       "</div>"
      ],
      "text/plain": [
       "    index   class  max_speed\n",
       "0  falcon    bird      389.0\n",
       "1  parrot    bird       24.0\n",
       "2    lion  mammal       80.5\n",
       "3  monkey  mammal        NaN"
      ]
     },
     "execution_count": 10,
     "metadata": {},
     "output_type": "execute_result"
    }
   ],
   "source": [
    "# 保留旧的索引\n",
    "df.reset_index()"
   ]
  },
  {
   "cell_type": "code",
   "execution_count": 11,
   "metadata": {},
   "outputs": [
    {
     "data": {
      "text/html": [
       "<div>\n",
       "<style scoped>\n",
       "    .dataframe tbody tr th:only-of-type {\n",
       "        vertical-align: middle;\n",
       "    }\n",
       "\n",
       "    .dataframe tbody tr th {\n",
       "        vertical-align: top;\n",
       "    }\n",
       "\n",
       "    .dataframe thead th {\n",
       "        text-align: right;\n",
       "    }\n",
       "</style>\n",
       "<table border=\"1\" class=\"dataframe\">\n",
       "  <thead>\n",
       "    <tr style=\"text-align: right;\">\n",
       "      <th></th>\n",
       "      <th>class</th>\n",
       "      <th>max_speed</th>\n",
       "    </tr>\n",
       "  </thead>\n",
       "  <tbody>\n",
       "    <tr>\n",
       "      <th>0</th>\n",
       "      <td>bird</td>\n",
       "      <td>389.0</td>\n",
       "    </tr>\n",
       "    <tr>\n",
       "      <th>1</th>\n",
       "      <td>bird</td>\n",
       "      <td>24.0</td>\n",
       "    </tr>\n",
       "    <tr>\n",
       "      <th>2</th>\n",
       "      <td>mammal</td>\n",
       "      <td>80.5</td>\n",
       "    </tr>\n",
       "    <tr>\n",
       "      <th>3</th>\n",
       "      <td>mammal</td>\n",
       "      <td>NaN</td>\n",
       "    </tr>\n",
       "  </tbody>\n",
       "</table>\n",
       "</div>"
      ],
      "text/plain": [
       "    class  max_speed\n",
       "0    bird      389.0\n",
       "1    bird       24.0\n",
       "2  mammal       80.5\n",
       "3  mammal        NaN"
      ]
     },
     "execution_count": 11,
     "metadata": {},
     "output_type": "execute_result"
    }
   ],
   "source": [
    "## 舍弃旧的索引\n",
    "df.reset_index(drop=True)"
   ]
  },
  {
   "cell_type": "code",
   "execution_count": 14,
   "metadata": {},
   "outputs": [
    {
     "data": {
      "text/html": [
       "<div>\n",
       "<style scoped>\n",
       "    .dataframe tbody tr th:only-of-type {\n",
       "        vertical-align: middle;\n",
       "    }\n",
       "\n",
       "    .dataframe tbody tr th {\n",
       "        vertical-align: top;\n",
       "    }\n",
       "\n",
       "    .dataframe thead th {\n",
       "        text-align: right;\n",
       "    }\n",
       "</style>\n",
       "<table border=\"1\" class=\"dataframe\">\n",
       "  <thead>\n",
       "    <tr style=\"text-align: right;\">\n",
       "      <th></th>\n",
       "      <th>class</th>\n",
       "      <th>max_speed</th>\n",
       "    </tr>\n",
       "  </thead>\n",
       "  <tbody>\n",
       "    <tr>\n",
       "      <th>falcon</th>\n",
       "      <td>bird</td>\n",
       "      <td>389.0</td>\n",
       "    </tr>\n",
       "    <tr>\n",
       "      <th>parrot</th>\n",
       "      <td>bird</td>\n",
       "      <td>24.0</td>\n",
       "    </tr>\n",
       "    <tr>\n",
       "      <th>lion</th>\n",
       "      <td>mammal</td>\n",
       "      <td>80.5</td>\n",
       "    </tr>\n",
       "    <tr>\n",
       "      <th>monkey</th>\n",
       "      <td>mammal</td>\n",
       "      <td>NaN</td>\n",
       "    </tr>\n",
       "  </tbody>\n",
       "</table>\n",
       "</div>"
      ],
      "text/plain": [
       "         class  max_speed\n",
       "falcon    bird      389.0\n",
       "parrot    bird       24.0\n",
       "lion    mammal       80.5\n",
       "monkey  mammal        NaN"
      ]
     },
     "execution_count": 14,
     "metadata": {},
     "output_type": "execute_result"
    }
   ],
   "source": [
    "## 此时df并没有改变\n",
    "df"
   ]
  },
  {
   "cell_type": "code",
   "execution_count": 16,
   "metadata": {},
   "outputs": [
    {
     "data": {
      "text/html": [
       "<div>\n",
       "<style scoped>\n",
       "    .dataframe tbody tr th:only-of-type {\n",
       "        vertical-align: middle;\n",
       "    }\n",
       "\n",
       "    .dataframe tbody tr th {\n",
       "        vertical-align: top;\n",
       "    }\n",
       "\n",
       "    .dataframe thead th {\n",
       "        text-align: right;\n",
       "    }\n",
       "</style>\n",
       "<table border=\"1\" class=\"dataframe\">\n",
       "  <thead>\n",
       "    <tr style=\"text-align: right;\">\n",
       "      <th></th>\n",
       "      <th>class</th>\n",
       "      <th>max_speed</th>\n",
       "    </tr>\n",
       "  </thead>\n",
       "  <tbody>\n",
       "    <tr>\n",
       "      <th>0</th>\n",
       "      <td>bird</td>\n",
       "      <td>389.0</td>\n",
       "    </tr>\n",
       "    <tr>\n",
       "      <th>1</th>\n",
       "      <td>bird</td>\n",
       "      <td>24.0</td>\n",
       "    </tr>\n",
       "    <tr>\n",
       "      <th>2</th>\n",
       "      <td>mammal</td>\n",
       "      <td>80.5</td>\n",
       "    </tr>\n",
       "    <tr>\n",
       "      <th>3</th>\n",
       "      <td>mammal</td>\n",
       "      <td>NaN</td>\n",
       "    </tr>\n",
       "  </tbody>\n",
       "</table>\n",
       "</div>"
      ],
      "text/plain": [
       "    class  max_speed\n",
       "0    bird      389.0\n",
       "1    bird       24.0\n",
       "2  mammal       80.5\n",
       "3  mammal        NaN"
      ]
     },
     "execution_count": 16,
     "metadata": {},
     "output_type": "execute_result"
    }
   ],
   "source": [
    "## 改变df\n",
    "df.reset_index(drop=True,inplace=True)\n",
    "df # 此时df已经改变"
   ]
  },
  {
   "cell_type": "code",
   "execution_count": null,
   "metadata": {},
   "outputs": [],
   "source": []
  }
 ],
 "metadata": {
  "anaconda-cloud": {},
  "kernelspec": {
   "display_name": "Python 3",
   "language": "python",
   "name": "python3"
  },
  "language_info": {
   "codemirror_mode": {
    "name": "ipython",
    "version": 3
   },
   "file_extension": ".py",
   "mimetype": "text/x-python",
   "name": "python",
   "nbconvert_exporter": "python",
   "pygments_lexer": "ipython3",
   "version": "3.6.5"
  }
 },
 "nbformat": 4,
 "nbformat_minor": 2
}
