{
 "cells": [
  {
   "cell_type": "markdown",
   "metadata": {},
   "source": [
    "# 最基础版本的rule-base机器人\n",
    "问什么，答什么"
   ]
  },
  {
   "cell_type": "code",
   "execution_count": 4,
   "metadata": {},
   "outputs": [
    {
     "name": "stdout",
     "output_type": "stream",
     "text": [
      ">>>hi\n",
      "hello\n",
      ">>>How are you?\n",
      "I`m fine\n",
      ">>>oka\n",
      "I did not understand what you said\n",
      ">>>how are u\n",
      "I did not understand what you said\n",
      ">>>bye\n"
     ]
    }
   ],
   "source": [
    "import random\n",
    "\n",
    "# 打招呼\n",
    "greetings=['hola','hello','hi','Hi','hey!','hey']\n",
    "\n",
    "# 回复打招呼\n",
    "random_greeting=random.choice(greetings)\n",
    "\n",
    "# 对于“你怎么样”这个问题的回复\n",
    "question=['How are you?','How are you doing?']\n",
    "\n",
    "# \"我很好\"\n",
    "response=['Okay','I`m fine']\n",
    "\n",
    "# 随机选择\n",
    "random_response=random.choice(response)\n",
    "\n",
    "\n",
    "# 机器人跑起来\n",
    "while True:\n",
    "    userInput=input(\">>>\")\n",
    "    if userInput in greetings:\n",
    "        print(random_greeting)\n",
    "    elif userInput in question:\n",
    "        print(random_response)\n",
    "    elif userInput=='bye':\n",
    "        break\n",
    "    else:\n",
    "        print(\"I did not understand what you said\")\n"
   ]
  },
  {
   "cell_type": "markdown",
   "metadata": {},
   "source": [
    "# 升级 1：\n",
    "显然 这样的rule太弱鸡了，我们需要更好一点的“精准对答”\n",
    "\n",
    "比如\n",
    "\n",
    "透过关键词来判断这句话的意图是什么（intents）"
   ]
  },
  {
   "cell_type": "code",
   "execution_count": 5,
   "metadata": {},
   "outputs": [
    {
     "name": "stdout",
     "output_type": "stream",
     "text": [
      ">>>hi\n",
      "hey\n",
      ">>>break\n",
      "It was nice! I went to Paris\n",
      ">>>wow\n",
      "I did not understand what you said\n",
      ">>>break\n",
      "It was nice! I went to Paris\n",
      ">>>bye\n"
     ]
    }
   ],
   "source": [
    "from nltk import word_tokenize\n",
    "import random\n",
    "\n",
    "# 打招呼\n",
    "greetings=['hola','hello','hi','Hi','hey!','hey']\n",
    "# 回复打招呼\n",
    "random_greeting=random.choice(greetings)\n",
    "\n",
    "# 对于“假期”的话题关键词\n",
    "question=['break','holiday','vacation','weekend']\n",
    "\n",
    "# 回复假期话题\n",
    "response=['It was nice! I went to Paris',\"Sadly,I just stayed at home\"]\n",
    "# 随机选一个回答\n",
    "random_response=random.choice(response)\n",
    "\n",
    "# 机器人跑起来\n",
    "while True:\n",
    "    userInput=input(\">>>\")\n",
    "    # 清理下输入，看看的=都有那些词\n",
    "    cleaned_input=word_tokenize(userInput)\n",
    "    # 这里，比较下关键词，看看它属于哪个话题\n",
    "    if not set(cleaned_input).isdisjoint(greetings):\n",
    "        print(random_greeting)\n",
    "    elif not set(cleaned_input).isdisjoint(question):\n",
    "        print(random_response)\n",
    "    # \"\"bye\"\n",
    "    elif userInput=='bye':\n",
    "        break\n",
    "    else:\n",
    "        print('I did not understand what you said')"
   ]
  },
  {
   "cell_type": "markdown",
   "metadata": {},
   "source": [
    "大家发现，这依旧是文字层面的“精准对应”，现在主流的研究方向，是做到语义层面的对应。比\n",
    "如“肚子好饿哦”，“饭店到了”都应该表示的是要吃饭了的意思。在这个层面，就需要用到word vector之类的embedding。\n",
    "\n",
    "# 升级 2：\n",
    "只会简单BB还是不行，需要拥有知识体系，才能解决用户问题。我们可以用各种数据库，建立一套体系，然后通过搜索的方式，来查找答案。比如，最简单的就是Python自己的graph数据结来搭建一个“地图”。依据这个地图，我们可以清楚的找寻一个地方到另一个地方的路径，然后作为回答，反馈给用户。"
   ]
  },
  {
   "cell_type": "code",
   "execution_count": 1,
   "metadata": {},
   "outputs": [],
   "source": [
    "# 建立一个基于目标行业的database\n",
    "# 比如，我们用python的graph\n",
    "graph={\n",
    "    '上海':['苏州','常州'],\n",
    "    '苏州':['常州','镇江'],\n",
    "    '常州':['镇江'],\n",
    "    '镇江':['常州'],\n",
    "    '盐城':['南通'],\n",
    "    '南通':['常州']\n",
    "}"
   ]
  },
  {
   "cell_type": "code",
   "execution_count": 11,
   "metadata": {},
   "outputs": [],
   "source": [
    "# 寻找A到B的路径\n",
    "def find_path(start,end,path=[]):\n",
    "    path=path+[start]\n",
    "    if start==end:\n",
    "        return path\n",
    "    if start not in graph:\n",
    "        return None\n",
    "    for node in graph[start]:\n",
    "        if node not in path:\n",
    "            newpath=find_path(node,end,path)\n",
    "            if newpath:return newpath\n",
    "    return None"
   ]
  },
  {
   "cell_type": "code",
   "execution_count": 12,
   "metadata": {},
   "outputs": [
    {
     "name": "stdout",
     "output_type": "stream",
     "text": [
      "['上海', '苏州', '常州', '镇江']\n"
     ]
    }
   ],
   "source": [
    "print(find_path('上海','镇江'))"
   ]
  },
  {
   "cell_type": "markdown",
   "metadata": {},
   "source": [
    "同样的构建知识图谱的玩法，也可以使用一些Logic Programming，比如上个世纪AI的同学会Prolog，或者比如，python版本的prolog：PyKE\n",
    "\n",
    "他们可以构建一种复杂的逻辑网络，让你方便提取信息。\n",
    "\n",
    "# 升级3：\n",
    "任何行业，都分个前端后端。\n",
    "AI也不例外。\n",
    "我们这里讲的算法，都是后端跑的，那么为了，一个靠谱的前端，很多项目往往需要一个简单易用，靠谱的前端。\n",
    "我们先来看看一个最简单的说话版本。\n",
    "利用gTTs（Google Text-to-Speech API）,把文本转为音频"
   ]
  },
  {
   "cell_type": "code",
   "execution_count": 17,
   "metadata": {},
   "outputs": [
    {
     "data": {
      "text/plain": [
       "1"
      ]
     },
     "execution_count": 17,
     "metadata": {},
     "output_type": "execute_result"
    }
   ],
   "source": [
    "from gtts import gTTS\n",
    "import os\n",
    "tts=gTTS(text=\"您好，我是您的私人助手，我叫小辣椒\",lang='zh-tw')\n",
    "tts.save('files/data/python62-data/hello.mp3')\n",
    "os.system(\"mpg321 files/data/python62-data/hello.mp3\")"
   ]
  },
  {
   "cell_type": "code",
   "execution_count": null,
   "metadata": {},
   "outputs": [],
   "source": []
  }
 ],
 "metadata": {
  "kernelspec": {
   "display_name": "Python 3",
   "language": "python",
   "name": "python3"
  },
  "language_info": {
   "codemirror_mode": {
    "name": "ipython",
    "version": 3
   },
   "file_extension": ".py",
   "mimetype": "text/x-python",
   "name": "python",
   "nbconvert_exporter": "python",
   "pygments_lexer": "ipython3",
   "version": "3.6.4"
  }
 },
 "nbformat": 4,
 "nbformat_minor": 2
}
