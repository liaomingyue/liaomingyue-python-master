{
 "cells": [
  {
   "cell_type": "markdown",
   "metadata": {},
   "source": [
    "https://github.com/bhaveshkumarraj/Deep-Neural-Network-Linear-Regression"
   ]
  },
  {
   "cell_type": "code",
   "execution_count": 1,
   "metadata": {},
   "outputs": [
    {
     "name": "stderr",
     "output_type": "stream",
     "text": [
      "G:\\ProgramData\\Anaconda3\\lib\\site-packages\\h5py\\__init__.py:36: FutureWarning: Conversion of the second argument of issubdtype from `float` to `np.floating` is deprecated. In future, it will be treated as `np.float64 == np.dtype(float).type`.\n",
      "  from ._conv import register_converters as _register_converters\n",
      "Using TensorFlow backend.\n"
     ]
    }
   ],
   "source": [
    "import numpy as np\n",
    "import urllib.request as urllib\n",
    "from sklearn.preprocessing import StandardScaler,MinMaxScaler,LabelEncoder,OneHotEncoder\n",
    "from sklearn.model_selection import train_test_split\n",
    "from sklearn.metrics import mean_squared_error\n",
    "from keras.models import Sequential\n",
    "from keras.layers import Dense"
   ]
  },
  {
   "cell_type": "code",
   "execution_count": 2,
   "metadata": {},
   "outputs": [],
   "source": [
    "# 预处理数据\n",
    "labelEncoder=LabelEncoder()\n",
    "oneHotEncoder=OneHotEncoder(categorical_features=[0])\n",
    "ss=StandardScaler()"
   ]
  },
  {
   "cell_type": "markdown",
   "metadata": {},
   "source": [
    "1.标准化StandardScaler\n",
    "1.1 概述\n",
    "我们知道，在训练模型的时候，要输入features,即因子，也叫特征。对于同一个特征，不同的样本中的取值可能会相差非常大，一些异常小或异常大的数据会误导模型的正确训练；另外，如果数据的分布很分散也会影响训练结果。以上两种方式都体现在方差会非常大。此时，我们可以将特征中的值进行标准差标准化，即转换为均值为0，方差为1的正态分布。所以在训练模型之前，一定要对特征的数据分布进行探索，并考虑是否有必要将数据进行标准化。\n",
    "\n",
    "标准差标准化也叫作Z-zero标准化，经过处理的数据会符合标准正态分布，即均值为0，方差为1。转化函数为：\n",
    "\n",
    "x* = (x - μ) /σ\n",
    "1\n",
    "公式中标准化后的值x* 等于 原来的值x先减去原数据的均值μ，然后在除以原数据的标准差σ。最后得到的新的数据的均值就是0，方差/标准差为1.\n",
    "\n",
    "注：是否要进行标准化，要根据具体实验定。如果特征非常稀疏，并且有大量的0（现实应用中很多特征都具有这个特点），Z-score 标准化的过程几乎就是一个除0的过程，结果不可预料。"
   ]
  },
  {
   "cell_type": "code",
   "execution_count": 69,
   "metadata": {},
   "outputs": [],
   "source": [
    "url = \"http://archive.ics.uci.edu/ml/machine-learning-databases/abalone/abalone.data\"\n",
    "raw_data = urllib.urlopen(url)\n",
    "DataMatrix = np.loadtxt(raw_data, dtype=str, delimiter=',')\n",
    "X=DataMatrix[:,:8]\n",
    "y=DataMatrix[:,8]"
   ]
  },
  {
   "cell_type": "code",
   "execution_count": 71,
   "metadata": {},
   "outputs": [
    {
     "name": "stdout",
     "output_type": "stream",
     "text": [
      "['M' 'M' 'F' ... 'M' 'F' 'M']\n",
      "['F' 'I' 'M']\n",
      "[2 2 0 ... 2 0 2]\n",
      "[2 2 0 ... 2 0 2]\n"
     ]
    }
   ],
   "source": [
    "# https://blog.csdn.net/appleyuchi/article/details/73503282 关于label encoder 的介绍\n",
    "# 先fit，然后transform 和fit_transform一样\n",
    "print(X[:,0])\n",
    "labelEncoder.fit(X[:,0])\n",
    "print(labelEncoder.classes_)\n",
    "t_x1=labelEncoder.transform(X[:,0])\n",
    "print(t_x1)\n",
    "\n",
    "t_x2=labelEncoder.fit_transform(X[:,0])\n",
    "print(t_x2)"
   ]
  },
  {
   "cell_type": "code",
   "execution_count": 72,
   "metadata": {},
   "outputs": [
    {
     "name": "stdout",
     "output_type": "stream",
     "text": [
      "(4177,)\n"
     ]
    },
    {
     "name": "stderr",
     "output_type": "stream",
     "text": [
      "G:\\ProgramData\\Anaconda3\\lib\\site-packages\\sklearn\\utils\\validation.py:475: DataConversionWarning: Data with input dtype <U6 was converted to float64 by MinMaxScaler.\n",
      "  warnings.warn(msg, DataConversionWarning)\n"
     ]
    }
   ],
   "source": [
    "# 关于onehotencoder的介绍在这里\n",
    "X[:,0] = labelEncoder.fit_transform(X[:,0])\n",
    "X = oneHotEncoder.fit_transform(X).toarray()\n",
    "X_train, X_test, y_train, y_test = train_test_split(X,y)\n",
    "X_train = ss.fit_transform(X_train)\n",
    "X_test = ss.transform(X_test)\n",
    "scaler = MinMaxScaler().fit(y_train.reshape(-1,1))\n",
    "y_train = scaler.transform(y_train.reshape(-1,1))\n",
    "print(y.shape)\n",
    "y_test  = scaler.transform(y_test.reshape(-1,1))"
   ]
  },
  {
   "cell_type": "code",
   "execution_count": 61,
   "metadata": {},
   "outputs": [
    {
     "name": "stdout",
     "output_type": "stream",
     "text": [
      "Epoch 1/50\n",
      "3132/3132 [==============================] - 1s 286us/step - loss: 0.0270 - acc: 3.1928e-04\n",
      "Epoch 2/50\n",
      "3132/3132 [==============================] - 0s 151us/step - loss: 0.0077 - acc: 3.1928e-04\n",
      "Epoch 3/50\n",
      "3132/3132 [==============================] - 1s 179us/step - loss: 0.0067 - acc: 3.1928e-04\n",
      "Epoch 4/50\n",
      "3132/3132 [==============================] - 1s 193us/step - loss: 0.0066 - acc: 3.1928e-04\n",
      "Epoch 5/50\n",
      "3132/3132 [==============================] - 0s 158us/step - loss: 0.0064 - acc: 3.1928e-04\n",
      "Epoch 6/50\n",
      "3132/3132 [==============================] - 0s 145us/step - loss: 0.0063 - acc: 3.1928e-04\n",
      "Epoch 7/50\n",
      "3132/3132 [==============================] - 0s 159us/step - loss: 0.0063 - acc: 3.1928e-04\n",
      "Epoch 8/50\n",
      "3132/3132 [==============================] - 0s 143us/step - loss: 0.0063 - acc: 3.1928e-04\n",
      "Epoch 9/50\n",
      "3132/3132 [==============================] - 0s 156us/step - loss: 0.0063 - acc: 3.1928e-04\n",
      "Epoch 10/50\n",
      "3132/3132 [==============================] - 0s 139us/step - loss: 0.0062 - acc: 3.1928e-04\n",
      "Epoch 11/50\n",
      "3132/3132 [==============================] - 1s 169us/step - loss: 0.0062 - acc: 3.1928e-04\n",
      "Epoch 12/50\n",
      "3132/3132 [==============================] - 0s 134us/step - loss: 0.0061 - acc: 3.1928e-04\n",
      "Epoch 13/50\n",
      "3132/3132 [==============================] - 0s 137us/step - loss: 0.0061 - acc: 3.1928e-04\n",
      "Epoch 14/50\n",
      "3132/3132 [==============================] - 0s 154us/step - loss: 0.0061 - acc: 3.1928e-04\n",
      "Epoch 15/50\n",
      "3132/3132 [==============================] - 1s 185us/step - loss: 0.0062 - acc: 3.1928e-04\n",
      "Epoch 16/50\n",
      "3132/3132 [==============================] - 0s 154us/step - loss: 0.0061 - acc: 3.1928e-04\n",
      "Epoch 17/50\n",
      "3132/3132 [==============================] - 1s 175us/step - loss: 0.0061 - acc: 3.1928e-04\n",
      "Epoch 18/50\n",
      "3132/3132 [==============================] - 0s 136us/step - loss: 0.0060 - acc: 3.1928e-04\n",
      "Epoch 19/50\n",
      "3132/3132 [==============================] - 1s 166us/step - loss: 0.0061 - acc: 3.1928e-04\n",
      "Epoch 20/50\n",
      "3132/3132 [==============================] - 0s 159us/step - loss: 0.0060 - acc: 3.1928e-04\n",
      "Epoch 21/50\n",
      "3132/3132 [==============================] - 0s 139us/step - loss: 0.0061 - acc: 3.1928e-04\n",
      "Epoch 22/50\n",
      "3132/3132 [==============================] - 0s 158us/step - loss: 0.0060 - acc: 3.1928e-04\n",
      "Epoch 23/50\n",
      "3132/3132 [==============================] - 0s 140us/step - loss: 0.0061 - acc: 3.1928e-04\n",
      "Epoch 24/50\n",
      "3132/3132 [==============================] - 0s 137us/step - loss: 0.0060 - acc: 3.1928e-04\n",
      "Epoch 25/50\n",
      "3132/3132 [==============================] - 0s 129us/step - loss: 0.0060 - acc: 3.1928e-04\n",
      "Epoch 26/50\n",
      "3132/3132 [==============================] - 0s 142us/step - loss: 0.0060 - acc: 3.1928e-04\n",
      "Epoch 27/50\n",
      "3132/3132 [==============================] - 0s 141us/step - loss: 0.0060 - acc: 3.1928e-04\n",
      "Epoch 28/50\n",
      "3132/3132 [==============================] - 0s 157us/step - loss: 0.0060 - acc: 3.1928e-04\n",
      "Epoch 29/50\n",
      "3132/3132 [==============================] - 0s 159us/step - loss: 0.0060 - acc: 3.1928e-04\n",
      "Epoch 30/50\n",
      "3132/3132 [==============================] - 0s 154us/step - loss: 0.0060 - acc: 3.1928e-04\n",
      "Epoch 31/50\n",
      "3132/3132 [==============================] - 0s 149us/step - loss: 0.0059 - acc: 3.1928e-04\n",
      "Epoch 32/50\n",
      "3132/3132 [==============================] - 0s 137us/step - loss: 0.0060 - acc: 3.1928e-04\n",
      "Epoch 33/50\n",
      "3132/3132 [==============================] - 0s 136us/step - loss: 0.0060 - acc: 3.1928e-04\n",
      "Epoch 34/50\n",
      "3132/3132 [==============================] - 0s 143us/step - loss: 0.0059 - acc: 3.1928e-04\n",
      "Epoch 35/50\n",
      "3132/3132 [==============================] - 0s 146us/step - loss: 0.0060 - acc: 3.1928e-04\n",
      "Epoch 36/50\n",
      "3132/3132 [==============================] - 0s 140us/step - loss: 0.0059 - acc: 3.1928e-04\n",
      "Epoch 37/50\n",
      "3132/3132 [==============================] - 0s 137us/step - loss: 0.0059 - acc: 3.1928e-04\n",
      "Epoch 38/50\n",
      "3132/3132 [==============================] - 0s 146us/step - loss: 0.0060 - acc: 3.1928e-04\n",
      "Epoch 39/50\n",
      "3132/3132 [==============================] - 0s 148us/step - loss: 0.0060 - acc: 3.1928e-04\n",
      "Epoch 40/50\n",
      "3132/3132 [==============================] - 0s 143us/step - loss: 0.0059 - acc: 3.1928e-04\n",
      "Epoch 41/50\n",
      "3132/3132 [==============================] - 0s 153us/step - loss: 0.0060 - acc: 3.1928e-04\n",
      "Epoch 42/50\n",
      "3132/3132 [==============================] - 0s 144us/step - loss: 0.0059 - acc: 3.1928e-04\n",
      "Epoch 43/50\n",
      "3132/3132 [==============================] - 0s 141us/step - loss: 0.0060 - acc: 3.1928e-04\n",
      "Epoch 44/50\n",
      "3132/3132 [==============================] - 0s 142us/step - loss: 0.0059 - acc: 3.1928e-04\n",
      "Epoch 45/50\n",
      "3132/3132 [==============================] - 0s 145us/step - loss: 0.0059 - acc: 3.1928e-04\n",
      "Epoch 46/50\n",
      "3132/3132 [==============================] - 0s 136us/step - loss: 0.0060 - acc: 3.1928e-04\n",
      "Epoch 47/50\n",
      "3132/3132 [==============================] - 0s 149us/step - loss: 0.0059 - acc: 3.1928e-04\n",
      "Epoch 48/50\n",
      "3132/3132 [==============================] - 0s 141us/step - loss: 0.0059 - acc: 3.1928e-04\n",
      "Epoch 49/50\n",
      "3132/3132 [==============================] - 0s 152us/step - loss: 0.0059 - acc: 3.1928e-04\n",
      "Epoch 50/50\n",
      "3132/3132 [==============================] - 0s 143us/step - loss: 0.0059 - acc: 3.1928e-04 0s - loss: 0.0067 - acc: 0.\n",
      "Root Mean Square Error : 0.0071\n"
     ]
    }
   ],
   "source": [
    "# Neural Network\n",
    "prediction_network = Sequential()\n",
    "prediction_network.add(Dense(units=10, kernel_initializer='uniform', activation='relu', input_dim=10))\n",
    "prediction_network.add(Dense(units=10, kernel_initializer='uniform', activation = 'relu'))\n",
    "prediction_network.add(Dense(units=1, kernel_initializer='uniform'))\n",
    "prediction_network.compile(optimizer='adam', loss='mean_squared_error', metrics=['accuracy'])\n",
    "\n",
    "# Fitting model\n",
    "prediction_network.fit(X_train, y_train, batch_size=10, epochs=50)\n",
    "\n",
    "# Predict the test set\n",
    "y_pred = prediction_network.predict(X_test)\n",
    "rmse = mean_squared_error(y_test, y_pred)\n",
    "print(\"Root Mean Square Error : {:.4f}\".format(rmse))\n"
   ]
  },
  {
   "cell_type": "code",
   "execution_count": 62,
   "metadata": {},
   "outputs": [
    {
     "name": "stdout",
     "output_type": "stream",
     "text": [
      "[[0.25961435]\n",
      " [0.5486993 ]\n",
      " [0.3924645 ]\n",
      " ...\n",
      " [0.47147053]\n",
      " [0.40588295]\n",
      " [0.22125278]]\n"
     ]
    }
   ],
   "source": [
    "y_pred = prediction_network.predict(X_test)\n",
    "print(y_pred)"
   ]
  },
  {
   "cell_type": "code",
   "execution_count": 64,
   "metadata": {},
   "outputs": [
    {
     "data": {
      "text/plain": [
       "array([[0.25925926],\n",
       "       [0.44444444],\n",
       "       [0.33333333],\n",
       "       ...,\n",
       "       [0.2962963 ],\n",
       "       [0.44444444],\n",
       "       [0.25925926]])"
      ]
     },
     "execution_count": 64,
     "metadata": {},
     "output_type": "execute_result"
    }
   ],
   "source": [
    "y_test"
   ]
  },
  {
   "cell_type": "code",
   "execution_count": null,
   "metadata": {},
   "outputs": [],
   "source": []
  }
 ],
 "metadata": {
  "kernelspec": {
   "display_name": "Python 3",
   "language": "python",
   "name": "python3"
  },
  "language_info": {
   "codemirror_mode": {
    "name": "ipython",
    "version": 3
   },
   "file_extension": ".py",
   "mimetype": "text/x-python",
   "name": "python",
   "nbconvert_exporter": "python",
   "pygments_lexer": "ipython3",
   "version": "3.6.5"
  }
 },
 "nbformat": 4,
 "nbformat_minor": 2
}
