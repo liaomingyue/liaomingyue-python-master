{
 "cells": [
  {
   "cell_type": "code",
   "execution_count": 1,
   "metadata": {
    "collapsed": true
   },
   "outputs": [],
   "source": [
    "import requests\n",
    "from lxml import etree"
   ]
  },
  {
   "cell_type": "code",
   "execution_count": 2,
   "metadata": {
    "collapsed": true
   },
   "outputs": [],
   "source": [
    "header={'User-Agent':'Mozilla/5.0 (Windows NT 10.0; Win64; x64) AppleWebKit/537.36 (KHTML, like Gecko) Chrome/61.0.3163.100 Safari/537.36'}\n",
    "url='http://info.ruc.edu.cn/notice_list.php?page=1'"
   ]
  },
  {
   "cell_type": "code",
   "execution_count": 5,
   "metadata": {},
   "outputs": [],
   "source": [
    "res=requests.get(url,headers=header)\n",
    "html=etree.HTML(res.text)"
   ]
  },
  {
   "cell_type": "code",
   "execution_count": 15,
   "metadata": {},
   "outputs": [
    {
     "data": {
      "text/plain": [
       "['2017/11/01',\n",
       " '2017/10/31',\n",
       " '2017/10/24',\n",
       " '2017/10/23',\n",
       " '2017/10/17',\n",
       " '2017/10/17',\n",
       " '2017/10/14',\n",
       " '2017/10/14',\n",
       " '2017/10/12',\n",
       " '2017/10/12']"
      ]
     },
     "execution_count": 15,
     "metadata": {},
     "output_type": "execute_result"
    }
   ],
   "source": [
    "#获取新闻日期\n",
    "years=html.xpath('//div[@class=\"content\"]/div[@class=\"block\"]/div[@class=\"date\"]/div[@class=\"year\"]/text()')\n",
    "days=html.xpath('//div[@class=\"content\"]/div[@class=\"block\"]/div[@class=\"date\"]/div[@class=\"day\"]/text()')\n",
    "dates=[]\n",
    "for data in zip(years,days):\n",
    "    dates.append('/'.join(data))\n",
    "dates"
   ]
  },
  {
   "cell_type": "code",
   "execution_count": 16,
   "metadata": {},
   "outputs": [
    {
     "data": {
      "text/plain": [
       "['【同等学力】2017-2018第一学期课表20171031',\n",
       " '信息学院2018年“申请—审核-复试(综合考试)”制博士生招生工作方案',\n",
       " '2017年秋季学期信息学院“手拉手”数学辅导员招聘公告',\n",
       " '关于研究生国奖增补的公示',\n",
       " '信息学院40周年院庆志愿招募公告',\n",
       " '2016-2017学年学习、专项类奖学金及荣誉称号公示',\n",
       " '关于推荐评选2016-2017学年优秀学生工作辅导员的公示',\n",
       " '2016-2017学年专项类奖学金评选结果公示',\n",
       " '关于推荐评选2016-2017学年优秀班主任、辅导员的公示',\n",
       " '中国人民大学信息学院2018年工程硕士专业学位 （软件工程领域）研究生招生简章']"
      ]
     },
     "execution_count": 16,
     "metadata": {},
     "output_type": "execute_result"
    }
   ],
   "source": [
    "#获取新闻标题\n",
    "titles=html.xpath('//div[@class=\"content\"]/div[@class=\"block\"]/div[@class=\"title\"]/a/text()')\n",
    "titles"
   ]
  },
  {
   "cell_type": "code",
   "execution_count": 20,
   "metadata": {},
   "outputs": [
    {
     "data": {
      "text/plain": [
       "['http://info.ruc.edu.cn/notice_convert_detail.php?id=1801',\n",
       " 'http://info.ruc.edu.cn/notice_convert_detail.php?id=1802',\n",
       " 'http://info.ruc.edu.cn/notice_convert_detail.php?id=1800',\n",
       " 'http://info.ruc.edu.cn/notice_convert_detail.php?id=1799',\n",
       " 'http://info.ruc.edu.cn/notice_convert_detail.php?id=1796',\n",
       " 'http://info.ruc.edu.cn/notice_convert_detail.php?id=1795',\n",
       " 'http://info.ruc.edu.cn/notice_convert_detail.php?id=1794',\n",
       " 'http://info.ruc.edu.cn/notice_convert_detail.php?id=1793',\n",
       " 'http://info.ruc.edu.cn/notice_convert_detail.php?id=1790',\n",
       " 'http://info.ruc.edu.cn/notice_convert_detail.php?id=1789']"
      ]
     },
     "execution_count": 20,
     "metadata": {},
     "output_type": "execute_result"
    }
   ],
   "source": [
    "#获取新闻链接\n",
    "hrefs=html.xpath('//div[@class=\"content\"]/div[@class=\"block\"]/div[@class=\"title\"]/a/@href')\n",
    "hrefs=[\"http://info.ruc.edu.cn/\"+href for href in hrefs]\n",
    "hrefs"
   ]
  },
  {
   "cell_type": "code",
   "execution_count": 21,
   "metadata": {},
   "outputs": [
    {
     "data": {
      "text/plain": [
       "['[浏览量：652次]',\n",
       " '[浏览量：122次]',\n",
       " '[浏览量：335次]',\n",
       " '[浏览量：488次]',\n",
       " '[浏览量：522次]',\n",
       " '[浏览量：2821次]',\n",
       " '[浏览量：330次]',\n",
       " '[浏览量：642次]',\n",
       " '[浏览量：304次]',\n",
       " '[浏览量：317次]']"
      ]
     },
     "execution_count": 21,
     "metadata": {},
     "output_type": "execute_result"
    }
   ],
   "source": [
    "#获取新闻点击量\n",
    "clicks=html.xpath('//div[@class=\"content\"]/div[@class=\"block\"]/div[@class=\"clicks\"]/text()')\n",
    "clicks"
   ]
  },
  {
   "cell_type": "code",
   "execution_count": 22,
   "metadata": {},
   "outputs": [
    {
     "name": "stdout",
     "output_type": "stream",
     "text": [
      "('2017/11/01', 'notice_convert_detail.php?id=1801', 'http://info.ruc.edu.cn/notice_convert_detail.php?id=1801', '[浏览量：652次]')\n",
      "('2017/10/31', 'notice_convert_detail.php?id=1802', 'http://info.ruc.edu.cn/notice_convert_detail.php?id=1802', '[浏览量：122次]')\n",
      "('2017/10/24', 'notice_convert_detail.php?id=1800', 'http://info.ruc.edu.cn/notice_convert_detail.php?id=1800', '[浏览量：335次]')\n",
      "('2017/10/23', 'notice_convert_detail.php?id=1799', 'http://info.ruc.edu.cn/notice_convert_detail.php?id=1799', '[浏览量：488次]')\n",
      "('2017/10/17', 'notice_convert_detail.php?id=1796', 'http://info.ruc.edu.cn/notice_convert_detail.php?id=1796', '[浏览量：522次]')\n",
      "('2017/10/17', 'notice_convert_detail.php?id=1795', 'http://info.ruc.edu.cn/notice_convert_detail.php?id=1795', '[浏览量：2821次]')\n",
      "('2017/10/14', 'notice_convert_detail.php?id=1794', 'http://info.ruc.edu.cn/notice_convert_detail.php?id=1794', '[浏览量：330次]')\n",
      "('2017/10/14', 'notice_convert_detail.php?id=1793', 'http://info.ruc.edu.cn/notice_convert_detail.php?id=1793', '[浏览量：642次]')\n",
      "('2017/10/12', 'notice_convert_detail.php?id=1790', 'http://info.ruc.edu.cn/notice_convert_detail.php?id=1790', '[浏览量：304次]')\n",
      "('2017/10/12', 'notice_convert_detail.php?id=1789', 'http://info.ruc.edu.cn/notice_convert_detail.php?id=1789', '[浏览量：317次]')\n"
     ]
    }
   ],
   "source": [
    "for data in zip(dates,titles,hrefs,clicks):\n",
    "    print(data)"
   ]
  },
  {
   "cell_type": "code",
   "execution_count": null,
   "metadata": {
    "collapsed": true
   },
   "outputs": [],
   "source": []
  }
 ],
 "metadata": {
  "kernelspec": {
   "display_name": "Python 3",
   "language": "python",
   "name": "python3"
  },
  "language_info": {
   "codemirror_mode": {
    "name": "ipython",
    "version": 3
   },
   "file_extension": ".py",
   "mimetype": "text/x-python",
   "name": "python",
   "nbconvert_exporter": "python",
   "pygments_lexer": "ipython3",
   "version": "3.6.1"
  }
 },
 "nbformat": 4,
 "nbformat_minor": 2
}
