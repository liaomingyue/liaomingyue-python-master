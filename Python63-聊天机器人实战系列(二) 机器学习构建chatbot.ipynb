{
 "cells": [
  {
   "cell_type": "markdown",
   "metadata": {},
   "source": [
    "# Chatterbot聊天机器人\n",
    "![](https://camo.githubusercontent.com/b6aaad134a52f6a76001c91321fe81a2c889c45f/68747470733a2f2f692e696d6775722e636f6d2f623353436d47542e706e67)\n",
    "chatterbot是一款python接口的，基于一系列规则和机器学习算法完成的聊天机器人。具有结构清晰，可扩展性好，简单实用的特点。\n",
    "\n",
    "# 安装\n",
    "是的，安装超级简单，用pip就可以啦\n",
    "\n",
    "pip install chatterbot\n",
    "\n",
    "# 各式各样的Adapter\n",
    "大家已经知道chatterbot的聊天逻辑和输入输出以及存储，是由各种adapter来限定的，我们先看看流程图，一会软再一起看点例子，看看怎么用。"
   ]
  },
  {
   "cell_type": "markdown",
   "metadata": {},
   "source": [
    "# 基础版本"
   ]
  },
  {
   "cell_type": "code",
   "execution_count": 21,
   "metadata": {},
   "outputs": [
    {
     "name": "stdout",
     "output_type": "stream",
     "text": [
      "List Trainer: [####################] 100%\n",
      "How do I make an omelette?\n",
      "how to make a chat bot?\n",
      "\n",
      "\n",
      "how to make a chat bot?\n",
      "Have you read the documentation?\n"
     ]
    }
   ],
   "source": [
    "from chatterbot import ChatBot\n",
    "\n",
    "\n",
    "# 构建ChatBot并指定Adapter\n",
    "bot = ChatBot(\n",
    "    'Default Response Example Bot',\n",
    "#     storage_adapter='chatterbot.storage.JsonFileStorageAdapter',\n",
    "    logic_adapters=[\n",
    "        {\n",
    "            'import_path': 'chatterbot.logic.BestMatch'\n",
    "        },\n",
    "        {\n",
    "            'import_path': 'chatterbot.logic.LowConfidenceAdapter',\n",
    "            'threshold': 0.65,\n",
    "            'default_response': 'I am sorry, but I do not understand.'\n",
    "        }\n",
    "    ],\n",
    "    trainer='chatterbot.trainers.ListTrainer'\n",
    ")\n",
    "\n",
    "# 手动给定一点语料用于训练\n",
    "bot.train([\n",
    "    'How can I help you?',\n",
    "    'I want to create a chat bot',\n",
    "    'Have you read the documentation?',\n",
    "    'No, I have not',\n",
    "    'This should help get you started: http://chatterbot.rtfd.org/en/latest/quickstart.html'\n",
    "])\n",
    "\n",
    "# 给定问题并取回结果\n",
    "question = 'How do I make an omelette?'\n",
    "print(question)\n",
    "response = bot.get_response(question)\n",
    "print(response)\n",
    "\n",
    "print(\"\\n\")\n",
    "question = 'how to make a chat bot?'\n",
    "print(question)\n",
    "response = bot.get_response(question)\n",
    "print(response)"
   ]
  },
  {
   "cell_type": "markdown",
   "metadata": {},
   "source": [
    "# 处理时间和数学计算的Adapter"
   ]
  },
  {
   "cell_type": "code",
   "execution_count": 22,
   "metadata": {},
   "outputs": [
    {
     "name": "stdout",
     "output_type": "stream",
     "text": [
      "What is 4 + 9?\n",
      "4 + 9 = 13\n",
      "\n",
      "\n",
      "What time is it?\n",
      "The current time is 02:06 PM\n"
     ]
    }
   ],
   "source": [
    "from chatterbot import ChatBot\n",
    "\n",
    "\n",
    "bot = ChatBot(\n",
    "    \"Math & Time Bot\",\n",
    "    logic_adapters=[\n",
    "        \"chatterbot.logic.MathematicalEvaluation\",\n",
    "        \"chatterbot.logic.TimeLogicAdapter\"\n",
    "    ],\n",
    "    input_adapter=\"chatterbot.input.VariableInputTypeAdapter\",\n",
    "    output_adapter=\"chatterbot.output.OutputAdapter\"\n",
    ")\n",
    "\n",
    "# 进行数学计算\n",
    "question = \"What is 4 + 9?\"\n",
    "print(question)\n",
    "response = bot.get_response(question)\n",
    "print(response)\n",
    "\n",
    "print(\"\\n\")\n",
    "\n",
    "# 回答和时间相关的问题\n",
    "question = \"What time is it?\"\n",
    "print(question)\n",
    "response = bot.get_response(question)\n",
    "print(response)"
   ]
  },
  {
   "cell_type": "markdown",
   "metadata": {},
   "source": [
    "# 导出语料到json文件"
   ]
  },
  {
   "cell_type": "code",
   "execution_count": 23,
   "metadata": {},
   "outputs": [
    {
     "name": "stdout",
     "output_type": "stream",
     "text": [
      "ai.yml Training: [####################] 100%\n",
      "botprofile.yml Training: [####################] 100%\n",
      "computers.yml Training: [####################] 100%\n",
      "conversations.yml Training: [####################] 100%\n",
      "emotion.yml Training: [####################] 100%\n",
      "food.yml Training: [####################] 100%\n",
      "gossip.yml Training: [####################] 100%\n",
      "greetings.yml Training: [####################] 100%\n",
      "history.yml Training: [####################] 100%\n",
      "humor.yml Training: [####################] 100%\n",
      "literature.yml Training: [####################] 100%\n",
      "money.yml Training: [####################] 100%\n",
      "movies.yml Training: [####################] 100%\n",
      "politics.yml Training: [####################] 100%\n",
      "psychology.yml Training: [####################] 100%\n",
      "science.yml Training: [####################] 100%\n",
      "sports.yml Training: [####################] 100%\n",
      "trivia.yml Training: [####################] 100%\n"
     ]
    }
   ],
   "source": [
    "from chatterbot import ChatBot\n",
    "\n",
    "'''\n",
    "如果一个已经训练好的chatbot，你想取出它的语料，用于别的chatbot构建，可以这么做\n",
    "'''\n",
    "\n",
    "chatbot = ChatBot(\n",
    "    'Export Example Bot',\n",
    "    trainer='chatterbot.trainers.ChatterBotCorpusTrainer'\n",
    ")\n",
    "\n",
    "# 训练一下咯\n",
    "chatbot.train('chatterbot.corpus.english')\n",
    "\n",
    "# 把语料导出到json文件中\n",
    "chatbot.trainer.export_for_training('./my_export.json')"
   ]
  },
  {
   "cell_type": "markdown",
   "metadata": {},
   "source": [
    "# 反馈式学习聊天机器人"
   ]
  },
  {
   "cell_type": "code",
   "execution_count": 24,
   "metadata": {},
   "outputs": [
    {
     "name": "stdout",
     "output_type": "stream",
     "text": [
      "Type something to begin...\n",
      "hello\n",
      "\n",
      " Is \"Hi\" this a coherent response to \"hello\"? \n",
      "\n",
      "Yes\n",
      "Hi\n"
     ]
    },
    {
     "ename": "AttributeError",
     "evalue": "'ChatBot' object has no attribute 'conversation_sessions'",
     "output_type": "error",
     "traceback": [
      "\u001b[1;31m---------------------------------------------------------------------------\u001b[0m",
      "\u001b[1;31mAttributeError\u001b[0m                            Traceback (most recent call last)",
      "\u001b[1;32m<ipython-input-24-16823e862563>\u001b[0m in \u001b[0;36m<module>\u001b[1;34m()\u001b[0m\n\u001b[0;32m     51\u001b[0m \u001b[1;33m\u001b[0m\u001b[0m\n\u001b[0;32m     52\u001b[0m         \u001b[1;31m# 更新chatbot的历史聊天数据\u001b[0m\u001b[1;33m\u001b[0m\u001b[1;33m\u001b[0m\u001b[0m\n\u001b[1;32m---> 53\u001b[1;33m         bot.conversation_sessions.update(\n\u001b[0m\u001b[0;32m     54\u001b[0m             \u001b[0mbot\u001b[0m\u001b[1;33m.\u001b[0m\u001b[0mdefault_session\u001b[0m\u001b[1;33m.\u001b[0m\u001b[0mid_string\u001b[0m\u001b[1;33m,\u001b[0m\u001b[1;33m\u001b[0m\u001b[0m\n\u001b[0;32m     55\u001b[0m             \u001b[1;33m(\u001b[0m\u001b[0mstatement\u001b[0m\u001b[1;33m,\u001b[0m \u001b[0mresponse\u001b[0m\u001b[1;33m,\u001b[0m \u001b[1;33m)\u001b[0m\u001b[1;33m\u001b[0m\u001b[0m\n",
      "\u001b[1;31mAttributeError\u001b[0m: 'ChatBot' object has no attribute 'conversation_sessions'"
     ]
    }
   ],
   "source": [
    "from chatterbot import ChatBot\n",
    "import logging\n",
    "\n",
    "\"\"\"\n",
    "反馈式的聊天机器人，会根据你的反馈进行学习\n",
    "\"\"\"\n",
    "\n",
    "# 把下面这行前的注释去掉，可以把一些信息写入日志中\n",
    "# logging.basicConfig(level=logging.INFO)\n",
    "\n",
    "# 创建一个聊天机器人\n",
    "bot = ChatBot(\n",
    "    'Feedback Learning Bot',\n",
    "#     storage_adapter='chatterbot.storage.JsonFileStorageAdapter',\n",
    "    logic_adapters=[\n",
    "        'chatterbot.logic.BestMatch'\n",
    "    ],\n",
    "    input_adapter='chatterbot.input.TerminalAdapter',\n",
    "    output_adapter='chatterbot.output.TerminalAdapter'\n",
    ")\n",
    "DEFAULT_CONVERSATION_ID = bot.default_conversation_id\n",
    "\n",
    "def get_feedback():\n",
    "    from chatterbot.utils import input_function\n",
    "\n",
    "    text = input_function()\n",
    "\n",
    "    if 'Yes' in text:\n",
    "        return True\n",
    "    elif 'No' in text:\n",
    "        return False\n",
    "    else:\n",
    "        print('Please type either \"Yes\" or \"No\"')\n",
    "        return get_feedback()\n",
    "\n",
    "\n",
    "print('Type something to begin...')\n",
    "\n",
    "# 每次用户有输入内容，这个循环就会开始执行\n",
    "while True:\n",
    "    try:\n",
    "        input_statement = bot.input.process_input_statement()\n",
    "        statement, response = bot.generate_response(input_statement, DEFAULT_CONVERSATION_ID)\n",
    "\n",
    "        print('\\n Is \"{}\" this a coherent response to \"{}\"? \\n'.format(response, input_statement))\n",
    "\n",
    "        if get_feedback():\n",
    "            bot.learn_response(response,input_statement)\n",
    "\n",
    "        bot.output.process_response(response)\n",
    "\n",
    "        # 更新chatbot的历史聊天数据\n",
    "        bot.conversation_sessions.update(\n",
    "            bot.default_session.id_string,\n",
    "            (statement, response, )\n",
    "        )\n",
    "\n",
    "    # 直到按ctrl-c 或者 ctrl-d 才会退出\n",
    "    except (KeyboardInterrupt, EOFError, SystemExit):\n",
    "        break"
   ]
  },
  {
   "cell_type": "code",
   "execution_count": null,
   "metadata": {},
   "outputs": [],
   "source": []
  }
 ],
 "metadata": {
  "kernelspec": {
   "display_name": "Python 3",
   "language": "python",
   "name": "python3"
  },
  "language_info": {
   "codemirror_mode": {
    "name": "ipython",
    "version": 3
   },
   "file_extension": ".py",
   "mimetype": "text/x-python",
   "name": "python",
   "nbconvert_exporter": "python",
   "pygments_lexer": "ipython3",
   "version": "3.6.4"
  }
 },
 "nbformat": 4,
 "nbformat_minor": 2
}
