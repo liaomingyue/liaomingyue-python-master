{
 "cells": [
  {
   "cell_type": "markdown",
   "metadata": {},
   "source": [
    "## 导入包"
   ]
  },
  {
   "cell_type": "code",
   "execution_count": 2,
   "metadata": {},
   "outputs": [],
   "source": [
    "import numpy as np\n",
    "import lightgbm as lgb\n",
    "from sklearn.datasets import load_iris\n",
    "from sklearn.model_selection import train_test_split\n",
    "from sklearn.metrics import accuracy_score"
   ]
  },
  {
   "cell_type": "markdown",
   "metadata": {},
   "source": [
    "## 加载数据"
   ]
  },
  {
   "cell_type": "code",
   "execution_count": 10,
   "metadata": {},
   "outputs": [
    {
     "name": "stdout",
     "output_type": "stream",
     "text": [
      "['setosa' 'versicolor' 'virginica']\n",
      "['sepal length (cm)', 'sepal width (cm)', 'petal length (cm)', 'petal width (cm)']\n",
      "(150, 4) (150,)\n"
     ]
    }
   ],
   "source": [
    "iris=load_iris()\n",
    "X=iris.data\n",
    "y=iris.target\n",
    "\n",
    "print(iris.target_names)\n",
    "print(iris.feature_names)\n",
    "print(X.shape,y.shape)\n",
    "\n",
    "X_train,X_test,y_train,y_test=train_test_split(X,y,test_size=0.2,random_state=0)"
   ]
  },
  {
   "cell_type": "code",
   "execution_count": 11,
   "metadata": {},
   "outputs": [],
   "source": [
    "lgb_train=lgb.Dataset(X_train,y_train)\n",
    "lgb_eval=lgb.Dataset(X_test,y_test,reference=lgb_train)"
   ]
  },
  {
   "cell_type": "markdown",
   "metadata": {},
   "source": [
    "## 训练lgb"
   ]
  },
  {
   "cell_type": "code",
   "execution_count": 12,
   "metadata": {
    "scrolled": false
   },
   "outputs": [
    {
     "name": "stdout",
     "output_type": "stream",
     "text": [
      "[1]\tvalid_0's multi_logloss: 0.954369\n",
      "Training until validation scores don't improve for 10 rounds.\n",
      "[2]\tvalid_0's multi_logloss: 0.83502\n",
      "[3]\tvalid_0's multi_logloss: 0.734525\n",
      "[4]\tvalid_0's multi_logloss: 0.648829\n",
      "[5]\tvalid_0's multi_logloss: 0.57505\n",
      "[6]\tvalid_0's multi_logloss: 0.511057\n",
      "[7]\tvalid_0's multi_logloss: 0.45522\n",
      "[8]\tvalid_0's multi_logloss: 0.407088\n",
      "[9]\tvalid_0's multi_logloss: 0.364731\n",
      "[10]\tvalid_0's multi_logloss: 0.327329\n",
      "[11]\tvalid_0's multi_logloss: 0.294204\n",
      "[12]\tvalid_0's multi_logloss: 0.264795\n",
      "[13]\tvalid_0's multi_logloss: 0.238628\n",
      "[14]\tvalid_0's multi_logloss: 0.215318\n",
      "[15]\tvalid_0's multi_logloss: 0.194491\n",
      "[16]\tvalid_0's multi_logloss: 0.175858\n",
      "[17]\tvalid_0's multi_logloss: 0.159166\n",
      "[18]\tvalid_0's multi_logloss: 0.144197\n",
      "[19]\tvalid_0's multi_logloss: 0.130761\n",
      "[20]\tvalid_0's multi_logloss: 0.118691\n",
      "[21]\tvalid_0's multi_logloss: 0.10784\n",
      "[22]\tvalid_0's multi_logloss: 0.0976998\n",
      "[23]\tvalid_0's multi_logloss: 0.0885679\n",
      "[24]\tvalid_0's multi_logloss: 0.0805959\n",
      "[25]\tvalid_0's multi_logloss: 0.073412\n",
      "[26]\tvalid_0's multi_logloss: 0.0666247\n",
      "[27]\tvalid_0's multi_logloss: 0.0607588\n",
      "[28]\tvalid_0's multi_logloss: 0.0554666\n",
      "[29]\tvalid_0's multi_logloss: 0.0506905\n",
      "[30]\tvalid_0's multi_logloss: 0.0460549\n",
      "[31]\tvalid_0's multi_logloss: 0.0418651\n",
      "[32]\tvalid_0's multi_logloss: 0.0380778\n",
      "[33]\tvalid_0's multi_logloss: 0.0346538\n",
      "[34]\tvalid_0's multi_logloss: 0.0315579\n",
      "[35]\tvalid_0's multi_logloss: 0.0287586\n",
      "[36]\tvalid_0's multi_logloss: 0.0262271\n",
      "[37]\tvalid_0's multi_logloss: 0.0240086\n",
      "[38]\tvalid_0's multi_logloss: 0.0220024\n",
      "[39]\tvalid_0's multi_logloss: 0.0201882\n",
      "[40]\tvalid_0's multi_logloss: 0.0185475\n",
      "[41]\tvalid_0's multi_logloss: 0.0170636\n",
      "[42]\tvalid_0's multi_logloss: 0.0157215\n",
      "[43]\tvalid_0's multi_logloss: 0.0145075\n",
      "[44]\tvalid_0's multi_logloss: 0.0132389\n",
      "[45]\tvalid_0's multi_logloss: 0.01209\n",
      "[46]\tvalid_0's multi_logloss: 0.0110496\n",
      "[47]\tvalid_0's multi_logloss: 0.0101074\n",
      "[48]\tvalid_0's multi_logloss: 0.00925431\n",
      "[49]\tvalid_0's multi_logloss: 0.00848187\n",
      "[50]\tvalid_0's multi_logloss: 0.00778252\n",
      "[51]\tvalid_0's multi_logloss: 0.00714936\n",
      "[52]\tvalid_0's multi_logloss: 0.00657617\n",
      "[53]\tvalid_0's multi_logloss: 0.00605729\n",
      "[54]\tvalid_0's multi_logloss: 0.00558759\n",
      "[55]\tvalid_0's multi_logloss: 0.00516242\n",
      "[56]\tvalid_0's multi_logloss: 0.00477757\n",
      "[57]\tvalid_0's multi_logloss: 0.00442924\n",
      "[58]\tvalid_0's multi_logloss: 0.00411397\n",
      "[59]\tvalid_0's multi_logloss: 0.00382862\n",
      "[60]\tvalid_0's multi_logloss: 0.00352472\n",
      "[61]\tvalid_0's multi_logloss: 0.00319086\n",
      "[62]\tvalid_0's multi_logloss: 0.00297433\n",
      "[63]\tvalid_0's multi_logloss: 0.00277835\n",
      "[64]\tvalid_0's multi_logloss: 0.00260098\n",
      "[65]\tvalid_0's multi_logloss: 0.00244046\n",
      "[66]\tvalid_0's multi_logloss: 0.00229519\n",
      "[67]\tvalid_0's multi_logloss: 0.00216373\n",
      "[68]\tvalid_0's multi_logloss: 0.00201521\n",
      "[69]\tvalid_0's multi_logloss: 0.00182639\n",
      "[70]\tvalid_0's multi_logloss: 0.00165345\n",
      "[71]\tvalid_0's multi_logloss: 0.00149859\n",
      "[72]\tvalid_0's multi_logloss: 0.00135656\n",
      "[73]\tvalid_0's multi_logloss: 0.00122961\n",
      "[74]\tvalid_0's multi_logloss: 0.00111299\n",
      "[75]\tvalid_0's multi_logloss: 0.00100895\n",
      "[76]\tvalid_0's multi_logloss: 0.000942475\n",
      "[77]\tvalid_0's multi_logloss: 0.000853762\n",
      "[78]\tvalid_0's multi_logloss: 0.000793507\n",
      "[79]\tvalid_0's multi_logloss: 0.000732303\n",
      "[80]\tvalid_0's multi_logloss: 0.000676138\n",
      "[81]\tvalid_0's multi_logloss: 0.000624574\n",
      "[82]\tvalid_0's multi_logloss: 0.000577216\n",
      "[83]\tvalid_0's multi_logloss: 0.000542511\n",
      "[84]\tvalid_0's multi_logloss: 0.000503854\n",
      "[85]\tvalid_0's multi_logloss: 0.000475449\n",
      "[86]\tvalid_0's multi_logloss: 0.000449115\n",
      "[87]\tvalid_0's multi_logloss: 0.000424802\n",
      "[88]\tvalid_0's multi_logloss: 0.000385758\n",
      "[89]\tvalid_0's multi_logloss: 0.000365769\n",
      "[90]\tvalid_0's multi_logloss: 0.000332688\n",
      "[91]\tvalid_0's multi_logloss: 0.000302686\n",
      "[92]\tvalid_0's multi_logloss: 0.000275475\n",
      "[93]\tvalid_0's multi_logloss: 0.000251713\n",
      "[94]\tvalid_0's multi_logloss: 0.00022943\n",
      "[95]\tvalid_0's multi_logloss: 0.000209305\n",
      "[96]\tvalid_0's multi_logloss: 0.000191045\n",
      "[97]\tvalid_0's multi_logloss: 0.00017449\n",
      "[98]\tvalid_0's multi_logloss: 0.000159804\n",
      "[99]\tvalid_0's multi_logloss: 0.000152224\n",
      "[100]\tvalid_0's multi_logloss: 0.000139654\n",
      "Did not meet early stopping. Best iteration is:\n",
      "[100]\tvalid_0's multi_logloss: 0.000139654\n"
     ]
    },
    {
     "name": "stderr",
     "output_type": "stream",
     "text": [
      "E:\\ProgramData\\Anaconda3\\lib\\site-packages\\lightgbm\\engine.py:111: UserWarning: Found `num_iteration` in params. Will use it instead of argument\n",
      "  warnings.warn(\"Found `{}` in params. Will use it instead of argument\".format(alias))\n"
     ]
    }
   ],
   "source": [
    "## 参数\n",
    "params={\n",
    "    'task':'train',\n",
    "    'boosting_type':'gbdt',\n",
    "    'objective':'multiclass',\n",
    "    'metric':{'multi_logloss'},\n",
    "    'num_class':3,\n",
    "    'learning_rate':0.1,\n",
    "    'num_leaves':23,\n",
    "    'min_data_in_leaf':1,\n",
    "    'num_iteration':100,\n",
    "    'verbose':0\n",
    "}\n",
    "\n",
    "##  训练\n",
    "gbm=lgb.train(params,\n",
    "             lgb_train,\n",
    "             num_boost_round=50,\n",
    "             valid_sets=lgb_eval,\n",
    "             early_stopping_rounds=10)"
   ]
  },
  {
   "cell_type": "code",
   "execution_count": 16,
   "metadata": {},
   "outputs": [
    {
     "name": "stdout",
     "output_type": "stream",
     "text": [
      "[2 1 0 2 0 2 0 1 1 1 2 1 1 1 1 0 1 1 0 0 2 1 0 0 2 0 0 1 1 0]\n"
     ]
    }
   ],
   "source": [
    "y_pred=gbm.predict(X_test,num_iteration=gbm.best_iteration)\n",
    "y_pred=np.argmax(y_pred,axis=1)\n",
    "print(y_pred)"
   ]
  },
  {
   "cell_type": "code",
   "execution_count": null,
   "metadata": {},
   "outputs": [],
   "source": []
  }
 ],
 "metadata": {
  "kernelspec": {
   "display_name": "Python 3",
   "language": "python",
   "name": "python3"
  },
  "language_info": {
   "codemirror_mode": {
    "name": "ipython",
    "version": 3
   },
   "file_extension": ".py",
   "mimetype": "text/x-python",
   "name": "python",
   "nbconvert_exporter": "python",
   "pygments_lexer": "ipython3",
   "version": "3.6.5"
  }
 },
 "nbformat": 4,
 "nbformat_minor": 2
}
