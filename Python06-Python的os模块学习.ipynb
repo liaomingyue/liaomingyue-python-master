{
 "cells": [
  {
   "cell_type": "code",
   "execution_count": 2,
   "metadata": {},
   "outputs": [
    {
     "name": "stdout",
     "output_type": "stream",
     "text": [
      "nt\n"
     ]
    }
   ],
   "source": [
    "import os\n",
    "#平台名称\n",
    "print(os.name)\n"
   ]
  },
  {
   "cell_type": "code",
   "execution_count": 9,
   "metadata": {},
   "outputs": [
    {
     "data": {
      "text/plain": [
       "'C:\\\\Users\\\\Perfect\\\\Notebook'"
      ]
     },
     "execution_count": 9,
     "metadata": {},
     "output_type": "execute_result"
    }
   ],
   "source": [
    "#获取工作路径\n",
    "os.getcwd()"
   ]
  },
  {
   "cell_type": "code",
   "execution_count": 50,
   "metadata": {
    "scrolled": true
   },
   "outputs": [
    {
     "name": "stdout",
     "output_type": "stream",
     "text": [
      "['.ipynb_checkpoints', 'access.log', 'os', 'output.txt', 'process2.log', 'Python01-文件读写的方法.ipynb', 'Python02-日志模块.ipynb', 'Python03-Matplotlib展示数据.ipynb', 'Python05-正则表达式.ipynb', 'Python06-Python的os模块学习.ipynb', 'Python4-操作mysql数据库.ipynb', 'test.txt']\n"
     ]
    },
    {
     "data": {
      "text/plain": [
       "list"
      ]
     },
     "execution_count": 50,
     "metadata": {},
     "output_type": "execute_result"
    }
   ],
   "source": [
    "#os.listdir('dirname')        #返回指定目录下的所有文件和目录名\n",
    "dir=os.listdir()\n",
    "print(dir)\n",
    "type(dir)"
   ]
  },
  {
   "cell_type": "code",
   "execution_count": 24,
   "metadata": {
    "collapsed": true
   },
   "outputs": [],
   "source": [
    "# os.remove('os') \n",
    "#  os.makedirs('dirname/dirname')     #可生成多层递规目录\n",
    "#os.rmdir('dirname')     #删除单级目录\n",
    "os.makedirs('os/dirname') \n",
    "os.rmdir('os')"
   ]
  },
  {
   "cell_type": "code",
   "execution_count": 25,
   "metadata": {},
   "outputs": [
    {
     "data": {
      "text/plain": [
       "environ({'ALLUSERSPROFILE': 'C:\\\\ProgramData', 'APPDATA': 'C:\\\\Users\\\\Perfect\\\\AppData\\\\Roaming', 'COMMONPROGRAMFILES': 'C:\\\\Program Files\\\\Common Files', 'COMMONPROGRAMFILES(X86)': 'C:\\\\Program Files (x86)\\\\Common Files', 'COMMONPROGRAMW6432': 'C:\\\\Program Files\\\\Common Files', 'COMPUTERNAME': 'QUINCY', 'COMSPEC': 'C:\\\\Windows\\\\system32\\\\cmd.exe', 'HOMEDRIVE': 'C:', 'HOMEPATH': '\\\\Users\\\\Perfect', 'LOCALAPPDATA': 'C:\\\\Users\\\\Perfect\\\\AppData\\\\Local', 'LOGONSERVER': '\\\\\\\\QUINCY', 'NUMBER_OF_PROCESSORS': '4', 'ONEDRIVE': 'C:\\\\Users\\\\Perfect\\\\OneDrive', 'OS': 'Windows_NT', 'PATH': 'E:\\\\ProgramData\\\\Anaconda3\\\\Library\\\\bin;E:\\\\ProgramData\\\\Anaconda3\\\\Library\\\\bin;E:\\\\ProgramData\\\\Anaconda3;E:\\\\ProgramData\\\\Anaconda3\\\\Library\\\\mingw-w64\\\\bin;E:\\\\ProgramData\\\\Anaconda3\\\\Library\\\\usr\\\\bin;E:\\\\ProgramData\\\\Anaconda3\\\\Library\\\\bin;E:\\\\ProgramData\\\\Anaconda3\\\\Scripts;E:\\\\ProgramData\\\\Anaconda3\\\\Library\\\\bin;C:\\\\Windows\\\\system32;C:\\\\Windows;C:\\\\Windows\\\\System32\\\\Wbem;C:\\\\Windows\\\\System32\\\\WindowsPowerShell\\\\v1.0\\\\;C:\\\\Program Files (x86)\\\\NVIDIA Corporation\\\\PhysX\\\\Common;E:\\\\Program Files (x86)\\\\Python\\\\Python36\\\\Scripts\\\\;E:\\\\Program Files (x86)\\\\Python\\\\Python36\\\\;C:\\\\Users\\\\Perfect\\\\AppData\\\\Local\\\\Microsoft\\\\WindowsApps;', 'PATHEXT': '.COM;.EXE;.BAT;.CMD;.VBS;.VBE;.JS;.JSE;.WSF;.WSH;.MSC', 'PROCESSOR_ARCHITECTURE': 'AMD64', 'PROCESSOR_IDENTIFIER': 'Intel64 Family 6 Model 60 Stepping 3, GenuineIntel', 'PROCESSOR_LEVEL': '6', 'PROCESSOR_REVISION': '3c03', 'PROGRAMDATA': 'C:\\\\ProgramData', 'PROGRAMFILES': 'C:\\\\Program Files', 'PROGRAMFILES(X86)': 'C:\\\\Program Files (x86)', 'PROGRAMW6432': 'C:\\\\Program Files', 'PSMODULEPATH': 'C:\\\\Program Files\\\\WindowsPowerShell\\\\Modules;C:\\\\Windows\\\\system32\\\\WindowsPowerShell\\\\v1.0\\\\Modules', 'PUBLIC': 'C:\\\\Users\\\\Public', 'SESSIONNAME': 'Console', 'SYSTEMDRIVE': 'C:', 'SYSTEMROOT': 'C:\\\\Windows', 'TEMP': 'C:\\\\Users\\\\Perfect\\\\AppData\\\\Local\\\\Temp', 'TMP': 'C:\\\\Users\\\\Perfect\\\\AppData\\\\Local\\\\Temp', 'USERDOMAIN': 'QUINCY', 'USERDOMAIN_ROAMINGPROFILE': 'QUINCY', 'USERNAME': 'Perfect', 'USERPROFILE': 'C:\\\\Users\\\\Perfect', 'WINDIR': 'C:\\\\Windows', 'CONDA_PREFIX': 'E:\\\\ProgramData\\\\Anaconda3', 'JPY_INTERRUPT_EVENT': '1532', 'IPY_INTERRUPT_EVENT': '1532', 'JPY_PARENT_PID': '1292', 'TERM': 'xterm-color', 'CLICOLOR': '1', 'PAGER': 'cat', 'GIT_PAGER': 'cat', 'MPLBACKEND': 'module://ipykernel.pylab.backend_inline'})"
      ]
     },
     "execution_count": 25,
     "metadata": {},
     "output_type": "execute_result"
    }
   ],
   "source": [
    "#获取环境变量\n",
    "os.environ "
   ]
  },
  {
   "cell_type": "code",
   "execution_count": 30,
   "metadata": {},
   "outputs": [
    {
     "data": {
      "text/plain": [
       "'C:\\\\Users\\\\Perfect\\\\Notebook\\\\os'"
      ]
     },
     "execution_count": 30,
     "metadata": {},
     "output_type": "execute_result"
    }
   ],
   "source": [
    "os.path.abspath('os')"
   ]
  },
  {
   "cell_type": "code",
   "execution_count": 35,
   "metadata": {},
   "outputs": [
    {
     "data": {
      "text/plain": [
       "'os'"
      ]
     },
     "execution_count": 35,
     "metadata": {},
     "output_type": "execute_result"
    }
   ],
   "source": [
    "os.path.basename('os')"
   ]
  },
  {
   "cell_type": "code",
   "execution_count": 38,
   "metadata": {},
   "outputs": [
    {
     "data": {
      "text/plain": [
       "True"
      ]
     },
     "execution_count": 38,
     "metadata": {},
     "output_type": "execute_result"
    }
   ],
   "source": [
    "os.path.isfile('Python01-文件读写的方法.ipynb')"
   ]
  },
  {
   "cell_type": "code",
   "execution_count": 42,
   "metadata": {},
   "outputs": [
    {
     "data": {
      "text/plain": [
       "True"
      ]
     },
     "execution_count": 42,
     "metadata": {},
     "output_type": "execute_result"
    }
   ],
   "source": [
    "os.path.isdir('os')"
   ]
  },
  {
   "cell_type": "code",
   "execution_count": 9,
   "metadata": {},
   "outputs": [
    {
     "data": {
      "text/plain": [
       "'nmw_asset/dev/renderfarm/temp/10.94.96.41\\\\2'"
      ]
     },
     "execution_count": 9,
     "metadata": {},
     "output_type": "execute_result"
    }
   ],
   "source": [
    "import os\n",
    "r1=\"nmw_asset/dev/renderfarm/temp/\"\n",
    "r2='10.94.96.41'\n",
    "r3='2'\n",
    "os.path.join(r1,r2,r3)"
   ]
  }
 ],
 "metadata": {
  "kernelspec": {
   "display_name": "Python 3",
   "language": "python",
   "name": "python3"
  },
  "language_info": {
   "codemirror_mode": {
    "name": "ipython",
    "version": 3
   },
   "file_extension": ".py",
   "mimetype": "text/x-python",
   "name": "python",
   "nbconvert_exporter": "python",
   "pygments_lexer": "ipython3",
   "version": "3.6.1"
  }
 },
 "nbformat": 4,
 "nbformat_minor": 2
}
