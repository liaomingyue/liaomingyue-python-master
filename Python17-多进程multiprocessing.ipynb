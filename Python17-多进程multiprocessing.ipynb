{
 "cells": [
  {
   "cell_type": "code",
   "execution_count": 45,
   "metadata": {},
   "outputs": [
    {
     "name": "stdout",
     "output_type": "stream",
     "text": [
      "p.pid 14584\n",
      "p.name Process-44\n",
      "p.is_active True\n"
     ]
    }
   ],
   "source": [
    "import multiprocessing\n",
    "import time\n",
    "def worker(interval):\n",
    "    n=5\n",
    "    while n>0:\n",
    "        print(\"The time is {0}\".format(time.ctime()))\n",
    "        time.sleep(interval)\n",
    "        n-=1\n",
    "if __name__==\"__main__\":\n",
    "    p=multiprocessing.Process(target=worker,args=(3,))\n",
    "    p.start()\n",
    "    print(\"p.pid\",p.pid)\n",
    "    print(\"p.name\",p.name)\n",
    "    print(\"p.is_active\",p.is_alive())"
   ]
  }
 ],
 "metadata": {
  "kernelspec": {
   "display_name": "Python 3",
   "language": "python",
   "name": "python3"
  },
  "language_info": {
   "codemirror_mode": {
    "name": "ipython",
    "version": 3
   },
   "file_extension": ".py",
   "mimetype": "text/x-python",
   "name": "python",
   "nbconvert_exporter": "python",
   "pygments_lexer": "ipython3",
   "version": "3.6.1"
  }
 },
 "nbformat": 4,
 "nbformat_minor": 2
}
