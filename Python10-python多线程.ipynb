{
 "cells": [
  {
   "cell_type": "code",
   "execution_count": 3,
   "metadata": {},
   "outputs": [
    {
     "name": "stdout",
     "output_type": "stream",
     "text": [
      "当前时间是:Mon Jun 12 14:34:57 2017\n"
     ]
    }
   ],
   "source": [
    "from time import ctime,sleep\n",
    "print('当前时间是:%s'%ctime())"
   ]
  },
  {
   "cell_type": "code",
   "execution_count": 13,
   "metadata": {},
   "outputs": [
    {
     "name": "stdout",
     "output_type": "stream",
     "text": [
      "我正在听音乐:丑八怪，当前时间是：Mon Jun 12 14:50:54 2017\n",
      "我正在听音乐:丑八怪，当前时间是：Mon Jun 12 14:50:55 2017\n",
      "我正在看电影:摔跤吧爸爸,当前时间为：Mon Jun 12 14:50:56 2017\n",
      "我正在看电影:摔跤吧爸爸,当前时间为：Mon Jun 12 14:50:57 2017\n",
      "今天结束，当前时间为:Mon Jun 12 14:50:58 2017\n"
     ]
    }
   ],
   "source": [
    "#单线程\n",
    "from time import ctime,sleep\n",
    "def music(what):\n",
    "    for i in range(2):\n",
    "        print(\"我正在听音乐:%s，当前时间是：%s\"%(what,ctime()))\n",
    "        sleep(1)\n",
    "def movie(what):\n",
    "    for i in range(2):\n",
    "        print(\"我正在看电影:%s,当前时间为：%s\"%(what,ctime()))\n",
    "        sleep(1)\n",
    "music('丑八怪')\n",
    "movie('摔跤吧爸爸')\n",
    "print('今天结束，当前时间为:%s'%ctime())"
   ]
  },
  {
   "cell_type": "code",
   "execution_count": 23,
   "metadata": {},
   "outputs": [
    {
     "name": "stdout",
     "output_type": "stream",
     "text": [
      "我正在听音乐:丑八怪，当前时间是：Mon Jun 12 15:05:58 2017\n",
      "*****:听音乐和看电影结束Mon Jun 12 15:05:58 2017\n",
      "我正在看电影:摔跤吧爸爸,当前时间为：Mon Jun 12 15:05:58 2017\n",
      "我正在听音乐:丑八怪，当前时间是：Mon Jun 12 15:06:00 2017\n",
      "我正在看电影:摔跤吧爸爸,当前时间为：Mon Jun 12 15:06:03 2017\n"
     ]
    }
   ],
   "source": [
    "#多线程\n",
    "from time import ctime,sleep\n",
    "import threading\n",
    "\n",
    "def music(what):\n",
    "    for i in range(2):\n",
    "        print(\"我正在听音乐:%s，当前时间是：%s\"%(what,ctime()))\n",
    "        sleep(2)\n",
    "def movie(what):\n",
    "    for i in range(2):\n",
    "        print(\"我正在看电影:%s,当前时间为：%s\"%(what,ctime()))\n",
    "        sleep(5)\n",
    "#开启线程\n",
    "threads=[]\n",
    "th1=threading.Thread(target=music,args=('丑八怪',))\n",
    "threads.append(th1)\n",
    "th2=threading.Thread(target=movie,args=('摔跤吧爸爸',))\n",
    "threads.append(th2)\n",
    "\n",
    "#执行线程\n",
    "for th in threads:\n",
    "    th.setDaemon(True)\n",
    "    th.start()\n",
    "print('*****:听音乐和看电影结束{}'.format(ctime()))\n",
    "\n",
    "#在.py执行从执行结果来看，子线程（muisc 、move ）和主线程（print('*****:听音乐和看电影结束{}'.format(ctime()))）都是同一时间启动，但由于主线程执行完结束，所以导致子线程也终止。"
   ]
  },
  {
   "cell_type": "code",
   "execution_count": 1,
   "metadata": {},
   "outputs": [
    {
     "name": "stdout",
     "output_type": "stream",
     "text": [
      "我正在听音乐:丑八怪，当前时间是：Wed Jun 14 18:00:39 2017我正在看电影:摔跤吧爸爸,当前时间为：Wed Jun 14 18:00:39 2017\n",
      "\n",
      "我正在听音乐:丑八怪，当前时间是：Wed Jun 14 18:00:41 2017\n",
      "我正在看电影:摔跤吧爸爸,当前时间为：Wed Jun 14 18:00:44 2017\n",
      "*****:听音乐和看电影结束Wed Jun 14 18:00:49 2017\n"
     ]
    }
   ],
   "source": [
    "#多线程\n",
    "from time import ctime,sleep\n",
    "import threading\n",
    "\n",
    "def music(what):\n",
    "    for i in range(2):\n",
    "        print(\"我正在听音乐:%s，当前时间是：%s\"%(what,ctime()))\n",
    "        sleep(2)\n",
    "def movie(what):\n",
    "    for i in range(2):\n",
    "        print(\"我正在看电影:%s,当前时间为：%s\"%(what,ctime()))\n",
    "        sleep(5)\n",
    "#开启线程\n",
    "threads=[]\n",
    "th1=threading.Thread(target=music,args=('丑八怪',))\n",
    "threads.append(th1)\n",
    "th2=threading.Thread(target=movie,args=('摔跤吧爸爸',))\n",
    "threads.append(th2)\n",
    "\n",
    "#执行线程\n",
    "for th in threads:\n",
    "    th.setDaemon(True)\n",
    "    th.start()\n",
    "th.join()#阻塞主线程\n",
    "print('*****:听音乐和看电影结束{}'.format(ctime()))"
   ]
  },
  {
   "cell_type": "code",
   "execution_count": 5,
   "metadata": {},
   "outputs": [
    {
     "name": "stdout",
     "output_type": "stream",
     "text": [
      "多线程：\n",
      "Task 1 executed.\n",
      "Task 2 executed.\n",
      "耗时：0.01151秒\n",
      "---------------------------\n",
      "单线程：\n",
      "Task 1 executed.\n",
      "Task 2 executed.\n",
      "耗时：6.00071秒\n",
      "主线程\n"
     ]
    }
   ],
   "source": [
    "import threading #导入threading包\n",
    "from time import sleep\n",
    "import time\n",
    " \n",
    "def task1(): \n",
    "    print (\"Task 1 executed.\" )\n",
    "    sleep(1)\n",
    " \n",
    "def task2():\n",
    "    print (\"Task 2 executed.\" )\n",
    "    sleep(5)\n",
    "     \n",
    "print(\"多线程：\")\n",
    "starttime=time.time(); #记录开始时间\n",
    "threads = [] #创建一个线程列表，用于存放需要执行的子线程\n",
    "t1 = threading.Thread(target=task1) #创建第一个子线程，子线程的任务是调用task1函数，注意函数名后不能有（）\n",
    "threads.append(t1)#将这个子线程添加到线程列表中\n",
    "t2 = threading.Thread(target=task2)#创建第二个子线程\n",
    "threads.append(t2)#将这个子线程添加到线程列表中\n",
    " \n",
    "for t in threads: #遍历线程列表\n",
    "    t.setDaemon(True) #将线程声明为守护线程，必须在start() 方法调用之前设置，如果不设置为守护线程程序会被无限挂起\n",
    "    t.start() #启动子线程\n",
    "endtime=time.time();#记录程序结束时间\n",
    "totaltime=endtime-starttime;#计算程序执行耗时\n",
    "print (\"耗时：{0:.5f}秒\" .format(totaltime)); #格式输出耗时\n",
    "print('---------------------------')\n",
    " \n",
    "#以下为普通的单线程执行过程，不需解释\n",
    "print(\"单线程：\")\n",
    "starttime=time.time();\n",
    "task1();\n",
    "task2();\n",
    "endtime=time.time();\n",
    "totaltime=endtime-starttime;\n",
    "print (\"耗时：{0:.5f}秒\" .format(totaltime));\n",
    "print('主线程')"
   ]
  },
  {
   "cell_type": "code",
   "execution_count": 2,
   "metadata": {},
   "outputs": [
    {
     "name": "stdout",
     "output_type": "stream",
     "text": [
      "hello timer\n",
      "hello timer\n",
      "hello timer\n",
      "hello timer\n"
     ]
    }
   ],
   "source": [
    "import threading\n",
    "import time\n",
    "def fun_timer():\n",
    "    print(\"hello timer\")\n",
    "    global timer\n",
    "    timer=threading.Timer(2.5,fun_timer)\n",
    "    timer.start()\n",
    "timer=threading.Timer(1,fun_timer)\n",
    "timer.start()\n",
    "# time.sleep(15)\n",
    "# timer.cancel()"
   ]
  },
  {
   "cell_type": "code",
   "execution_count": null,
   "metadata": {
    "collapsed": true
   },
   "outputs": [],
   "source": []
  }
 ],
 "metadata": {
  "kernelspec": {
   "display_name": "Python 3",
   "language": "python",
   "name": "python3"
  },
  "language_info": {
   "codemirror_mode": {
    "name": "ipython",
    "version": 3
   },
   "file_extension": ".py",
   "mimetype": "text/x-python",
   "name": "python",
   "nbconvert_exporter": "python",
   "pygments_lexer": "ipython3",
   "version": "3.6.1"
  }
 },
 "nbformat": 4,
 "nbformat_minor": 2
}
