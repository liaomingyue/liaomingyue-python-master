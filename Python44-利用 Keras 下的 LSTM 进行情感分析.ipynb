{
 "cells": [
  {
   "cell_type": "markdown",
   "metadata": {},
   "source": [
    "[参考](http://blog.csdn.net/william_2015/article/details/72978387)"
   ]
  },
  {
   "cell_type": "markdown",
   "metadata": {},
   "source": [
    "# 数据介绍\n",
    "本文采用的数据来自 kaggle[UMICH SI650 - Sentiment Classification](https://www.kaggle.com/c/si650winter11/team)\n",
    "\n",
    "下面是training.txt的数据：**每个句子对一个一个1或0，代表着这个句子的情绪为积极或者消极**\n",
    "\n",
    "    1\tBrokeback Mountain was so awesome.\n",
    "    1\tBrokeback Mountain was an AWESOME movie.\n",
    "    1\tman i loved brokeback mountain!\n",
    "    1\tdudeee i LOVED brokeback mountain!!!!\n",
    "    1\tI either LOVE Brokeback Mountain or think it's great that homosexuality is becoming more acceptable!:\n",
    "    1\tAnyway, thats why I love \" Brokeback Mountain.\n",
    "    1\tBrokeback mountain was beautiful...\n",
    "    0\tda vinci code was a terrible movie.\n",
    "    0\tThen again, the Da Vinci code is super shitty movie, and it made like 700 million.\n",
    "    0\tThe Da Vinci Code comes out tomorrow, which sucks.\n",
    "    0\ti thought the da vinci code movie was really boring.\n"
   ]
  },
  {
   "cell_type": "markdown",
   "metadata": {},
   "source": [
    "# 引入包"
   ]
  },
  {
   "cell_type": "code",
   "execution_count": 22,
   "metadata": {},
   "outputs": [],
   "source": [
    "from keras.layers import Activation,Dense\n",
    "from keras.layers.embeddings import Embedding\n",
    "from keras.layers.recurrent import LSTM\n",
    "from keras.models import Sequential\n",
    "from keras.preprocessing import sequence\n",
    "from sklearn.model_selection import train_test_split\n",
    "import nltk #实现分词\n",
    "import collections# 统计词频\n",
    "import numpy as np\n",
    "import csv"
   ]
  },
  {
   "cell_type": "markdown",
   "metadata": {},
   "source": [
    "# 数据准备"
   ]
  },
  {
   "cell_type": "code",
   "execution_count": 11,
   "metadata": {},
   "outputs": [
    {
     "name": "stdout",
     "output_type": "stream",
     "text": [
      "max_len 42\n",
      "nb_words 2328\n",
      "num_recs 7086\n"
     ]
    }
   ],
   "source": [
    "maxlen=0 #句子最大长度\n",
    "word_freqs=collections.Counter() #词频\n",
    "num_recs=0 #样本数\n",
    "with open('files/data/python44-data/training.txt','r+',encoding='utf-8') as file:\n",
    "    for line in file:\n",
    "        labels,sentence=line.strip().split(\"\\t\")\n",
    "        words=nltk.word_tokenize(sentence.lower())\n",
    "        if len(words)>maxlen:\n",
    "            maxlen=len(words)\n",
    "        for word in words:\n",
    "            word_freqs[word]+=1\n",
    "        num_recs+=1\n",
    "print('max_len',maxlen)\n",
    "print('nb_words',len(word_freqs))\n",
    "print('num_recs',num_recs)"
   ]
  },
  {
   "cell_type": "markdown",
   "metadata": {},
   "source": [
    "可见一共有 2324 个不同的单词，包括标点符号。每句话最多包含 42 个单词。 根据不同单词的个数 (nb_words)，我们可以把词汇表的大小设为一个定值，并且对于不在词汇表里的单词，把它们用伪单词 UNK 代替。 根据句子的最大长度 (max_lens)，我们可以统一句子的长度，把短句用 0 填充。 \n",
    "\n",
    "依前所述，我们把 VOCABULARY_SIZE 设为 2002。包含训练数据中按词频从大到小排序后的前 2000 个单词，外加一个伪单词 UNK 和填充单词 0。 最大句子长度 MAX_SENTENCE_LENGTH 设为40。 "
   ]
  },
  {
   "cell_type": "code",
   "execution_count": 12,
   "metadata": {},
   "outputs": [],
   "source": [
    "MAX_FEATURES = 2000\n",
    "MAX_SENTENCE_LENGTH = 40"
   ]
  },
  {
   "cell_type": "markdown",
   "metadata": {},
   "source": [
    "建立两个 lookup tables，分别是 word2index 和 index2word，用于单词和数字转换 "
   ]
  },
  {
   "cell_type": "code",
   "execution_count": 15,
   "metadata": {},
   "outputs": [],
   "source": [
    "vocab_size = min(MAX_FEATURES, len(word_freqs)) + 2\n",
    "word2index = {x[0]: i+2 for i, x in enumerate(word_freqs.most_common(MAX_FEATURES))}\n",
    "word2index[\"PAD\"] = 0\n",
    "word2index[\"UNK\"] = 1\n",
    "index2word = {v:k for k, v in word2index.items()}"
   ]
  },
  {
   "cell_type": "markdown",
   "metadata": {},
   "source": [
    "下面就是根据 lookup table 把句子转换成数字序列了，并把长度统一到 MAX_SENTENCE_LENGTH， 不够的填 0 ， 多出的截掉。 "
   ]
  },
  {
   "cell_type": "code",
   "execution_count": 16,
   "metadata": {},
   "outputs": [],
   "source": [
    "X = np.empty(num_recs,dtype=list)\n",
    "y = np.zeros(num_recs)\n",
    "i=0\n",
    "with open('files/data/python44-data/training.txt','r+',encoding='utf-8') as f:\n",
    "    for line in f:\n",
    "        label, sentence = line.strip().split(\"\\t\")\n",
    "        words = nltk.word_tokenize(sentence.lower())\n",
    "        seqs = []\n",
    "        for word in words:\n",
    "            if word in word2index:\n",
    "                seqs.append(word2index[word])\n",
    "            else:\n",
    "                seqs.append(word2index[\"UNK\"])\n",
    "        X[i] = seqs\n",
    "        y[i] = int(label)\n",
    "        i += 1\n",
    "X = sequence.pad_sequences(X, maxlen=MAX_SENTENCE_LENGTH)"
   ]
  },
  {
   "cell_type": "markdown",
   "metadata": {},
   "source": [
    "划分数据，80% 作为训练数据，20% 作为测试数据"
   ]
  },
  {
   "cell_type": "code",
   "execution_count": 17,
   "metadata": {},
   "outputs": [],
   "source": [
    "Xtrain, Xtest, ytrain, ytest = train_test_split(X, y, test_size=0.2, random_state=42)"
   ]
  },
  {
   "cell_type": "markdown",
   "metadata": {},
   "source": [
    "# 构建神经网络\n",
    "- 损失函数用 binary_crossentropy， \n",
    "- 优化方法用 adam。 \n",
    "- 至于 EMBEDDING_SIZE , HIDDEN_LAYER_SIZE , 以及训练时用到的BATCH_SIZE 和 NUM_EPOCHS 这些超参数，就凭经验多跑几次调优了。 "
   ]
  },
  {
   "cell_type": "code",
   "execution_count": 18,
   "metadata": {},
   "outputs": [],
   "source": [
    "EMBEDDING_SIZE = 128\n",
    "HIDDEN_LAYER_SIZE = 64\n",
    "\n",
    "model = Sequential()\n",
    "model.add(Embedding(vocab_size, EMBEDDING_SIZE,input_length=MAX_SENTENCE_LENGTH))\n",
    "model.add(LSTM(HIDDEN_LAYER_SIZE, dropout=0.2, recurrent_dropout=0.2))\n",
    "model.add(Dense(1))\n",
    "model.add(Activation(\"sigmoid\"))\n",
    "model.compile(loss=\"binary_crossentropy\", optimizer=\"adam\",metrics=[\"accuracy\"])"
   ]
  },
  {
   "cell_type": "markdown",
   "metadata": {},
   "source": [
    "# 训练模型\n",
    "10 个 epochs 和 batch_size 取 32 来训练这个网络。在每个 epoch， 我们用测试集当作验证集。 "
   ]
  },
  {
   "cell_type": "code",
   "execution_count": 19,
   "metadata": {},
   "outputs": [
    {
     "name": "stdout",
     "output_type": "stream",
     "text": [
      "Train on 5668 samples, validate on 1418 samples\n",
      "Epoch 1/10\n",
      "5668/5668 [==============================] - 19s 3ms/step - loss: 0.2203 - acc: 0.9174 - val_loss: 0.0567 - val_acc: 0.9824\n",
      "Epoch 2/10\n",
      "5668/5668 [==============================] - 15s 3ms/step - loss: 0.0189 - acc: 0.9949 - val_loss: 0.0505 - val_acc: 0.9831\n",
      "Epoch 3/10\n",
      "5668/5668 [==============================] - 14s 3ms/step - loss: 0.0074 - acc: 0.9981 - val_loss: 0.0456 - val_acc: 0.9887\n",
      "Epoch 4/10\n",
      "5668/5668 [==============================] - 16s 3ms/step - loss: 0.0035 - acc: 0.9991 - val_loss: 0.0623 - val_acc: 0.9873\n",
      "Epoch 5/10\n",
      "5668/5668 [==============================] - 15s 3ms/step - loss: 0.0109 - acc: 0.9961 - val_loss: 0.0594 - val_acc: 0.9795\n",
      "Epoch 6/10\n",
      "5668/5668 [==============================] - 16s 3ms/step - loss: 0.0038 - acc: 0.9989 - val_loss: 0.0495 - val_acc: 0.9880\n",
      "Epoch 7/10\n",
      "5668/5668 [==============================] - 14s 3ms/step - loss: 0.0010 - acc: 0.9998 - val_loss: 0.0662 - val_acc: 0.9859\n",
      "Epoch 8/10\n",
      "5668/5668 [==============================] - 16s 3ms/step - loss: 0.0016 - acc: 0.9998 - val_loss: 0.0638 - val_acc: 0.9859\n",
      "Epoch 9/10\n",
      "5668/5668 [==============================] - 17s 3ms/step - loss: 0.0011 - acc: 0.9998 - val_loss: 0.0658 - val_acc: 0.9866\n",
      "Epoch 10/10\n",
      "5668/5668 [==============================] - 14s 3ms/step - loss: 4.7153e-04 - acc: 0.9998 - val_loss: 0.0705 - val_acc: 0.9873\n"
     ]
    },
    {
     "data": {
      "text/plain": [
       "<keras.callbacks.History at 0x201ecb37fd0>"
      ]
     },
     "execution_count": 19,
     "metadata": {},
     "output_type": "execute_result"
    }
   ],
   "source": [
    "BATCH_SIZE = 32\n",
    "NUM_EPOCHS = 10\n",
    "model.fit(Xtrain, ytrain, batch_size=BATCH_SIZE, epochs=NUM_EPOCHS,validation_data=(Xtest, ytest))"
   ]
  },
  {
   "cell_type": "code",
   "execution_count": 20,
   "metadata": {},
   "outputs": [
    {
     "name": "stdout",
     "output_type": "stream",
     "text": [
      "1418/1418 [==============================] - 1s 520us/step\n",
      "\n",
      "Test score: 0.071, accuracy: 0.987\n",
      "预测   真实      句子\n",
      " 0      0     is it just me , or does harry potter suck ? ...\n",
      " 1      1     brokeback mountain was beautiful .\n",
      " 1      1     we 're gon na like watch mission impossible or hoot . (\n",
      " 1      1     anyway , we both love harry potter , books , pirates of the caribbean , taking pictures , and writing and we have the same sarcastic and quirky sense of humor .\n",
      " 1      1     brokeback mountain was an awesome movie .\n"
     ]
    }
   ],
   "source": [
    "# 预测结果\n",
    "score, acc = model.evaluate(Xtest, ytest, batch_size=BATCH_SIZE)\n",
    "print(\"\\nTest score: %.3f, accuracy: %.3f\" % (score, acc))\n",
    "print('{}   {}      {}'.format('预测','真实','句子'))\n",
    "for i in range(5):\n",
    "    idx = np.random.randint(len(Xtest))\n",
    "    xtest = Xtest[idx].reshape(1,40)\n",
    "    ylabel = ytest[idx]\n",
    "    ypred = model.predict(xtest)[0][0]\n",
    "    sent = \" \".join([index2word[x] for x in xtest[0] if x != 0])\n",
    "    print(' {}      {}     {}'.format(int(round(ypred)), int(ylabel), sent))"
   ]
  },
  {
   "cell_type": "code",
   "execution_count": 21,
   "metadata": {},
   "outputs": [
    {
     "name": "stdout",
     "output_type": "stream",
     "text": [
      "积极   I love reading.\n",
      "消极   You are so boring.\n"
     ]
    }
   ],
   "source": [
    "# 测试其他句子\n",
    "INPUT_SENTENCES = ['I love reading.','You are so boring.']\n",
    "XX = np.empty(len(INPUT_SENTENCES),dtype=list)\n",
    "i=0\n",
    "for sentence in  INPUT_SENTENCES:\n",
    "    words = nltk.word_tokenize(sentence.lower())\n",
    "    seq = []\n",
    "    for word in words:\n",
    "        if word in word2index:\n",
    "            seq.append(word2index[word])\n",
    "        else:\n",
    "            seq.append(word2index['UNK'])\n",
    "    XX[i] = seq\n",
    "    i+=1\n",
    "\n",
    "XX = sequence.pad_sequences(XX, maxlen=MAX_SENTENCE_LENGTH)\n",
    "labels = [int(round(x[0])) for x in model.predict(XX) ]\n",
    "label2word = {1:'积极', 0:'消极'}\n",
    "for i in range(len(INPUT_SENTENCES)):\n",
    "    print('{}   {}'.format(label2word[labels[i]], INPUT_SENTENCES[i]))"
   ]
  },
  {
   "cell_type": "code",
   "execution_count": 26,
   "metadata": {},
   "outputs": [],
   "source": [
    "# 测试结果\n",
    "with open('files/data/python44-data/results.csv','a+',encoding='utf-8',newline='') as file:\n",
    "    csv_writer=csv.writer(file)\n",
    "    with open('files/data/python44-data/testdata.txt','r+',encoding='utf-8') as f:\n",
    "        INPUT_SENTENCES=f.readlines()\n",
    "        XX = np.empty(len(INPUT_SENTENCES),dtype=list)\n",
    "        i=0\n",
    "        for sentence in  INPUT_SENTENCES:\n",
    "            words = nltk.word_tokenize(sentence.lower())\n",
    "            seq = []\n",
    "            for word in words:\n",
    "                if word in word2index:\n",
    "                    seq.append(word2index[word])\n",
    "                else:\n",
    "                    seq.append(word2index['UNK'])\n",
    "            XX[i] = seq\n",
    "            i+=1\n",
    "        XX = sequence.pad_sequences(XX, maxlen=MAX_SENTENCE_LENGTH)\n",
    "        labels = [int(round(x[0])) for x in model.predict(XX) ]\n",
    "        label2word = {1:'positive', 0:'negative'}\n",
    "        for i in range(len(INPUT_SENTENCES)):\n",
    "            csv_writer.writerow((label2word[labels[i]], INPUT_SENTENCES[i].strip()))"
   ]
  }
 ],
 "metadata": {
  "kernelspec": {
   "display_name": "Python 3",
   "language": "python",
   "name": "python3"
  },
  "language_info": {
   "codemirror_mode": {
    "name": "ipython",
    "version": 3
   },
   "file_extension": ".py",
   "mimetype": "text/x-python",
   "name": "python",
   "nbconvert_exporter": "python",
   "pygments_lexer": "ipython3",
   "version": "3.6.1"
  }
 },
 "nbformat": 4,
 "nbformat_minor": 2
}
